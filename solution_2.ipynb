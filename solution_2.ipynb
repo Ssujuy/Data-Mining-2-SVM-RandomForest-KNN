{
  "cells": [
    {
      "cell_type": "markdown",
      "metadata": {
        "id": "1DChKpjjTOkU"
      },
      "source": [
        "# Data mining 2024"
      ]
    },
    {
      "cell_type": "markdown",
      "source": [
        "## Author: Αρβανίτης Κωνσταντίνος\n",
        "## Author: Κούκουζας Αντώνης\n",
        "\n",
        "## ΑΜ: 1115201700007\n",
        "## ΑΜ: 1115201700059"
      ],
      "metadata": {
        "id": "BTQXOm7dmnJR"
      }
    },
    {
      "cell_type": "markdown",
      "source": [
        "### Helper Functions"
      ],
      "metadata": {
        "id": "RAVzj_UNE18s"
      }
    },
    {
      "cell_type": "markdown",
      "source": [
        "#### 10 Fold Validation"
      ],
      "metadata": {
        "id": "fQDXHiWnE6Oy"
      }
    },
    {
      "cell_type": "markdown",
      "source": [
        "- `Performs N-fold cross-validation on a given model using data X and labels Y, calculating precision, recall, and F1-scores`\n",
        "\n",
        "\n",
        "- `Prints metrics for each fold and the overall mean and standard deviation across all folds.`\n"
      ],
      "metadata": {
        "id": "ETY_xXSWPBUw"
      }
    },
    {
      "cell_type": "code",
      "source": [
        "def NFoldVal(model,N,X,Y):\n",
        "\n",
        "  kf = KFold(n_splits=N, shuffle=True, random_state=42)\n",
        "\n",
        "  precision_scores = []\n",
        "  recall_scores = []\n",
        "  f1_scores = []\n",
        "\n",
        "  for fold, (train_index, val_index) in enumerate(kf.split(X)):\n",
        "      print(f\"Fold {fold + 1}\")\n",
        "\n",
        "      X_train_fold, X_val_fold = X[train_index], X[val_index]\n",
        "      Y_train_fold, Y_val_fold = Y.iloc[train_index], Y.iloc[val_index]\n",
        "\n",
        "      model.fit(X_train_fold, Y_train_fold)\n",
        "\n",
        "      Y_val_pred = model.predict(X_val_fold)\n",
        "\n",
        "      precision = precision_score(Y_val_fold, Y_val_pred, average='weighted')\n",
        "      recall = recall_score(Y_val_fold, Y_val_pred, average='weighted')\n",
        "      f1 = f1_score(Y_val_fold, Y_val_pred, average='weighted')\n",
        "\n",
        "      print(f\"Precision: {precision:.4f}\")\n",
        "      print(f\"Recall: {recall:.4f}\")\n",
        "      print(f\"F1-score: {f1:.4f}\")\n",
        "\n",
        "      precision_scores.append(precision)\n",
        "      recall_scores.append(recall)\n",
        "      f1_scores.append(f1)\n",
        "      print(\"-\" * 30)\n",
        "\n",
        "  mean_precision = np.mean(precision_scores)\n",
        "  mean_recall = np.mean(recall_scores)\n",
        "  mean_f1 = np.mean(f1_scores)\n",
        "\n",
        "  std_precision = np.std(precision_scores)\n",
        "  std_recall = np.std(recall_scores)\n",
        "  std_f1 = np.std(f1_scores)\n",
        "\n",
        "  print(f'Mean Precision: {mean_precision:.4f} (± {std_precision:.4f})')\n",
        "  print(f'Mean Recall: {mean_recall:.4f} (± {std_recall:.4f})')\n",
        "  print(f'Mean F1-score: {mean_f1:.4f} (± {std_f1:.4f})')\n"
      ],
      "metadata": {
        "id": "DYyuOeyZE8bz"
      },
      "execution_count": null,
      "outputs": []
    },
    {
      "cell_type": "markdown",
      "metadata": {
        "id": "2U6otrp1TOkX"
      },
      "source": [
        "## Preprocessing"
      ]
    },
    {
      "cell_type": "markdown",
      "metadata": {
        "id": "IsdE_vaVTOkX"
      },
      "source": [
        "### Import prerequisites"
      ]
    },
    {
      "cell_type": "code",
      "execution_count": null,
      "metadata": {
        "colab": {
          "base_uri": "https://localhost:8080/"
        },
        "id": "ekBosRWtTOkY",
        "outputId": "9066844d-a55c-4f62-f437-1e08135c1a21"
      },
      "outputs": [
        {
          "output_type": "stream",
          "name": "stderr",
          "text": [
            "[nltk_data] Downloading package stopwords to /root/nltk_data...\n",
            "[nltk_data]   Package stopwords is already up-to-date!\n",
            "[nltk_data] Downloading package punkt to /root/nltk_data...\n",
            "[nltk_data]   Package punkt is already up-to-date!\n"
          ]
        }
      ],
      "source": [
        "import pandas as pd\n",
        "import warnings\n",
        "import re\n",
        "import matplotlib.pyplot as plt\n",
        "from wordcloud import WordCloud\n",
        "from collections import Counter\n",
        "from bs4 import BeautifulSoup\n",
        "import nltk\n",
        "from nltk.corpus import stopwords\n",
        "from nltk.tokenize import word_tokenize\n",
        "import numpy as np\n",
        "import string\n",
        "from sklearn.feature_extraction.text import TfidfVectorizer\n",
        "from sklearn.metrics.pairwise import cosine_similarity\n",
        "from sklearn.model_selection import train_test_split\n",
        "from sklearn.svm import SVC\n",
        "from sklearn.metrics import precision_score, recall_score, f1_score, classification_report\n",
        "from sklearn.model_selection import KFold\n",
        "from sklearn.ensemble import RandomForestClassifier\n",
        "from sklearn.neighbors import KNeighborsClassifier\n",
        "from transformers import pipeline\n",
        "from keras.preprocessing.text import Tokenizer\n",
        "from keras.preprocessing.sequence import pad_sequences\n",
        "import requests\n",
        "import zipfile\n",
        "import os\n",
        "\n",
        "nltk.download('stopwords')\n",
        "nltk.download('punkt')\n",
        "warnings.filterwarnings(\"ignore\")"
      ]
    },
    {
      "cell_type": "markdown",
      "source": [
        "### Install Glove 6b 100D"
      ],
      "metadata": {
        "id": "_e_SZRmg9pDq"
      }
    },
    {
      "cell_type": "markdown",
      "source": [
        "- `Checks if the directory \"glove.6B\" exists; if not, downloads and extracts the GloVe embeddings.`\n",
        "- `If the directory already exists, it skips the download and extraction process.`"
      ],
      "metadata": {
        "id": "_hRY91V5PSEP"
      }
    },
    {
      "cell_type": "code",
      "source": [
        "directory_path = \"glove.6B\"\n",
        "\n",
        "if not os.path.exists(directory_path):\n",
        "    response = requests.get(\"https://nlp.stanford.edu/data/glove.6B.zip\")\n",
        "    zip_path = \"glove.6B.zip\"\n",
        "\n",
        "    with open(zip_path, \"wb\") as f:\n",
        "        f.write(response.content)\n",
        "\n",
        "    print(f\"Downloaded {zip_path}\")\n",
        "\n",
        "    with zipfile.ZipFile(zip_path, 'r') as zip_ref:\n",
        "        zip_ref.extractall(directory_path)\n",
        "\n",
        "    print(\"Extraction completed.\")\n",
        "\n",
        "    os.remove(zip_path)\n",
        "else:\n",
        "    print(f\"Directory {directory_path} already exists. Skipping download and extraction.\")\n"
      ],
      "metadata": {
        "colab": {
          "base_uri": "https://localhost:8080/"
        },
        "id": "L4btzEK69vDJ",
        "outputId": "c9d1e36e-7ade-4a8a-8772-9c5c5eccb4b1"
      },
      "execution_count": null,
      "outputs": [
        {
          "output_type": "stream",
          "name": "stdout",
          "text": [
            "Directory glove.6B already exists. Skipping download and extraction.\n"
          ]
        }
      ]
    },
    {
      "cell_type": "markdown",
      "metadata": {
        "id": "lnS6xxGYTOkc"
      },
      "source": [
        "### Load files"
      ]
    },
    {
      "cell_type": "markdown",
      "metadata": {
        "id": "0lbhF4C3xjlh"
      },
      "source": [
        "#### 2019"
      ]
    },
    {
      "cell_type": "code",
      "execution_count": null,
      "metadata": {
        "colab": {
          "base_uri": "https://localhost:8080/"
        },
        "id": "dj8r3TBMTOkd",
        "outputId": "ecc21518-1be6-49b2-a107-3304580e48b3"
      },
      "outputs": [
        {
          "output_type": "stream",
          "name": "stdout",
          "text": [
            "(287433, 6)\n"
          ]
        }
      ],
      "source": [
        "april_2019 = pd.read_csv('2019/april/reviews.csv')\n",
        "\n",
        "print(april_2019.shape)"
      ]
    },
    {
      "cell_type": "code",
      "execution_count": null,
      "metadata": {
        "colab": {
          "base_uri": "https://localhost:8080/",
          "height": 424
        },
        "id": "7b7FRMX5TOke",
        "outputId": "f4117af0-0849-46fb-96a5-f308f317def5"
      },
      "outputs": [
        {
          "output_type": "execute_result",
          "data": {
            "text/plain": [
              "        listing_id         id        date  reviewer_id     reviewer_name  \\\n",
              "0            10595     271535  2011-05-20       189305            Pamela   \n",
              "1            10595    1994237  2012-08-15       289831            Andrey   \n",
              "2            10595    4678609  2013-05-20      2635427             Ahmet   \n",
              "3            10595   12502994  2014-05-04      2422327              Hema   \n",
              "4            10595   19482948  2014-09-13      6737784           Mariana   \n",
              "...            ...        ...         ...          ...               ...   \n",
              "287428    33587252  434935542  2019-04-09    120451958               Sam   \n",
              "287429    33595046  434643359  2019-04-08     53558070          Leonidas   \n",
              "287430    33608367  433965320  2019-04-07    146479545          Dimitris   \n",
              "287431    33628045  435380704  2019-04-10    102419339  Maria Del Carmen   \n",
              "287432    33646553  435996099  2019-04-12     76723802             Laura   \n",
              "\n",
              "                                                 comments  \n",
              "0       The apartment was wonderful, fully equiped, be...  \n",
              "1       Emmanouil was an excellent host. He provided u...  \n",
              "2       Manos is a very good host, he is kind and help...  \n",
              "3       Our stay in Emmanouil home was comfortable, qu...  \n",
              "4       Fantastic accommodation very well located to v...  \n",
              "...                                                   ...  \n",
              "287428  The host canceled this reservation 16 days bef...  \n",
              "287429  The flat was very clean and new, all sanitary ...  \n",
              "287430  Καλαίσθητος χώρος! Εξαιρετική τοποθεσία πολύ κ...  \n",
              "287431  Very nice renovated place, nice decoration. Gr...  \n",
              "287432  Very friendly hosts. The apartment was clean a...  \n",
              "\n",
              "[287433 rows x 6 columns]"
            ],
            "text/html": [
              "\n",
              "  <div id=\"df-220bff08-280f-46d9-9420-f8f7673896f8\" class=\"colab-df-container\">\n",
              "    <div>\n",
              "<style scoped>\n",
              "    .dataframe tbody tr th:only-of-type {\n",
              "        vertical-align: middle;\n",
              "    }\n",
              "\n",
              "    .dataframe tbody tr th {\n",
              "        vertical-align: top;\n",
              "    }\n",
              "\n",
              "    .dataframe thead th {\n",
              "        text-align: right;\n",
              "    }\n",
              "</style>\n",
              "<table border=\"1\" class=\"dataframe\">\n",
              "  <thead>\n",
              "    <tr style=\"text-align: right;\">\n",
              "      <th></th>\n",
              "      <th>listing_id</th>\n",
              "      <th>id</th>\n",
              "      <th>date</th>\n",
              "      <th>reviewer_id</th>\n",
              "      <th>reviewer_name</th>\n",
              "      <th>comments</th>\n",
              "    </tr>\n",
              "  </thead>\n",
              "  <tbody>\n",
              "    <tr>\n",
              "      <th>0</th>\n",
              "      <td>10595</td>\n",
              "      <td>271535</td>\n",
              "      <td>2011-05-20</td>\n",
              "      <td>189305</td>\n",
              "      <td>Pamela</td>\n",
              "      <td>The apartment was wonderful, fully equiped, be...</td>\n",
              "    </tr>\n",
              "    <tr>\n",
              "      <th>1</th>\n",
              "      <td>10595</td>\n",
              "      <td>1994237</td>\n",
              "      <td>2012-08-15</td>\n",
              "      <td>289831</td>\n",
              "      <td>Andrey</td>\n",
              "      <td>Emmanouil was an excellent host. He provided u...</td>\n",
              "    </tr>\n",
              "    <tr>\n",
              "      <th>2</th>\n",
              "      <td>10595</td>\n",
              "      <td>4678609</td>\n",
              "      <td>2013-05-20</td>\n",
              "      <td>2635427</td>\n",
              "      <td>Ahmet</td>\n",
              "      <td>Manos is a very good host, he is kind and help...</td>\n",
              "    </tr>\n",
              "    <tr>\n",
              "      <th>3</th>\n",
              "      <td>10595</td>\n",
              "      <td>12502994</td>\n",
              "      <td>2014-05-04</td>\n",
              "      <td>2422327</td>\n",
              "      <td>Hema</td>\n",
              "      <td>Our stay in Emmanouil home was comfortable, qu...</td>\n",
              "    </tr>\n",
              "    <tr>\n",
              "      <th>4</th>\n",
              "      <td>10595</td>\n",
              "      <td>19482948</td>\n",
              "      <td>2014-09-13</td>\n",
              "      <td>6737784</td>\n",
              "      <td>Mariana</td>\n",
              "      <td>Fantastic accommodation very well located to v...</td>\n",
              "    </tr>\n",
              "    <tr>\n",
              "      <th>...</th>\n",
              "      <td>...</td>\n",
              "      <td>...</td>\n",
              "      <td>...</td>\n",
              "      <td>...</td>\n",
              "      <td>...</td>\n",
              "      <td>...</td>\n",
              "    </tr>\n",
              "    <tr>\n",
              "      <th>287428</th>\n",
              "      <td>33587252</td>\n",
              "      <td>434935542</td>\n",
              "      <td>2019-04-09</td>\n",
              "      <td>120451958</td>\n",
              "      <td>Sam</td>\n",
              "      <td>The host canceled this reservation 16 days bef...</td>\n",
              "    </tr>\n",
              "    <tr>\n",
              "      <th>287429</th>\n",
              "      <td>33595046</td>\n",
              "      <td>434643359</td>\n",
              "      <td>2019-04-08</td>\n",
              "      <td>53558070</td>\n",
              "      <td>Leonidas</td>\n",
              "      <td>The flat was very clean and new, all sanitary ...</td>\n",
              "    </tr>\n",
              "    <tr>\n",
              "      <th>287430</th>\n",
              "      <td>33608367</td>\n",
              "      <td>433965320</td>\n",
              "      <td>2019-04-07</td>\n",
              "      <td>146479545</td>\n",
              "      <td>Dimitris</td>\n",
              "      <td>Καλαίσθητος χώρος! Εξαιρετική τοποθεσία πολύ κ...</td>\n",
              "    </tr>\n",
              "    <tr>\n",
              "      <th>287431</th>\n",
              "      <td>33628045</td>\n",
              "      <td>435380704</td>\n",
              "      <td>2019-04-10</td>\n",
              "      <td>102419339</td>\n",
              "      <td>Maria Del Carmen</td>\n",
              "      <td>Very nice renovated place, nice decoration. Gr...</td>\n",
              "    </tr>\n",
              "    <tr>\n",
              "      <th>287432</th>\n",
              "      <td>33646553</td>\n",
              "      <td>435996099</td>\n",
              "      <td>2019-04-12</td>\n",
              "      <td>76723802</td>\n",
              "      <td>Laura</td>\n",
              "      <td>Very friendly hosts. The apartment was clean a...</td>\n",
              "    </tr>\n",
              "  </tbody>\n",
              "</table>\n",
              "<p>287433 rows × 6 columns</p>\n",
              "</div>\n",
              "    <div class=\"colab-df-buttons\">\n",
              "\n",
              "  <div class=\"colab-df-container\">\n",
              "    <button class=\"colab-df-convert\" onclick=\"convertToInteractive('df-220bff08-280f-46d9-9420-f8f7673896f8')\"\n",
              "            title=\"Convert this dataframe to an interactive table.\"\n",
              "            style=\"display:none;\">\n",
              "\n",
              "  <svg xmlns=\"http://www.w3.org/2000/svg\" height=\"24px\" viewBox=\"0 -960 960 960\">\n",
              "    <path d=\"M120-120v-720h720v720H120Zm60-500h600v-160H180v160Zm220 220h160v-160H400v160Zm0 220h160v-160H400v160ZM180-400h160v-160H180v160Zm440 0h160v-160H620v160ZM180-180h160v-160H180v160Zm440 0h160v-160H620v160Z\"/>\n",
              "  </svg>\n",
              "    </button>\n",
              "\n",
              "  <style>\n",
              "    .colab-df-container {\n",
              "      display:flex;\n",
              "      gap: 12px;\n",
              "    }\n",
              "\n",
              "    .colab-df-convert {\n",
              "      background-color: #E8F0FE;\n",
              "      border: none;\n",
              "      border-radius: 50%;\n",
              "      cursor: pointer;\n",
              "      display: none;\n",
              "      fill: #1967D2;\n",
              "      height: 32px;\n",
              "      padding: 0 0 0 0;\n",
              "      width: 32px;\n",
              "    }\n",
              "\n",
              "    .colab-df-convert:hover {\n",
              "      background-color: #E2EBFA;\n",
              "      box-shadow: 0px 1px 2px rgba(60, 64, 67, 0.3), 0px 1px 3px 1px rgba(60, 64, 67, 0.15);\n",
              "      fill: #174EA6;\n",
              "    }\n",
              "\n",
              "    .colab-df-buttons div {\n",
              "      margin-bottom: 4px;\n",
              "    }\n",
              "\n",
              "    [theme=dark] .colab-df-convert {\n",
              "      background-color: #3B4455;\n",
              "      fill: #D2E3FC;\n",
              "    }\n",
              "\n",
              "    [theme=dark] .colab-df-convert:hover {\n",
              "      background-color: #434B5C;\n",
              "      box-shadow: 0px 1px 3px 1px rgba(0, 0, 0, 0.15);\n",
              "      filter: drop-shadow(0px 1px 2px rgba(0, 0, 0, 0.3));\n",
              "      fill: #FFFFFF;\n",
              "    }\n",
              "  </style>\n",
              "\n",
              "    <script>\n",
              "      const buttonEl =\n",
              "        document.querySelector('#df-220bff08-280f-46d9-9420-f8f7673896f8 button.colab-df-convert');\n",
              "      buttonEl.style.display =\n",
              "        google.colab.kernel.accessAllowed ? 'block' : 'none';\n",
              "\n",
              "      async function convertToInteractive(key) {\n",
              "        const element = document.querySelector('#df-220bff08-280f-46d9-9420-f8f7673896f8');\n",
              "        const dataTable =\n",
              "          await google.colab.kernel.invokeFunction('convertToInteractive',\n",
              "                                                    [key], {});\n",
              "        if (!dataTable) return;\n",
              "\n",
              "        const docLinkHtml = 'Like what you see? Visit the ' +\n",
              "          '<a target=\"_blank\" href=https://colab.research.google.com/notebooks/data_table.ipynb>data table notebook</a>'\n",
              "          + ' to learn more about interactive tables.';\n",
              "        element.innerHTML = '';\n",
              "        dataTable['output_type'] = 'display_data';\n",
              "        await google.colab.output.renderOutput(dataTable, element);\n",
              "        const docLink = document.createElement('div');\n",
              "        docLink.innerHTML = docLinkHtml;\n",
              "        element.appendChild(docLink);\n",
              "      }\n",
              "    </script>\n",
              "  </div>\n",
              "\n",
              "\n",
              "<div id=\"df-7601243a-ce93-4d7f-a6fa-bdd571559312\">\n",
              "  <button class=\"colab-df-quickchart\" onclick=\"quickchart('df-7601243a-ce93-4d7f-a6fa-bdd571559312')\"\n",
              "            title=\"Suggest charts\"\n",
              "            style=\"display:none;\">\n",
              "\n",
              "<svg xmlns=\"http://www.w3.org/2000/svg\" height=\"24px\"viewBox=\"0 0 24 24\"\n",
              "     width=\"24px\">\n",
              "    <g>\n",
              "        <path d=\"M19 3H5c-1.1 0-2 .9-2 2v14c0 1.1.9 2 2 2h14c1.1 0 2-.9 2-2V5c0-1.1-.9-2-2-2zM9 17H7v-7h2v7zm4 0h-2V7h2v10zm4 0h-2v-4h2v4z\"/>\n",
              "    </g>\n",
              "</svg>\n",
              "  </button>\n",
              "\n",
              "<style>\n",
              "  .colab-df-quickchart {\n",
              "      --bg-color: #E8F0FE;\n",
              "      --fill-color: #1967D2;\n",
              "      --hover-bg-color: #E2EBFA;\n",
              "      --hover-fill-color: #174EA6;\n",
              "      --disabled-fill-color: #AAA;\n",
              "      --disabled-bg-color: #DDD;\n",
              "  }\n",
              "\n",
              "  [theme=dark] .colab-df-quickchart {\n",
              "      --bg-color: #3B4455;\n",
              "      --fill-color: #D2E3FC;\n",
              "      --hover-bg-color: #434B5C;\n",
              "      --hover-fill-color: #FFFFFF;\n",
              "      --disabled-bg-color: #3B4455;\n",
              "      --disabled-fill-color: #666;\n",
              "  }\n",
              "\n",
              "  .colab-df-quickchart {\n",
              "    background-color: var(--bg-color);\n",
              "    border: none;\n",
              "    border-radius: 50%;\n",
              "    cursor: pointer;\n",
              "    display: none;\n",
              "    fill: var(--fill-color);\n",
              "    height: 32px;\n",
              "    padding: 0;\n",
              "    width: 32px;\n",
              "  }\n",
              "\n",
              "  .colab-df-quickchart:hover {\n",
              "    background-color: var(--hover-bg-color);\n",
              "    box-shadow: 0 1px 2px rgba(60, 64, 67, 0.3), 0 1px 3px 1px rgba(60, 64, 67, 0.15);\n",
              "    fill: var(--button-hover-fill-color);\n",
              "  }\n",
              "\n",
              "  .colab-df-quickchart-complete:disabled,\n",
              "  .colab-df-quickchart-complete:disabled:hover {\n",
              "    background-color: var(--disabled-bg-color);\n",
              "    fill: var(--disabled-fill-color);\n",
              "    box-shadow: none;\n",
              "  }\n",
              "\n",
              "  .colab-df-spinner {\n",
              "    border: 2px solid var(--fill-color);\n",
              "    border-color: transparent;\n",
              "    border-bottom-color: var(--fill-color);\n",
              "    animation:\n",
              "      spin 1s steps(1) infinite;\n",
              "  }\n",
              "\n",
              "  @keyframes spin {\n",
              "    0% {\n",
              "      border-color: transparent;\n",
              "      border-bottom-color: var(--fill-color);\n",
              "      border-left-color: var(--fill-color);\n",
              "    }\n",
              "    20% {\n",
              "      border-color: transparent;\n",
              "      border-left-color: var(--fill-color);\n",
              "      border-top-color: var(--fill-color);\n",
              "    }\n",
              "    30% {\n",
              "      border-color: transparent;\n",
              "      border-left-color: var(--fill-color);\n",
              "      border-top-color: var(--fill-color);\n",
              "      border-right-color: var(--fill-color);\n",
              "    }\n",
              "    40% {\n",
              "      border-color: transparent;\n",
              "      border-right-color: var(--fill-color);\n",
              "      border-top-color: var(--fill-color);\n",
              "    }\n",
              "    60% {\n",
              "      border-color: transparent;\n",
              "      border-right-color: var(--fill-color);\n",
              "    }\n",
              "    80% {\n",
              "      border-color: transparent;\n",
              "      border-right-color: var(--fill-color);\n",
              "      border-bottom-color: var(--fill-color);\n",
              "    }\n",
              "    90% {\n",
              "      border-color: transparent;\n",
              "      border-bottom-color: var(--fill-color);\n",
              "    }\n",
              "  }\n",
              "</style>\n",
              "\n",
              "  <script>\n",
              "    async function quickchart(key) {\n",
              "      const quickchartButtonEl =\n",
              "        document.querySelector('#' + key + ' button');\n",
              "      quickchartButtonEl.disabled = true;  // To prevent multiple clicks.\n",
              "      quickchartButtonEl.classList.add('colab-df-spinner');\n",
              "      try {\n",
              "        const charts = await google.colab.kernel.invokeFunction(\n",
              "            'suggestCharts', [key], {});\n",
              "      } catch (error) {\n",
              "        console.error('Error during call to suggestCharts:', error);\n",
              "      }\n",
              "      quickchartButtonEl.classList.remove('colab-df-spinner');\n",
              "      quickchartButtonEl.classList.add('colab-df-quickchart-complete');\n",
              "    }\n",
              "    (() => {\n",
              "      let quickchartButtonEl =\n",
              "        document.querySelector('#df-7601243a-ce93-4d7f-a6fa-bdd571559312 button');\n",
              "      quickchartButtonEl.style.display =\n",
              "        google.colab.kernel.accessAllowed ? 'block' : 'none';\n",
              "    })();\n",
              "  </script>\n",
              "</div>\n",
              "    </div>\n",
              "  </div>\n"
            ],
            "application/vnd.google.colaboratory.intrinsic+json": {
              "type": "dataframe",
              "variable_name": "april_2019"
            }
          },
          "metadata": {},
          "execution_count": 7
        }
      ],
      "source": [
        "april_2019"
      ]
    },
    {
      "cell_type": "markdown",
      "metadata": {
        "id": "Y_XgsCyjxzDv"
      },
      "source": [
        "#### 2023"
      ]
    },
    {
      "cell_type": "code",
      "source": [
        "september_2023 = pd.read_csv('2023/september/reviews.csv')\n",
        "\n",
        "print(september_2023.shape)"
      ],
      "metadata": {
        "id": "ZUZ1DcPSJbtO",
        "colab": {
          "base_uri": "https://localhost:8080/"
        },
        "outputId": "50b6912d-d880-417d-81b0-1f88ae295676"
      },
      "execution_count": null,
      "outputs": [
        {
          "output_type": "stream",
          "name": "stdout",
          "text": [
            "(579991, 6)\n"
          ]
        }
      ]
    },
    {
      "cell_type": "code",
      "source": [
        "september_2023"
      ],
      "metadata": {
        "id": "DSNqlz9IJwDu",
        "colab": {
          "base_uri": "https://localhost:8080/",
          "height": 424
        },
        "outputId": "837b7c8e-38b6-46e9-8bf1-1ad10bfd9637"
      },
      "execution_count": null,
      "outputs": [
        {
          "output_type": "execute_result",
          "data": {
            "text/plain": [
              "                listing_id                  id        date  reviewer_id  \\\n",
              "0                    10595              271535  2011-05-20       189305   \n",
              "1                    10595             1994237  2012-08-15       289831   \n",
              "2                   695173            12184199  2014-04-25      8110664   \n",
              "3                   695173            13197921  2014-05-21     15424264   \n",
              "4                   695173            13393565  2014-05-26      8504413   \n",
              "...                    ...                 ...         ...          ...   \n",
              "579986  907232678149978212  919337814709267516  2023-06-22    521195448   \n",
              "579987  907240732091113014  914329802652702980  2023-06-15    189004631   \n",
              "579988  907580582384946768  920767347593508939  2023-06-24     27520465   \n",
              "579989  918498007621872407  920806964027780226  2023-06-24     95857022   \n",
              "579990  918498007621872407  921572641902853942  2023-06-25    349001847   \n",
              "\n",
              "       reviewer_name                                           comments  \n",
              "0             Pamela  The apartment was wonderful, fully equiped, be...  \n",
              "1             Andrey  Emmanouil was an excellent host. He provided u...  \n",
              "2            Claudio  My wife, my daughter and I spent five days of ...  \n",
              "3              Bahar  We had a great stay at Soula's apartment. We l...  \n",
              "4              Sarah  Beautiful, clean apartment with plenty of spac...  \n",
              "...              ...                                                ...  \n",
              "579986       Grejisa                                          Very good  \n",
              "579987        Julian  Die Unterkunft ist gepflegt und sauber. Der Bl...  \n",
              "579988       Hussein  Great place for our last night in Athens.<br/>...  \n",
              "579989           Zoe  Lovely place in Athens! The flat is just renov...  \n",
              "579990     Nikiforos  Υπέροχος και πεντακάθαρος χώρος και ο οικοδεσπ...  \n",
              "\n",
              "[579991 rows x 6 columns]"
            ],
            "text/html": [
              "\n",
              "  <div id=\"df-78dc9d30-afd1-4290-af84-6ff7d48e05e7\" class=\"colab-df-container\">\n",
              "    <div>\n",
              "<style scoped>\n",
              "    .dataframe tbody tr th:only-of-type {\n",
              "        vertical-align: middle;\n",
              "    }\n",
              "\n",
              "    .dataframe tbody tr th {\n",
              "        vertical-align: top;\n",
              "    }\n",
              "\n",
              "    .dataframe thead th {\n",
              "        text-align: right;\n",
              "    }\n",
              "</style>\n",
              "<table border=\"1\" class=\"dataframe\">\n",
              "  <thead>\n",
              "    <tr style=\"text-align: right;\">\n",
              "      <th></th>\n",
              "      <th>listing_id</th>\n",
              "      <th>id</th>\n",
              "      <th>date</th>\n",
              "      <th>reviewer_id</th>\n",
              "      <th>reviewer_name</th>\n",
              "      <th>comments</th>\n",
              "    </tr>\n",
              "  </thead>\n",
              "  <tbody>\n",
              "    <tr>\n",
              "      <th>0</th>\n",
              "      <td>10595</td>\n",
              "      <td>271535</td>\n",
              "      <td>2011-05-20</td>\n",
              "      <td>189305</td>\n",
              "      <td>Pamela</td>\n",
              "      <td>The apartment was wonderful, fully equiped, be...</td>\n",
              "    </tr>\n",
              "    <tr>\n",
              "      <th>1</th>\n",
              "      <td>10595</td>\n",
              "      <td>1994237</td>\n",
              "      <td>2012-08-15</td>\n",
              "      <td>289831</td>\n",
              "      <td>Andrey</td>\n",
              "      <td>Emmanouil was an excellent host. He provided u...</td>\n",
              "    </tr>\n",
              "    <tr>\n",
              "      <th>2</th>\n",
              "      <td>695173</td>\n",
              "      <td>12184199</td>\n",
              "      <td>2014-04-25</td>\n",
              "      <td>8110664</td>\n",
              "      <td>Claudio</td>\n",
              "      <td>My wife, my daughter and I spent five days of ...</td>\n",
              "    </tr>\n",
              "    <tr>\n",
              "      <th>3</th>\n",
              "      <td>695173</td>\n",
              "      <td>13197921</td>\n",
              "      <td>2014-05-21</td>\n",
              "      <td>15424264</td>\n",
              "      <td>Bahar</td>\n",
              "      <td>We had a great stay at Soula's apartment. We l...</td>\n",
              "    </tr>\n",
              "    <tr>\n",
              "      <th>4</th>\n",
              "      <td>695173</td>\n",
              "      <td>13393565</td>\n",
              "      <td>2014-05-26</td>\n",
              "      <td>8504413</td>\n",
              "      <td>Sarah</td>\n",
              "      <td>Beautiful, clean apartment with plenty of spac...</td>\n",
              "    </tr>\n",
              "    <tr>\n",
              "      <th>...</th>\n",
              "      <td>...</td>\n",
              "      <td>...</td>\n",
              "      <td>...</td>\n",
              "      <td>...</td>\n",
              "      <td>...</td>\n",
              "      <td>...</td>\n",
              "    </tr>\n",
              "    <tr>\n",
              "      <th>579986</th>\n",
              "      <td>907232678149978212</td>\n",
              "      <td>919337814709267516</td>\n",
              "      <td>2023-06-22</td>\n",
              "      <td>521195448</td>\n",
              "      <td>Grejisa</td>\n",
              "      <td>Very good</td>\n",
              "    </tr>\n",
              "    <tr>\n",
              "      <th>579987</th>\n",
              "      <td>907240732091113014</td>\n",
              "      <td>914329802652702980</td>\n",
              "      <td>2023-06-15</td>\n",
              "      <td>189004631</td>\n",
              "      <td>Julian</td>\n",
              "      <td>Die Unterkunft ist gepflegt und sauber. Der Bl...</td>\n",
              "    </tr>\n",
              "    <tr>\n",
              "      <th>579988</th>\n",
              "      <td>907580582384946768</td>\n",
              "      <td>920767347593508939</td>\n",
              "      <td>2023-06-24</td>\n",
              "      <td>27520465</td>\n",
              "      <td>Hussein</td>\n",
              "      <td>Great place for our last night in Athens.&lt;br/&gt;...</td>\n",
              "    </tr>\n",
              "    <tr>\n",
              "      <th>579989</th>\n",
              "      <td>918498007621872407</td>\n",
              "      <td>920806964027780226</td>\n",
              "      <td>2023-06-24</td>\n",
              "      <td>95857022</td>\n",
              "      <td>Zoe</td>\n",
              "      <td>Lovely place in Athens! The flat is just renov...</td>\n",
              "    </tr>\n",
              "    <tr>\n",
              "      <th>579990</th>\n",
              "      <td>918498007621872407</td>\n",
              "      <td>921572641902853942</td>\n",
              "      <td>2023-06-25</td>\n",
              "      <td>349001847</td>\n",
              "      <td>Nikiforos</td>\n",
              "      <td>Υπέροχος και πεντακάθαρος χώρος και ο οικοδεσπ...</td>\n",
              "    </tr>\n",
              "  </tbody>\n",
              "</table>\n",
              "<p>579991 rows × 6 columns</p>\n",
              "</div>\n",
              "    <div class=\"colab-df-buttons\">\n",
              "\n",
              "  <div class=\"colab-df-container\">\n",
              "    <button class=\"colab-df-convert\" onclick=\"convertToInteractive('df-78dc9d30-afd1-4290-af84-6ff7d48e05e7')\"\n",
              "            title=\"Convert this dataframe to an interactive table.\"\n",
              "            style=\"display:none;\">\n",
              "\n",
              "  <svg xmlns=\"http://www.w3.org/2000/svg\" height=\"24px\" viewBox=\"0 -960 960 960\">\n",
              "    <path d=\"M120-120v-720h720v720H120Zm60-500h600v-160H180v160Zm220 220h160v-160H400v160Zm0 220h160v-160H400v160ZM180-400h160v-160H180v160Zm440 0h160v-160H620v160ZM180-180h160v-160H180v160Zm440 0h160v-160H620v160Z\"/>\n",
              "  </svg>\n",
              "    </button>\n",
              "\n",
              "  <style>\n",
              "    .colab-df-container {\n",
              "      display:flex;\n",
              "      gap: 12px;\n",
              "    }\n",
              "\n",
              "    .colab-df-convert {\n",
              "      background-color: #E8F0FE;\n",
              "      border: none;\n",
              "      border-radius: 50%;\n",
              "      cursor: pointer;\n",
              "      display: none;\n",
              "      fill: #1967D2;\n",
              "      height: 32px;\n",
              "      padding: 0 0 0 0;\n",
              "      width: 32px;\n",
              "    }\n",
              "\n",
              "    .colab-df-convert:hover {\n",
              "      background-color: #E2EBFA;\n",
              "      box-shadow: 0px 1px 2px rgba(60, 64, 67, 0.3), 0px 1px 3px 1px rgba(60, 64, 67, 0.15);\n",
              "      fill: #174EA6;\n",
              "    }\n",
              "\n",
              "    .colab-df-buttons div {\n",
              "      margin-bottom: 4px;\n",
              "    }\n",
              "\n",
              "    [theme=dark] .colab-df-convert {\n",
              "      background-color: #3B4455;\n",
              "      fill: #D2E3FC;\n",
              "    }\n",
              "\n",
              "    [theme=dark] .colab-df-convert:hover {\n",
              "      background-color: #434B5C;\n",
              "      box-shadow: 0px 1px 3px 1px rgba(0, 0, 0, 0.15);\n",
              "      filter: drop-shadow(0px 1px 2px rgba(0, 0, 0, 0.3));\n",
              "      fill: #FFFFFF;\n",
              "    }\n",
              "  </style>\n",
              "\n",
              "    <script>\n",
              "      const buttonEl =\n",
              "        document.querySelector('#df-78dc9d30-afd1-4290-af84-6ff7d48e05e7 button.colab-df-convert');\n",
              "      buttonEl.style.display =\n",
              "        google.colab.kernel.accessAllowed ? 'block' : 'none';\n",
              "\n",
              "      async function convertToInteractive(key) {\n",
              "        const element = document.querySelector('#df-78dc9d30-afd1-4290-af84-6ff7d48e05e7');\n",
              "        const dataTable =\n",
              "          await google.colab.kernel.invokeFunction('convertToInteractive',\n",
              "                                                    [key], {});\n",
              "        if (!dataTable) return;\n",
              "\n",
              "        const docLinkHtml = 'Like what you see? Visit the ' +\n",
              "          '<a target=\"_blank\" href=https://colab.research.google.com/notebooks/data_table.ipynb>data table notebook</a>'\n",
              "          + ' to learn more about interactive tables.';\n",
              "        element.innerHTML = '';\n",
              "        dataTable['output_type'] = 'display_data';\n",
              "        await google.colab.output.renderOutput(dataTable, element);\n",
              "        const docLink = document.createElement('div');\n",
              "        docLink.innerHTML = docLinkHtml;\n",
              "        element.appendChild(docLink);\n",
              "      }\n",
              "    </script>\n",
              "  </div>\n",
              "\n",
              "\n",
              "<div id=\"df-d5930ae5-08bf-42e1-aa32-09078067c675\">\n",
              "  <button class=\"colab-df-quickchart\" onclick=\"quickchart('df-d5930ae5-08bf-42e1-aa32-09078067c675')\"\n",
              "            title=\"Suggest charts\"\n",
              "            style=\"display:none;\">\n",
              "\n",
              "<svg xmlns=\"http://www.w3.org/2000/svg\" height=\"24px\"viewBox=\"0 0 24 24\"\n",
              "     width=\"24px\">\n",
              "    <g>\n",
              "        <path d=\"M19 3H5c-1.1 0-2 .9-2 2v14c0 1.1.9 2 2 2h14c1.1 0 2-.9 2-2V5c0-1.1-.9-2-2-2zM9 17H7v-7h2v7zm4 0h-2V7h2v10zm4 0h-2v-4h2v4z\"/>\n",
              "    </g>\n",
              "</svg>\n",
              "  </button>\n",
              "\n",
              "<style>\n",
              "  .colab-df-quickchart {\n",
              "      --bg-color: #E8F0FE;\n",
              "      --fill-color: #1967D2;\n",
              "      --hover-bg-color: #E2EBFA;\n",
              "      --hover-fill-color: #174EA6;\n",
              "      --disabled-fill-color: #AAA;\n",
              "      --disabled-bg-color: #DDD;\n",
              "  }\n",
              "\n",
              "  [theme=dark] .colab-df-quickchart {\n",
              "      --bg-color: #3B4455;\n",
              "      --fill-color: #D2E3FC;\n",
              "      --hover-bg-color: #434B5C;\n",
              "      --hover-fill-color: #FFFFFF;\n",
              "      --disabled-bg-color: #3B4455;\n",
              "      --disabled-fill-color: #666;\n",
              "  }\n",
              "\n",
              "  .colab-df-quickchart {\n",
              "    background-color: var(--bg-color);\n",
              "    border: none;\n",
              "    border-radius: 50%;\n",
              "    cursor: pointer;\n",
              "    display: none;\n",
              "    fill: var(--fill-color);\n",
              "    height: 32px;\n",
              "    padding: 0;\n",
              "    width: 32px;\n",
              "  }\n",
              "\n",
              "  .colab-df-quickchart:hover {\n",
              "    background-color: var(--hover-bg-color);\n",
              "    box-shadow: 0 1px 2px rgba(60, 64, 67, 0.3), 0 1px 3px 1px rgba(60, 64, 67, 0.15);\n",
              "    fill: var(--button-hover-fill-color);\n",
              "  }\n",
              "\n",
              "  .colab-df-quickchart-complete:disabled,\n",
              "  .colab-df-quickchart-complete:disabled:hover {\n",
              "    background-color: var(--disabled-bg-color);\n",
              "    fill: var(--disabled-fill-color);\n",
              "    box-shadow: none;\n",
              "  }\n",
              "\n",
              "  .colab-df-spinner {\n",
              "    border: 2px solid var(--fill-color);\n",
              "    border-color: transparent;\n",
              "    border-bottom-color: var(--fill-color);\n",
              "    animation:\n",
              "      spin 1s steps(1) infinite;\n",
              "  }\n",
              "\n",
              "  @keyframes spin {\n",
              "    0% {\n",
              "      border-color: transparent;\n",
              "      border-bottom-color: var(--fill-color);\n",
              "      border-left-color: var(--fill-color);\n",
              "    }\n",
              "    20% {\n",
              "      border-color: transparent;\n",
              "      border-left-color: var(--fill-color);\n",
              "      border-top-color: var(--fill-color);\n",
              "    }\n",
              "    30% {\n",
              "      border-color: transparent;\n",
              "      border-left-color: var(--fill-color);\n",
              "      border-top-color: var(--fill-color);\n",
              "      border-right-color: var(--fill-color);\n",
              "    }\n",
              "    40% {\n",
              "      border-color: transparent;\n",
              "      border-right-color: var(--fill-color);\n",
              "      border-top-color: var(--fill-color);\n",
              "    }\n",
              "    60% {\n",
              "      border-color: transparent;\n",
              "      border-right-color: var(--fill-color);\n",
              "    }\n",
              "    80% {\n",
              "      border-color: transparent;\n",
              "      border-right-color: var(--fill-color);\n",
              "      border-bottom-color: var(--fill-color);\n",
              "    }\n",
              "    90% {\n",
              "      border-color: transparent;\n",
              "      border-bottom-color: var(--fill-color);\n",
              "    }\n",
              "  }\n",
              "</style>\n",
              "\n",
              "  <script>\n",
              "    async function quickchart(key) {\n",
              "      const quickchartButtonEl =\n",
              "        document.querySelector('#' + key + ' button');\n",
              "      quickchartButtonEl.disabled = true;  // To prevent multiple clicks.\n",
              "      quickchartButtonEl.classList.add('colab-df-spinner');\n",
              "      try {\n",
              "        const charts = await google.colab.kernel.invokeFunction(\n",
              "            'suggestCharts', [key], {});\n",
              "      } catch (error) {\n",
              "        console.error('Error during call to suggestCharts:', error);\n",
              "      }\n",
              "      quickchartButtonEl.classList.remove('colab-df-spinner');\n",
              "      quickchartButtonEl.classList.add('colab-df-quickchart-complete');\n",
              "    }\n",
              "    (() => {\n",
              "      let quickchartButtonEl =\n",
              "        document.querySelector('#df-d5930ae5-08bf-42e1-aa32-09078067c675 button');\n",
              "      quickchartButtonEl.style.display =\n",
              "        google.colab.kernel.accessAllowed ? 'block' : 'none';\n",
              "    })();\n",
              "  </script>\n",
              "</div>\n",
              "    </div>\n",
              "  </div>\n"
            ],
            "application/vnd.google.colaboratory.intrinsic+json": {
              "type": "dataframe",
              "variable_name": "september_2023"
            }
          },
          "metadata": {},
          "execution_count": 9
        }
      ]
    },
    {
      "cell_type": "markdown",
      "metadata": {
        "id": "dgkcAa3Wxg5h"
      },
      "source": [
        "### Clean data"
      ]
    },
    {
      "cell_type": "markdown",
      "source": [
        "- `Preprocesses the 'comments' column by converting text to lowercase, removing URLs, mentions, hashtags, non-alphabetic characters, and punctuation.`\n",
        "- `Further cleans the text by normalizing whitespace and removing English stopwords.`\n",
        "\n",
        "\n"
      ],
      "metadata": {
        "id": "GkpcZv6uPoJW"
      }
    },
    {
      "cell_type": "markdown",
      "metadata": {
        "id": "OiM6GUBGx64B"
      },
      "source": [
        "#### 2019"
      ]
    },
    {
      "cell_type": "code",
      "execution_count": null,
      "metadata": {
        "id": "qMXdaekXTSWF"
      },
      "outputs": [],
      "source": [
        "columns_to_keep = ['id', 'comments']\n",
        "\n",
        "year2019 = april_2019\n",
        "\n",
        "year2019.reset_index(drop=True, inplace=True)\n",
        "\n",
        "year2019 = year2019[columns_to_keep]"
      ]
    },
    {
      "cell_type": "code",
      "execution_count": null,
      "metadata": {
        "colab": {
          "base_uri": "https://localhost:8080/"
        },
        "id": "Vj-Q1HBDWaR6",
        "outputId": "5b624d5c-3af4-43db-fe65-4fec4b703722"
      },
      "outputs": [
        {
          "output_type": "stream",
          "name": "stdout",
          "text": [
            "         id                                           comments\n",
            "0    271535  apartment wonderful fully equiped beautiful de...\n",
            "1   1994237  emmanouil excellent host provided us everythin...\n",
            "2   4678609  manos good host kind helpful apartments spacio...\n",
            "3  12502994  stay emmanouil home comfortable quite perfect ...\n",
            "4  19482948  fantastic accommodation well located visit ath...\n",
            "5  30613190  manos gracious host made sure arrived airport ...\n",
            "6  32403740  manos amazing host start polite arrived late n...\n",
            "7  33072497  appartement correspondant bien la description ...\n",
            "8  48058154  apartment exactly described comfortable clean ...\n",
            "9  57859668  great apartment owner people stayed bedrooms b...\n"
          ]
        }
      ],
      "source": [
        "\n",
        "year2019['comments'] = year2019['comments'].astype(str).str.lower()\n",
        "\n",
        "year2019['comments'] = year2019['comments'].replace(r'http\\S+|www\\S+|https\\S+', '', regex=True)\n",
        "\n",
        "year2019['comments'] = year2019['comments'].replace(r'\\@\\w+|\\#', '', regex=True)\n",
        "\n",
        "year2019['comments'] = year2019['comments'].apply(lambda x: re.sub(r'[^a-zA-Z\\s]', '', x))\n",
        "\n",
        "year2019['comments'] = year2019['comments'].apply(lambda x: x.translate(str.maketrans('', '', string.punctuation)))\n",
        "\n",
        "year2019['comments'] = year2019['comments'].apply(lambda x: re.sub(r'\\s+', ' ', x).strip())\n",
        "\n",
        "stop_words = set(stopwords.words('english'))\n",
        "\n",
        "year2019['comments'] = year2019['comments'].apply(\n",
        "    lambda x: ' '.join([word for word in word_tokenize(x) if word not in stop_words])\n",
        ")\n",
        "\n",
        "print(year2019.head(10))\n"
      ]
    },
    {
      "cell_type": "markdown",
      "source": [
        "#### 2023"
      ],
      "metadata": {
        "id": "w6m0enMAJ4Sq"
      }
    },
    {
      "cell_type": "code",
      "source": [
        "columns_to_keep = ['id', 'comments']\n",
        "\n",
        "year2023 = september_2023\n",
        "\n",
        "year2023.reset_index(drop=True, inplace=True)\n",
        "\n",
        "year2023 = year2023[columns_to_keep]"
      ],
      "metadata": {
        "id": "b72iHqkMJ6Qx"
      },
      "execution_count": null,
      "outputs": []
    },
    {
      "cell_type": "code",
      "source": [
        "\n",
        "year2023['comments'] = year2023['comments'].astype(str).str.lower()\n",
        "\n",
        "year2023['comments'] = year2023['comments'].replace(r'http\\S+|www\\S+|https\\S+', '', regex=True)\n",
        "\n",
        "year2023['comments'] = year2023['comments'].replace(r'\\@\\w+|\\#', '', regex=True)\n",
        "\n",
        "year2023['comments'] = year2023['comments'].apply(lambda x: re.sub(r'[^a-zA-Z\\s]', '', x))\n",
        "\n",
        "year2023['comments'] = year2023['comments'].apply(lambda x: x.translate(str.maketrans('', '', string.punctuation)))\n",
        "\n",
        "year2023['comments'] = year2023['comments'].apply(lambda x: re.sub(r'\\s+', ' ', x).strip())\n",
        "\n",
        "stop_words = set(stopwords.words('english'))\n",
        "\n",
        "year2023['comments'] = year2023['comments'].apply(\n",
        "    lambda x: ' '.join([word for word in word_tokenize(x) if word not in stop_words])\n",
        ")\n",
        "\n",
        "print(year2023.head(10))"
      ],
      "metadata": {
        "id": "4lSnxiEbJ9JQ",
        "colab": {
          "base_uri": "https://localhost:8080/"
        },
        "outputId": "928f20cf-597f-4826-a06f-f6fdc79a2e75"
      },
      "execution_count": null,
      "outputs": [
        {
          "output_type": "stream",
          "name": "stdout",
          "text": [
            "         id                                           comments\n",
            "0    271535  apartment wonderful fully equiped beautiful de...\n",
            "1   1994237  emmanouil excellent host provided us everythin...\n",
            "2  12184199  wife daughter spent five days beauty light col...\n",
            "3  13197921  great stay soulas apartment loved decoration f...\n",
            "4  13393565  beautiful clean apartment plenty space stayed ...\n",
            "5  13715172  soula charming host handed keys person gave va...\n",
            "6   4678609  manos good host kind helpful apartments spacio...\n",
            "7  12502994  stay emmanouil home comfortable quite perfect ...\n",
            "8  19482948  fantastic accommodation well located visit ath...\n",
            "9  30613190  manos gracious host made sure arrived airport ...\n"
          ]
        }
      ]
    },
    {
      "cell_type": "markdown",
      "metadata": {
        "id": "M84NFcUEyBqw"
      },
      "source": [
        "### Sampling dataset"
      ]
    },
    {
      "cell_type": "markdown",
      "source": [
        "- `Samples 2000 random rows from the 'year2019' DataFrame and resets the index for the new sample.'`\n",
        "- `Prints the first few rows of the sampled DataFrame for verification.`"
      ],
      "metadata": {
        "id": "gQdDcxZAP0Um"
      }
    },
    {
      "cell_type": "markdown",
      "metadata": {
        "id": "LmRqbeQnx_F8"
      },
      "source": [
        "#### 2019"
      ]
    },
    {
      "cell_type": "code",
      "execution_count": null,
      "metadata": {
        "colab": {
          "base_uri": "https://localhost:8080/"
        },
        "id": "1YeUhSDPaDzN",
        "outputId": "1c9476d8-aaca-44ae-91f3-bf293b9f5aff"
      },
      "outputs": [
        {
          "output_type": "stream",
          "name": "stdout",
          "text": [
            "          id                                           comments\n",
            "0  271675127  apartment perfect downstairs beer wine store s...\n",
            "1  169091952  great room ac two large beds next super host r...\n",
            "2  105088023  good stay checkin went smoothly room spacious ...\n",
            "3  282745079  tout petit avec une terrasse immense fonctionn...\n",
            "4   63941006  apartment close sights theyre see athens enjoy...\n"
          ]
        }
      ],
      "source": [
        "year2019_sample = year2019.sample(n=2000, random_state=42)\n",
        "\n",
        "year2019_sample.reset_index(drop=True, inplace=True)\n",
        "\n",
        "print(year2019_sample.head())"
      ]
    },
    {
      "cell_type": "markdown",
      "metadata": {
        "id": "Dh60ydHpyF-E"
      },
      "source": [
        "#### 2023"
      ]
    },
    {
      "cell_type": "code",
      "source": [
        "year2023_sample = year2023.sample(n=2000, random_state=42)\n",
        "\n",
        "year2023_sample.reset_index(drop=True, inplace=True)\n",
        "\n",
        "print(year2023_sample.head())"
      ],
      "metadata": {
        "id": "FgomSByQKCbh",
        "colab": {
          "base_uri": "https://localhost:8080/"
        },
        "outputId": "2b113684-7ddf-45c2-c910-15a7aa429b2d"
      },
      "execution_count": null,
      "outputs": [
        {
          "output_type": "stream",
          "name": "stdout",
          "text": [
            "                   id                                           comments\n",
            "0  537508994161332486                            good location nice flat\n",
            "1  909186053854860371  great space super friendly responsive host lit...\n",
            "2  909269220084189350  lespace intrieur du logement est intressant av...\n",
            "3  526602506745713199  perfect place stay extremely clean comfy cozy ...\n",
            "4           446272859  anastasias place really well located athens cl...\n"
          ]
        }
      ]
    },
    {
      "cell_type": "markdown",
      "metadata": {
        "id": "bQGpmUJNxg5i"
      },
      "source": [
        "### Save data"
      ]
    },
    {
      "cell_type": "markdown",
      "source": [
        "#### 2019"
      ],
      "metadata": {
        "id": "WvSyN3_JKTBZ"
      }
    },
    {
      "cell_type": "code",
      "execution_count": null,
      "metadata": {
        "id": "uRTcbkHYaUOk"
      },
      "outputs": [],
      "source": [
        "year2019.to_csv('output/filtered_dataset_2019.csv', index=False)"
      ]
    },
    {
      "cell_type": "markdown",
      "source": [
        "#### 2023"
      ],
      "metadata": {
        "id": "7PCkbGutKUOz"
      }
    },
    {
      "cell_type": "code",
      "source": [
        "year2023.to_csv('output/filtered_dataset_2023.csv', index=False)"
      ],
      "metadata": {
        "id": "EhqpNj5EKVRE"
      },
      "execution_count": null,
      "outputs": []
    },
    {
      "cell_type": "markdown",
      "metadata": {
        "id": "AABzk3GExg5j"
      },
      "source": [
        "## Annotate data with pretrained model"
      ]
    },
    {
      "cell_type": "markdown",
      "metadata": {
        "id": "DlpfTkgJxg5j"
      },
      "source": [
        "### Prediction"
      ]
    },
    {
      "cell_type": "markdown",
      "metadata": {
        "id": "lAWZW7d-yLXH"
      },
      "source": [
        "#### 2019"
      ]
    },
    {
      "cell_type": "markdown",
      "source": [
        "- `Initializes a sentiment analysis pipeline and selects the 'comments' column from the sampled DataFrame for annotation.`\n",
        "- `Annotates each comment, truncates it to 512 characters, and stores the sentiment label in a new column 'sentiment'.`"
      ],
      "metadata": {
        "id": "1NToVR6sQADG"
      }
    },
    {
      "cell_type": "code",
      "execution_count": null,
      "metadata": {
        "colab": {
          "base_uri": "https://localhost:8080/",
          "height": 391,
          "referenced_widgets": [
            "cc53c6a82b8449a1ac82125ccc3c7509",
            "439152d90c8b451d92b253e9f72b8fa3",
            "e83d8e3d34b344b3baedb28befd6168d",
            "23c6424a076245a991c7cd0267208eec",
            "40961c7317d54be1a7b5215e400de9df",
            "5f2fe80f89d74f41b680e0c8a96276e0",
            "6b8d1ae6d9784e5f92a14e862d8793e9",
            "30ba08a91fc443e6a246a810c613dc27",
            "fb62074785254ebd85ca7495c0c66ef0",
            "64668771e66749a1a595576a8e7e8e93",
            "e50a537000a04ada90e00a4ad9b48fbc",
            "60b60034f7df4bb2a25dafea05d88ab0",
            "5e158d065d4b4cb981d159072fd2fbb8",
            "571a5dbb84534480aec49491a5ee06fc",
            "977655db41ed47ee92ccedfcd116c749",
            "950d43f09c7c4fd0a857f3522d5d3223",
            "a2b9cc06cb5946a9b8d4477a529de2ec",
            "1beac072e8394142976d81c9c7551ed4",
            "51196a92d44546b497f8c15575c9d45f",
            "d40769a292ce44069f3087e135795cb4",
            "e2e0039455a3426e814e69f90532f037",
            "758b9c2de1414d23a0f070dfd194c345",
            "026b2705fda045c2aa9428154b2bd203",
            "fd56ee7bb9544261aaa0a7a69cdb9f14",
            "3788d0b86f004610893714737545d3e0",
            "72cc5a342ea14ee2a7e082a6ab80aeb9",
            "ac2169208d6449ceb4b642e258e1c0be",
            "719f6978a5bc4bb794da7b80843ee6a6",
            "68ae6fed69be44f09ebb10cafc0b2d5a",
            "f390e5cfe9274966a977971b2801fa80",
            "30058d73fafe441f923a63372b5cf291",
            "c9e944bf67f14a508f1fbd7c462182b4",
            "a5415314d56d49598aa0ed46aa7a0858",
            "061d7482e995447782beede797d836e1",
            "647cc95132ce4250b5d5d961719c4538",
            "a26ffe87e71e4f1f91280dc5ecbe9b4a",
            "ce9b0161107c49eba95b0cd76f4b59c7",
            "b90eeb7ac25948b08d79b47ffafcd98b",
            "3b691026154e4e5fb46afd1b5e68a566",
            "589e2a2a0fdb4d21b16fef29e08791a1",
            "6cbc731a91c047ec9a0a802e4426690c",
            "eb4696b46d664cfca21432f014d736cc",
            "a2dfa55c0b35430a9e53694ca30f093e",
            "90325a54ae4a42118b3509266a0c5081"
          ]
        },
        "id": "5I9e7OUJa6LT",
        "outputId": "dbdd7fbf-b0be-4910-db5c-3511a659c019"
      },
      "outputs": [
        {
          "output_type": "stream",
          "name": "stderr",
          "text": [
            "No model was supplied, defaulted to distilbert/distilbert-base-uncased-finetuned-sst-2-english and revision af0f99b (https://huggingface.co/distilbert/distilbert-base-uncased-finetuned-sst-2-english).\n",
            "Using a pipeline without specifying a model name and revision in production is not recommended.\n"
          ]
        },
        {
          "output_type": "display_data",
          "data": {
            "text/plain": [
              "config.json:   0%|          | 0.00/629 [00:00<?, ?B/s]"
            ],
            "application/vnd.jupyter.widget-view+json": {
              "version_major": 2,
              "version_minor": 0,
              "model_id": "cc53c6a82b8449a1ac82125ccc3c7509"
            }
          },
          "metadata": {}
        },
        {
          "output_type": "display_data",
          "data": {
            "text/plain": [
              "model.safetensors:   0%|          | 0.00/268M [00:00<?, ?B/s]"
            ],
            "application/vnd.jupyter.widget-view+json": {
              "version_major": 2,
              "version_minor": 0,
              "model_id": "60b60034f7df4bb2a25dafea05d88ab0"
            }
          },
          "metadata": {}
        },
        {
          "output_type": "display_data",
          "data": {
            "text/plain": [
              "tokenizer_config.json:   0%|          | 0.00/48.0 [00:00<?, ?B/s]"
            ],
            "application/vnd.jupyter.widget-view+json": {
              "version_major": 2,
              "version_minor": 0,
              "model_id": "026b2705fda045c2aa9428154b2bd203"
            }
          },
          "metadata": {}
        },
        {
          "output_type": "display_data",
          "data": {
            "text/plain": [
              "vocab.txt:   0%|          | 0.00/232k [00:00<?, ?B/s]"
            ],
            "application/vnd.jupyter.widget-view+json": {
              "version_major": 2,
              "version_minor": 0,
              "model_id": "061d7482e995447782beede797d836e1"
            }
          },
          "metadata": {}
        },
        {
          "output_type": "stream",
          "name": "stdout",
          "text": [
            "          id                                           comments sentiment\n",
            "0  271675127  apartment perfect downstairs beer wine store s...  POSITIVE\n",
            "1  169091952  great room ac two large beds next super host r...  NEGATIVE\n",
            "2  105088023  good stay checkin went smoothly room spacious ...  POSITIVE\n",
            "3  282745079  tout petit avec une terrasse immense fonctionn...  POSITIVE\n",
            "4   63941006  apartment close sights theyre see athens enjoy...  POSITIVE\n",
            "5  132750157               great host great room great location  POSITIVE\n",
            "6  184217263  enjoyed stay marias place apartment exactly ap...  POSITIVE\n",
            "7  148987610  cuando llegamos andrew nos estaba esperando ta...  NEGATIVE\n",
            "8  148724515                            great place great hosts  POSITIVE\n",
            "9  176502122  appartement plein de charme proche des points ...  POSITIVE\n"
          ]
        }
      ],
      "source": [
        "annotator = pipeline(\"sentiment-analysis\")\n",
        "\n",
        "comments_to_annotate = year2019_sample['comments']\n",
        "\n",
        "annotations = []\n",
        "\n",
        "for comment in comments_to_annotate:\n",
        "    comment = comment[:512]\n",
        "    annotation = annotator(comment)\n",
        "    annotations.append(annotation)\n",
        "\n",
        "year2019_sample.loc[:1999, 'sentiment'] = [annotation[0]['label'] for annotation in annotations]\n",
        "\n",
        "\n",
        "print(year2019_sample.head(10))\n"
      ]
    },
    {
      "cell_type": "markdown",
      "source": [
        "#### 2023"
      ],
      "metadata": {
        "id": "g9AouzUCKYbO"
      }
    },
    {
      "cell_type": "code",
      "source": [
        "annotator = pipeline(\"sentiment-analysis\")\n",
        "\n",
        "comments_to_annotate = year2023_sample['comments']\n",
        "\n",
        "annotations = []\n",
        "\n",
        "for comment in comments_to_annotate:\n",
        "    comment = comment[:512]\n",
        "    annotation = annotator(comment)\n",
        "    annotations.append(annotation)\n",
        "\n",
        "year2023_sample.loc[:1999, 'sentiment'] = [annotation[0]['label'] for annotation in annotations]\n",
        "\n",
        "\n",
        "print(year2023_sample.head(10))"
      ],
      "metadata": {
        "id": "o15_o0nGKd2g",
        "colab": {
          "base_uri": "https://localhost:8080/"
        },
        "outputId": "93042226-87d1-4d60-a7ec-d7a3da6074f4"
      },
      "execution_count": null,
      "outputs": [
        {
          "output_type": "stream",
          "name": "stderr",
          "text": [
            "No model was supplied, defaulted to distilbert/distilbert-base-uncased-finetuned-sst-2-english and revision af0f99b (https://huggingface.co/distilbert/distilbert-base-uncased-finetuned-sst-2-english).\n",
            "Using a pipeline without specifying a model name and revision in production is not recommended.\n"
          ]
        },
        {
          "output_type": "stream",
          "name": "stdout",
          "text": [
            "                   id                                           comments  \\\n",
            "0  537508994161332486                            good location nice flat   \n",
            "1  909186053854860371  great space super friendly responsive host lit...   \n",
            "2  909269220084189350  lespace intrieur du logement est intressant av...   \n",
            "3  526602506745713199  perfect place stay extremely clean comfy cozy ...   \n",
            "4           446272859  anastasias place really well located athens cl...   \n",
            "5  719383849510873169  great stay easily one nicest airbnb ive stayed...   \n",
            "6  440281318096065927  beautifully designed space balcony views acrop...   \n",
            "7           167319542                 anastasia georgebranastasia george   \n",
            "8           709358214  partner spent couple days athens short stop is...   \n",
            "9           573775933  family stayed tonis apartment apartment nice t...   \n",
            "\n",
            "  sentiment  \n",
            "0  POSITIVE  \n",
            "1  POSITIVE  \n",
            "2  NEGATIVE  \n",
            "3  POSITIVE  \n",
            "4  POSITIVE  \n",
            "5  POSITIVE  \n",
            "6  POSITIVE  \n",
            "7  POSITIVE  \n",
            "8  POSITIVE  \n",
            "9  POSITIVE  \n"
          ]
        }
      ]
    },
    {
      "cell_type": "markdown",
      "metadata": {
        "id": "_vT02rk-xg5j"
      },
      "source": [
        "### Save annotated data"
      ]
    },
    {
      "cell_type": "markdown",
      "metadata": {
        "id": "_seO56xoyP0V"
      },
      "source": [
        "#### 2019"
      ]
    },
    {
      "cell_type": "code",
      "execution_count": null,
      "metadata": {
        "id": "_3V2f7bjxg5j"
      },
      "outputs": [],
      "source": [
        "year2019_sample.to_csv('output/filtered_dataset_2019_annotated.csv', index=False)"
      ]
    },
    {
      "cell_type": "markdown",
      "source": [
        "#### 2023"
      ],
      "metadata": {
        "id": "SX-lLC89KzA0"
      }
    },
    {
      "cell_type": "code",
      "source": [
        "year2023_sample.to_csv('output/filtered_dataset_2023_annotated.csv', index=False)"
      ],
      "metadata": {
        "id": "iaLXOfEzK36k"
      },
      "execution_count": null,
      "outputs": []
    },
    {
      "cell_type": "markdown",
      "metadata": {
        "id": "t4EbbthTxg5k"
      },
      "source": [
        "### Distribution"
      ]
    },
    {
      "cell_type": "markdown",
      "source": [
        "- `Groups the sampled DataFrame by 'sentiment', counts occurrences, and resets the index to create a summary DataFrame.`\n",
        "- `Plots a bar chart to visualize the distribution of sentiments, adding labels to each bar and displaying the plot.`"
      ],
      "metadata": {
        "id": "pHQWyRQKQNBx"
      }
    },
    {
      "cell_type": "markdown",
      "metadata": {
        "id": "D3FbCZQ_yQ0M"
      },
      "source": [
        "#### 2019"
      ]
    },
    {
      "cell_type": "code",
      "execution_count": null,
      "metadata": {
        "colab": {
          "base_uri": "https://localhost:8080/",
          "height": 607
        },
        "id": "nddgALb8xg5k",
        "outputId": "0af3c7f9-aa99-4477-dbda-140e21b68d79"
      },
      "outputs": [
        {
          "output_type": "display_data",
          "data": {
            "text/plain": [
              "<Figure size 600x600 with 1 Axes>"
            ],
            "image/png": "[encoded data removed]"
          },
          "metadata": {}
        }
      ],
      "source": [
        "\n",
        "temp = year2019_sample.groupby('sentiment').count().reset_index()\n",
        "\n",
        "plt.figure(figsize=(6, 6))\n",
        "plt.bar(temp['sentiment'], temp['comments'], color='skyblue')\n",
        "plt.xlabel('Month')\n",
        "plt.ylabel('Average Price')\n",
        "plt.title('Sentiment distribution in 2019')\n",
        "\n",
        "for i, price in enumerate(temp['comments']):\n",
        "    plt.text(i, price + 0.5, f'{price:.2f}', ha='center', va='bottom')\n",
        "\n",
        "plt.ylim(bottom=0)\n",
        "plt.tight_layout()\n",
        "plt.show()\n"
      ]
    },
    {
      "cell_type": "markdown",
      "source": [
        "#### 2023"
      ],
      "metadata": {
        "id": "L5kw6mrVKgiX"
      }
    },
    {
      "cell_type": "code",
      "source": [
        "\n",
        "temp = year2023_sample.groupby('sentiment').count().reset_index()\n",
        "\n",
        "plt.figure(figsize=(6, 6))\n",
        "plt.bar(temp['sentiment'], temp['comments'], color='darkorange')\n",
        "plt.xlabel('Month')\n",
        "plt.ylabel('Average Price')\n",
        "plt.title('Sentiment distribution in 2019')\n",
        "\n",
        "for i, price in enumerate(temp['comments']):\n",
        "    plt.text(i, price + 0.5, f'{price:.2f}', ha='center', va='bottom')\n",
        "\n",
        "plt.ylim(bottom=0)\n",
        "plt.tight_layout()\n",
        "plt.show()"
      ],
      "metadata": {
        "id": "z3Q_q1MaKhoR",
        "colab": {
          "base_uri": "https://localhost:8080/",
          "height": 607
        },
        "outputId": "614a9f80-3b9b-487d-aaa2-79813338640f"
      },
      "execution_count": null,
      "outputs": [
        {
          "output_type": "display_data",
          "data": {
            "text/plain": [
              "<Figure size 600x600 with 1 Axes>"
            ],
            "image/png": "[encoded data removed]"
          },
          "metadata": {}
        }
      ]
    },
    {
      "cell_type": "markdown",
      "metadata": {
        "id": "wmndTaFtxg5k"
      },
      "source": [
        "## Model training"
      ]
    },
    {
      "cell_type": "markdown",
      "metadata": {
        "id": "cGJnuFGexg5k"
      },
      "source": [
        "### Split datasets"
      ]
    },
    {
      "cell_type": "markdown",
      "metadata": {
        "id": "LZWc6YxPyTyj"
      },
      "source": [
        "#### 2019"
      ]
    },
    {
      "cell_type": "markdown",
      "metadata": {
        "id": "FlPTyLjAxg5k"
      },
      "source": [
        "Initial size:"
      ]
    },
    {
      "cell_type": "code",
      "execution_count": null,
      "metadata": {
        "colab": {
          "base_uri": "https://localhost:8080/"
        },
        "id": "iI9ZhmMrxg5k",
        "outputId": "1e77ba3e-5a5d-44e0-d9a6-41a4c6d03321"
      },
      "outputs": [
        {
          "output_type": "execute_result",
          "data": {
            "text/plain": [
              "(2000, 3)"
            ]
          },
          "metadata": {},
          "execution_count": 25
        }
      ],
      "source": [
        "year2019_sample.shape"
      ]
    },
    {
      "cell_type": "code",
      "execution_count": null,
      "metadata": {
        "colab": {
          "base_uri": "https://localhost:8080/",
          "height": 424
        },
        "id": "2UZqA7Wwxg5k",
        "outputId": "0177ccae-ec0a-4f23-feb6-79e459d043cb"
      },
      "outputs": [
        {
          "output_type": "execute_result",
          "data": {
            "text/plain": [
              "             id                                           comments sentiment\n",
              "0     271675127  apartment perfect downstairs beer wine store s...  POSITIVE\n",
              "1     169091952  great room ac two large beds next super host r...  NEGATIVE\n",
              "2     105088023  good stay checkin went smoothly room spacious ...  POSITIVE\n",
              "3     282745079  tout petit avec une terrasse immense fonctionn...  POSITIVE\n",
              "4      63941006  apartment close sights theyre see athens enjoy...  POSITIVE\n",
              "...         ...                                                ...       ...\n",
              "1995  104886641  dina provided food coffee milk bread butter ol...  POSITIVE\n",
              "1996  217794048  place amazing value long day greece nice come ...  POSITIVE\n",
              "1997  274918428  really good time stevens place one air con bus...  NEGATIVE\n",
              "1998  193060823                   amazing place everything perfect  POSITIVE\n",
              "1999  323265627                                                     POSITIVE\n",
              "\n",
              "[2000 rows x 3 columns]"
            ],
            "text/html": [
              "\n",
              "  <div id=\"df-a258b149-390a-4aad-a37f-6ba43d2a6815\" class=\"colab-df-container\">\n",
              "    <div>\n",
              "<style scoped>\n",
              "    .dataframe tbody tr th:only-of-type {\n",
              "        vertical-align: middle;\n",
              "    }\n",
              "\n",
              "    .dataframe tbody tr th {\n",
              "        vertical-align: top;\n",
              "    }\n",
              "\n",
              "    .dataframe thead th {\n",
              "        text-align: right;\n",
              "    }\n",
              "</style>\n",
              "<table border=\"1\" class=\"dataframe\">\n",
              "  <thead>\n",
              "    <tr style=\"text-align: right;\">\n",
              "      <th></th>\n",
              "      <th>id</th>\n",
              "      <th>comments</th>\n",
              "      <th>sentiment</th>\n",
              "    </tr>\n",
              "  </thead>\n",
              "  <tbody>\n",
              "    <tr>\n",
              "      <th>0</th>\n",
              "      <td>271675127</td>\n",
              "      <td>apartment perfect downstairs beer wine store s...</td>\n",
              "      <td>POSITIVE</td>\n",
              "    </tr>\n",
              "    <tr>\n",
              "      <th>1</th>\n",
              "      <td>169091952</td>\n",
              "      <td>great room ac two large beds next super host r...</td>\n",
              "      <td>NEGATIVE</td>\n",
              "    </tr>\n",
              "    <tr>\n",
              "      <th>2</th>\n",
              "      <td>105088023</td>\n",
              "      <td>good stay checkin went smoothly room spacious ...</td>\n",
              "      <td>POSITIVE</td>\n",
              "    </tr>\n",
              "    <tr>\n",
              "      <th>3</th>\n",
              "      <td>282745079</td>\n",
              "      <td>tout petit avec une terrasse immense fonctionn...</td>\n",
              "      <td>POSITIVE</td>\n",
              "    </tr>\n",
              "    <tr>\n",
              "      <th>4</th>\n",
              "      <td>63941006</td>\n",
              "      <td>apartment close sights theyre see athens enjoy...</td>\n",
              "      <td>POSITIVE</td>\n",
              "    </tr>\n",
              "    <tr>\n",
              "      <th>...</th>\n",
              "      <td>...</td>\n",
              "      <td>...</td>\n",
              "      <td>...</td>\n",
              "    </tr>\n",
              "    <tr>\n",
              "      <th>1995</th>\n",
              "      <td>104886641</td>\n",
              "      <td>dina provided food coffee milk bread butter ol...</td>\n",
              "      <td>POSITIVE</td>\n",
              "    </tr>\n",
              "    <tr>\n",
              "      <th>1996</th>\n",
              "      <td>217794048</td>\n",
              "      <td>place amazing value long day greece nice come ...</td>\n",
              "      <td>POSITIVE</td>\n",
              "    </tr>\n",
              "    <tr>\n",
              "      <th>1997</th>\n",
              "      <td>274918428</td>\n",
              "      <td>really good time stevens place one air con bus...</td>\n",
              "      <td>NEGATIVE</td>\n",
              "    </tr>\n",
              "    <tr>\n",
              "      <th>1998</th>\n",
              "      <td>193060823</td>\n",
              "      <td>amazing place everything perfect</td>\n",
              "      <td>POSITIVE</td>\n",
              "    </tr>\n",
              "    <tr>\n",
              "      <th>1999</th>\n",
              "      <td>323265627</td>\n",
              "      <td></td>\n",
              "      <td>POSITIVE</td>\n",
              "    </tr>\n",
              "  </tbody>\n",
              "</table>\n",
              "<p>2000 rows × 3 columns</p>\n",
              "</div>\n",
              "    <div class=\"colab-df-buttons\">\n",
              "\n",
              "  <div class=\"colab-df-container\">\n",
              "    <button class=\"colab-df-convert\" onclick=\"convertToInteractive('df-a258b149-390a-4aad-a37f-6ba43d2a6815')\"\n",
              "            title=\"Convert this dataframe to an interactive table.\"\n",
              "            style=\"display:none;\">\n",
              "\n",
              "  <svg xmlns=\"http://www.w3.org/2000/svg\" height=\"24px\" viewBox=\"0 -960 960 960\">\n",
              "    <path d=\"M120-120v-720h720v720H120Zm60-500h600v-160H180v160Zm220 220h160v-160H400v160Zm0 220h160v-160H400v160ZM180-400h160v-160H180v160Zm440 0h160v-160H620v160ZM180-180h160v-160H180v160Zm440 0h160v-160H620v160Z\"/>\n",
              "  </svg>\n",
              "    </button>\n",
              "\n",
              "  <style>\n",
              "    .colab-df-container {\n",
              "      display:flex;\n",
              "      gap: 12px;\n",
              "    }\n",
              "\n",
              "    .colab-df-convert {\n",
              "      background-color: #E8F0FE;\n",
              "      border: none;\n",
              "      border-radius: 50%;\n",
              "      cursor: pointer;\n",
              "      display: none;\n",
              "      fill: #1967D2;\n",
              "      height: 32px;\n",
              "      padding: 0 0 0 0;\n",
              "      width: 32px;\n",
              "    }\n",
              "\n",
              "    .colab-df-convert:hover {\n",
              "      background-color: #E2EBFA;\n",
              "      box-shadow: 0px 1px 2px rgba(60, 64, 67, 0.3), 0px 1px 3px 1px rgba(60, 64, 67, 0.15);\n",
              "      fill: #174EA6;\n",
              "    }\n",
              "\n",
              "    .colab-df-buttons div {\n",
              "      margin-bottom: 4px;\n",
              "    }\n",
              "\n",
              "    [theme=dark] .colab-df-convert {\n",
              "      background-color: #3B4455;\n",
              "      fill: #D2E3FC;\n",
              "    }\n",
              "\n",
              "    [theme=dark] .colab-df-convert:hover {\n",
              "      background-color: #434B5C;\n",
              "      box-shadow: 0px 1px 3px 1px rgba(0, 0, 0, 0.15);\n",
              "      filter: drop-shadow(0px 1px 2px rgba(0, 0, 0, 0.3));\n",
              "      fill: #FFFFFF;\n",
              "    }\n",
              "  </style>\n",
              "\n",
              "    <script>\n",
              "      const buttonEl =\n",
              "        document.querySelector('#df-a258b149-390a-4aad-a37f-6ba43d2a6815 button.colab-df-convert');\n",
              "      buttonEl.style.display =\n",
              "        google.colab.kernel.accessAllowed ? 'block' : 'none';\n",
              "\n",
              "      async function convertToInteractive(key) {\n",
              "        const element = document.querySelector('#df-a258b149-390a-4aad-a37f-6ba43d2a6815');\n",
              "        const dataTable =\n",
              "          await google.colab.kernel.invokeFunction('convertToInteractive',\n",
              "                                                    [key], {});\n",
              "        if (!dataTable) return;\n",
              "\n",
              "        const docLinkHtml = 'Like what you see? Visit the ' +\n",
              "          '<a target=\"_blank\" href=https://colab.research.google.com/notebooks/data_table.ipynb>data table notebook</a>'\n",
              "          + ' to learn more about interactive tables.';\n",
              "        element.innerHTML = '';\n",
              "        dataTable['output_type'] = 'display_data';\n",
              "        await google.colab.output.renderOutput(dataTable, element);\n",
              "        const docLink = document.createElement('div');\n",
              "        docLink.innerHTML = docLinkHtml;\n",
              "        element.appendChild(docLink);\n",
              "      }\n",
              "    </script>\n",
              "  </div>\n",
              "\n",
              "\n",
              "<div id=\"df-557f2e0a-7855-4557-bc67-b4925d2ec1de\">\n",
              "  <button class=\"colab-df-quickchart\" onclick=\"quickchart('df-557f2e0a-7855-4557-bc67-b4925d2ec1de')\"\n",
              "            title=\"Suggest charts\"\n",
              "            style=\"display:none;\">\n",
              "\n",
              "<svg xmlns=\"http://www.w3.org/2000/svg\" height=\"24px\"viewBox=\"0 0 24 24\"\n",
              "     width=\"24px\">\n",
              "    <g>\n",
              "        <path d=\"M19 3H5c-1.1 0-2 .9-2 2v14c0 1.1.9 2 2 2h14c1.1 0 2-.9 2-2V5c0-1.1-.9-2-2-2zM9 17H7v-7h2v7zm4 0h-2V7h2v10zm4 0h-2v-4h2v4z\"/>\n",
              "    </g>\n",
              "</svg>\n",
              "  </button>\n",
              "\n",
              "<style>\n",
              "  .colab-df-quickchart {\n",
              "      --bg-color: #E8F0FE;\n",
              "      --fill-color: #1967D2;\n",
              "      --hover-bg-color: #E2EBFA;\n",
              "      --hover-fill-color: #174EA6;\n",
              "      --disabled-fill-color: #AAA;\n",
              "      --disabled-bg-color: #DDD;\n",
              "  }\n",
              "\n",
              "  [theme=dark] .colab-df-quickchart {\n",
              "      --bg-color: #3B4455;\n",
              "      --fill-color: #D2E3FC;\n",
              "      --hover-bg-color: #434B5C;\n",
              "      --hover-fill-color: #FFFFFF;\n",
              "      --disabled-bg-color: #3B4455;\n",
              "      --disabled-fill-color: #666;\n",
              "  }\n",
              "\n",
              "  .colab-df-quickchart {\n",
              "    background-color: var(--bg-color);\n",
              "    border: none;\n",
              "    border-radius: 50%;\n",
              "    cursor: pointer;\n",
              "    display: none;\n",
              "    fill: var(--fill-color);\n",
              "    height: 32px;\n",
              "    padding: 0;\n",
              "    width: 32px;\n",
              "  }\n",
              "\n",
              "  .colab-df-quickchart:hover {\n",
              "    background-color: var(--hover-bg-color);\n",
              "    box-shadow: 0 1px 2px rgba(60, 64, 67, 0.3), 0 1px 3px 1px rgba(60, 64, 67, 0.15);\n",
              "    fill: var(--button-hover-fill-color);\n",
              "  }\n",
              "\n",
              "  .colab-df-quickchart-complete:disabled,\n",
              "  .colab-df-quickchart-complete:disabled:hover {\n",
              "    background-color: var(--disabled-bg-color);\n",
              "    fill: var(--disabled-fill-color);\n",
              "    box-shadow: none;\n",
              "  }\n",
              "\n",
              "  .colab-df-spinner {\n",
              "    border: 2px solid var(--fill-color);\n",
              "    border-color: transparent;\n",
              "    border-bottom-color: var(--fill-color);\n",
              "    animation:\n",
              "      spin 1s steps(1) infinite;\n",
              "  }\n",
              "\n",
              "  @keyframes spin {\n",
              "    0% {\n",
              "      border-color: transparent;\n",
              "      border-bottom-color: var(--fill-color);\n",
              "      border-left-color: var(--fill-color);\n",
              "    }\n",
              "    20% {\n",
              "      border-color: transparent;\n",
              "      border-left-color: var(--fill-color);\n",
              "      border-top-color: var(--fill-color);\n",
              "    }\n",
              "    30% {\n",
              "      border-color: transparent;\n",
              "      border-left-color: var(--fill-color);\n",
              "      border-top-color: var(--fill-color);\n",
              "      border-right-color: var(--fill-color);\n",
              "    }\n",
              "    40% {\n",
              "      border-color: transparent;\n",
              "      border-right-color: var(--fill-color);\n",
              "      border-top-color: var(--fill-color);\n",
              "    }\n",
              "    60% {\n",
              "      border-color: transparent;\n",
              "      border-right-color: var(--fill-color);\n",
              "    }\n",
              "    80% {\n",
              "      border-color: transparent;\n",
              "      border-right-color: var(--fill-color);\n",
              "      border-bottom-color: var(--fill-color);\n",
              "    }\n",
              "    90% {\n",
              "      border-color: transparent;\n",
              "      border-bottom-color: var(--fill-color);\n",
              "    }\n",
              "  }\n",
              "</style>\n",
              "\n",
              "  <script>\n",
              "    async function quickchart(key) {\n",
              "      const quickchartButtonEl =\n",
              "        document.querySelector('#' + key + ' button');\n",
              "      quickchartButtonEl.disabled = true;  // To prevent multiple clicks.\n",
              "      quickchartButtonEl.classList.add('colab-df-spinner');\n",
              "      try {\n",
              "        const charts = await google.colab.kernel.invokeFunction(\n",
              "            'suggestCharts', [key], {});\n",
              "      } catch (error) {\n",
              "        console.error('Error during call to suggestCharts:', error);\n",
              "      }\n",
              "      quickchartButtonEl.classList.remove('colab-df-spinner');\n",
              "      quickchartButtonEl.classList.add('colab-df-quickchart-complete');\n",
              "    }\n",
              "    (() => {\n",
              "      let quickchartButtonEl =\n",
              "        document.querySelector('#df-557f2e0a-7855-4557-bc67-b4925d2ec1de button');\n",
              "      quickchartButtonEl.style.display =\n",
              "        google.colab.kernel.accessAllowed ? 'block' : 'none';\n",
              "    })();\n",
              "  </script>\n",
              "</div>\n",
              "    </div>\n",
              "  </div>\n"
            ],
            "application/vnd.google.colaboratory.intrinsic+json": {
              "type": "dataframe",
              "variable_name": "year2019_sample",
              "summary": "{\n  \"name\": \"year2019_sample\",\n  \"rows\": 2000,\n  \"fields\": [\n    {\n      \"column\": \"id\",\n      \"properties\": {\n        \"dtype\": \"number\",\n        \"std\": 113136887,\n        \"min\": 193111,\n        \"max\": 435681441,\n        \"num_unique_values\": 2000,\n        \"samples\": [\n          244985477,\n          207420613,\n          251471174\n        ],\n        \"semantic_type\": \"\",\n        \"description\": \"\"\n      }\n    },\n    {\n      \"column\": \"comments\",\n      \"properties\": {\n        \"dtype\": \"string\",\n        \"num_unique_values\": 1865,\n        \"samples\": [\n          \"beautiful week athens location excellent apartment spacious\",\n          \"loved staying vassilios place amazing location caring host perfect highly recommended\",\n          \"advertised great location right metro acropolis wonderful neighborhood hosts extremely organized receptive would definitely stay\"\n        ],\n        \"semantic_type\": \"\",\n        \"description\": \"\"\n      }\n    },\n    {\n      \"column\": \"sentiment\",\n      \"properties\": {\n        \"dtype\": \"category\",\n        \"num_unique_values\": 2,\n        \"samples\": [\n          \"NEGATIVE\",\n          \"POSITIVE\"\n        ],\n        \"semantic_type\": \"\",\n        \"description\": \"\"\n      }\n    }\n  ]\n}"
            }
          },
          "metadata": {},
          "execution_count": 26
        }
      ],
      "source": [
        "year2019_sample"
      ]
    },
    {
      "cell_type": "markdown",
      "metadata": {
        "id": "aDT8ALyZxg5k"
      },
      "source": [
        "Split with 80-20 ratio:"
      ]
    },
    {
      "cell_type": "code",
      "execution_count": null,
      "metadata": {
        "id": "EPOb6vY4xg5k"
      },
      "outputs": [],
      "source": [
        "X_train_2019, X_test_2019, Y_train_2019, Y_test_2019 = train_test_split(year2019_sample['comments'], year2019_sample['sentiment'], test_size=0.2, random_state=42)  # Set a seed for reproducibility\n"
      ]
    },
    {
      "cell_type": "markdown",
      "metadata": {
        "id": "AyPA7PL5xg5l"
      },
      "source": [
        "Shapes of the datasets:"
      ]
    },
    {
      "cell_type": "code",
      "execution_count": null,
      "metadata": {
        "colab": {
          "base_uri": "https://localhost:8080/"
        },
        "id": "Du4-asTyxg5l",
        "outputId": "59342999-640d-41c5-bd0e-32acfb664ee6"
      },
      "outputs": [
        {
          "output_type": "stream",
          "name": "stdout",
          "text": [
            "Training set:  (1600,) , labels:  (1600,)\n",
            "Test     set:  (400,) , labels:  (400,)\n"
          ]
        }
      ],
      "source": [
        "print(\"Training set: \", X_train_2019.shape,  \", labels: \", Y_train_2019.shape)\n",
        "print(\"Test     set: \", X_test_2019.shape,  \", labels: \", Y_test_2019.shape)"
      ]
    },
    {
      "cell_type": "markdown",
      "metadata": {
        "id": "9yL0iOGLxg5l"
      },
      "source": [
        "Save to disk:"
      ]
    },
    {
      "cell_type": "code",
      "execution_count": null,
      "metadata": {
        "id": "zp1ZSr2qxg5l"
      },
      "outputs": [],
      "source": [
        "temp = pd.concat([X_train_2019, Y_train_2019], axis=1)\n",
        "\n",
        "temp.to_csv('output/train_2019.tsv', index=False, sep='\\t')\n",
        "\n",
        "\n",
        "temp = pd.concat([X_test_2019, Y_test_2019], axis=1)\n",
        "\n",
        "temp.to_csv('output/test_2019.tsv', index=False, sep='\\t')"
      ]
    },
    {
      "cell_type": "markdown",
      "metadata": {
        "id": "hOLm2fSLyWRl"
      },
      "source": [
        "#### 2023"
      ]
    },
    {
      "cell_type": "markdown",
      "source": [
        "Initial size:"
      ],
      "metadata": {
        "id": "-1VVtISjLfFd"
      }
    },
    {
      "cell_type": "code",
      "source": [
        "year2023_sample.shape"
      ],
      "metadata": {
        "id": "ZEJpZX7lLgeD",
        "colab": {
          "base_uri": "https://localhost:8080/"
        },
        "outputId": "d206f094-c197-4e38-e33e-f95f8e4a4db5"
      },
      "execution_count": null,
      "outputs": [
        {
          "output_type": "execute_result",
          "data": {
            "text/plain": [
              "(2000, 3)"
            ]
          },
          "metadata": {},
          "execution_count": 30
        }
      ]
    },
    {
      "cell_type": "code",
      "source": [
        "year2023_sample"
      ],
      "metadata": {
        "id": "vbXq44O7LoQn",
        "colab": {
          "base_uri": "https://localhost:8080/",
          "height": 424
        },
        "outputId": "0f36a57d-a85c-4c2d-e3df-67ceecef9209"
      },
      "execution_count": null,
      "outputs": [
        {
          "output_type": "execute_result",
          "data": {
            "text/plain": [
              "                      id                                           comments  \\\n",
              "0     537508994161332486                            good location nice flat   \n",
              "1     909186053854860371  great space super friendly responsive host lit...   \n",
              "2     909269220084189350  lespace intrieur du logement est intressant av...   \n",
              "3     526602506745713199  perfect place stay extremely clean comfy cozy ...   \n",
              "4              446272859  anastasias place really well located athens cl...   \n",
              "...                  ...                                                ...   \n",
              "1995  909206777280443634  trs bien situ dans une impasse calme et proche...   \n",
              "1996           316291235  petros argiro best hosts house better expected...   \n",
              "1997           244159375                                                      \n",
              "1998  712141081599620860  amazing stay accommodating delayed flight clea...   \n",
              "1999           171682808  yiannis amazing host check earlier waiting us ...   \n",
              "\n",
              "     sentiment  \n",
              "0     POSITIVE  \n",
              "1     POSITIVE  \n",
              "2     NEGATIVE  \n",
              "3     POSITIVE  \n",
              "4     POSITIVE  \n",
              "...        ...  \n",
              "1995  POSITIVE  \n",
              "1996  NEGATIVE  \n",
              "1997  POSITIVE  \n",
              "1998  POSITIVE  \n",
              "1999  NEGATIVE  \n",
              "\n",
              "[2000 rows x 3 columns]"
            ],
            "text/html": [
              "\n",
              "  <div id=\"df-7006b4f9-2d35-4edb-9b23-1f58b604e561\" class=\"colab-df-container\">\n",
              "    <div>\n",
              "<style scoped>\n",
              "    .dataframe tbody tr th:only-of-type {\n",
              "        vertical-align: middle;\n",
              "    }\n",
              "\n",
              "    .dataframe tbody tr th {\n",
              "        vertical-align: top;\n",
              "    }\n",
              "\n",
              "    .dataframe thead th {\n",
              "        text-align: right;\n",
              "    }\n",
              "</style>\n",
              "<table border=\"1\" class=\"dataframe\">\n",
              "  <thead>\n",
              "    <tr style=\"text-align: right;\">\n",
              "      <th></th>\n",
              "      <th>id</th>\n",
              "      <th>comments</th>\n",
              "      <th>sentiment</th>\n",
              "    </tr>\n",
              "  </thead>\n",
              "  <tbody>\n",
              "    <tr>\n",
              "      <th>0</th>\n",
              "      <td>537508994161332486</td>\n",
              "      <td>good location nice flat</td>\n",
              "      <td>POSITIVE</td>\n",
              "    </tr>\n",
              "    <tr>\n",
              "      <th>1</th>\n",
              "      <td>909186053854860371</td>\n",
              "      <td>great space super friendly responsive host lit...</td>\n",
              "      <td>POSITIVE</td>\n",
              "    </tr>\n",
              "    <tr>\n",
              "      <th>2</th>\n",
              "      <td>909269220084189350</td>\n",
              "      <td>lespace intrieur du logement est intressant av...</td>\n",
              "      <td>NEGATIVE</td>\n",
              "    </tr>\n",
              "    <tr>\n",
              "      <th>3</th>\n",
              "      <td>526602506745713199</td>\n",
              "      <td>perfect place stay extremely clean comfy cozy ...</td>\n",
              "      <td>POSITIVE</td>\n",
              "    </tr>\n",
              "    <tr>\n",
              "      <th>4</th>\n",
              "      <td>446272859</td>\n",
              "      <td>anastasias place really well located athens cl...</td>\n",
              "      <td>POSITIVE</td>\n",
              "    </tr>\n",
              "    <tr>\n",
              "      <th>...</th>\n",
              "      <td>...</td>\n",
              "      <td>...</td>\n",
              "      <td>...</td>\n",
              "    </tr>\n",
              "    <tr>\n",
              "      <th>1995</th>\n",
              "      <td>909206777280443634</td>\n",
              "      <td>trs bien situ dans une impasse calme et proche...</td>\n",
              "      <td>POSITIVE</td>\n",
              "    </tr>\n",
              "    <tr>\n",
              "      <th>1996</th>\n",
              "      <td>316291235</td>\n",
              "      <td>petros argiro best hosts house better expected...</td>\n",
              "      <td>NEGATIVE</td>\n",
              "    </tr>\n",
              "    <tr>\n",
              "      <th>1997</th>\n",
              "      <td>244159375</td>\n",
              "      <td></td>\n",
              "      <td>POSITIVE</td>\n",
              "    </tr>\n",
              "    <tr>\n",
              "      <th>1998</th>\n",
              "      <td>712141081599620860</td>\n",
              "      <td>amazing stay accommodating delayed flight clea...</td>\n",
              "      <td>POSITIVE</td>\n",
              "    </tr>\n",
              "    <tr>\n",
              "      <th>1999</th>\n",
              "      <td>171682808</td>\n",
              "      <td>yiannis amazing host check earlier waiting us ...</td>\n",
              "      <td>NEGATIVE</td>\n",
              "    </tr>\n",
              "  </tbody>\n",
              "</table>\n",
              "<p>2000 rows × 3 columns</p>\n",
              "</div>\n",
              "    <div class=\"colab-df-buttons\">\n",
              "\n",
              "  <div class=\"colab-df-container\">\n",
              "    <button class=\"colab-df-convert\" onclick=\"convertToInteractive('df-7006b4f9-2d35-4edb-9b23-1f58b604e561')\"\n",
              "            title=\"Convert this dataframe to an interactive table.\"\n",
              "            style=\"display:none;\">\n",
              "\n",
              "  <svg xmlns=\"http://www.w3.org/2000/svg\" height=\"24px\" viewBox=\"0 -960 960 960\">\n",
              "    <path d=\"M120-120v-720h720v720H120Zm60-500h600v-160H180v160Zm220 220h160v-160H400v160Zm0 220h160v-160H400v160ZM180-400h160v-160H180v160Zm440 0h160v-160H620v160ZM180-180h160v-160H180v160Zm440 0h160v-160H620v160Z\"/>\n",
              "  </svg>\n",
              "    </button>\n",
              "\n",
              "  <style>\n",
              "    .colab-df-container {\n",
              "      display:flex;\n",
              "      gap: 12px;\n",
              "    }\n",
              "\n",
              "    .colab-df-convert {\n",
              "      background-color: #E8F0FE;\n",
              "      border: none;\n",
              "      border-radius: 50%;\n",
              "      cursor: pointer;\n",
              "      display: none;\n",
              "      fill: #1967D2;\n",
              "      height: 32px;\n",
              "      padding: 0 0 0 0;\n",
              "      width: 32px;\n",
              "    }\n",
              "\n",
              "    .colab-df-convert:hover {\n",
              "      background-color: #E2EBFA;\n",
              "      box-shadow: 0px 1px 2px rgba(60, 64, 67, 0.3), 0px 1px 3px 1px rgba(60, 64, 67, 0.15);\n",
              "      fill: #174EA6;\n",
              "    }\n",
              "\n",
              "    .colab-df-buttons div {\n",
              "      margin-bottom: 4px;\n",
              "    }\n",
              "\n",
              "    [theme=dark] .colab-df-convert {\n",
              "      background-color: #3B4455;\n",
              "      fill: #D2E3FC;\n",
              "    }\n",
              "\n",
              "    [theme=dark] .colab-df-convert:hover {\n",
              "      background-color: #434B5C;\n",
              "      box-shadow: 0px 1px 3px 1px rgba(0, 0, 0, 0.15);\n",
              "      filter: drop-shadow(0px 1px 2px rgba(0, 0, 0, 0.3));\n",
              "      fill: #FFFFFF;\n",
              "    }\n",
              "  </style>\n",
              "\n",
              "    <script>\n",
              "      const buttonEl =\n",
              "        document.querySelector('#df-7006b4f9-2d35-4edb-9b23-1f58b604e561 button.colab-df-convert');\n",
              "      buttonEl.style.display =\n",
              "        google.colab.kernel.accessAllowed ? 'block' : 'none';\n",
              "\n",
              "      async function convertToInteractive(key) {\n",
              "        const element = document.querySelector('#df-7006b4f9-2d35-4edb-9b23-1f58b604e561');\n",
              "        const dataTable =\n",
              "          await google.colab.kernel.invokeFunction('convertToInteractive',\n",
              "                                                    [key], {});\n",
              "        if (!dataTable) return;\n",
              "\n",
              "        const docLinkHtml = 'Like what you see? Visit the ' +\n",
              "          '<a target=\"_blank\" href=https://colab.research.google.com/notebooks/data_table.ipynb>data table notebook</a>'\n",
              "          + ' to learn more about interactive tables.';\n",
              "        element.innerHTML = '';\n",
              "        dataTable['output_type'] = 'display_data';\n",
              "        await google.colab.output.renderOutput(dataTable, element);\n",
              "        const docLink = document.createElement('div');\n",
              "        docLink.innerHTML = docLinkHtml;\n",
              "        element.appendChild(docLink);\n",
              "      }\n",
              "    </script>\n",
              "  </div>\n",
              "\n",
              "\n",
              "<div id=\"df-10d88a0b-46c1-4cb4-9b6c-62fa0f9534cc\">\n",
              "  <button class=\"colab-df-quickchart\" onclick=\"quickchart('df-10d88a0b-46c1-4cb4-9b6c-62fa0f9534cc')\"\n",
              "            title=\"Suggest charts\"\n",
              "            style=\"display:none;\">\n",
              "\n",
              "<svg xmlns=\"http://www.w3.org/2000/svg\" height=\"24px\"viewBox=\"0 0 24 24\"\n",
              "     width=\"24px\">\n",
              "    <g>\n",
              "        <path d=\"M19 3H5c-1.1 0-2 .9-2 2v14c0 1.1.9 2 2 2h14c1.1 0 2-.9 2-2V5c0-1.1-.9-2-2-2zM9 17H7v-7h2v7zm4 0h-2V7h2v10zm4 0h-2v-4h2v4z\"/>\n",
              "    </g>\n",
              "</svg>\n",
              "  </button>\n",
              "\n",
              "<style>\n",
              "  .colab-df-quickchart {\n",
              "      --bg-color: #E8F0FE;\n",
              "      --fill-color: #1967D2;\n",
              "      --hover-bg-color: #E2EBFA;\n",
              "      --hover-fill-color: #174EA6;\n",
              "      --disabled-fill-color: #AAA;\n",
              "      --disabled-bg-color: #DDD;\n",
              "  }\n",
              "\n",
              "  [theme=dark] .colab-df-quickchart {\n",
              "      --bg-color: #3B4455;\n",
              "      --fill-color: #D2E3FC;\n",
              "      --hover-bg-color: #434B5C;\n",
              "      --hover-fill-color: #FFFFFF;\n",
              "      --disabled-bg-color: #3B4455;\n",
              "      --disabled-fill-color: #666;\n",
              "  }\n",
              "\n",
              "  .colab-df-quickchart {\n",
              "    background-color: var(--bg-color);\n",
              "    border: none;\n",
              "    border-radius: 50%;\n",
              "    cursor: pointer;\n",
              "    display: none;\n",
              "    fill: var(--fill-color);\n",
              "    height: 32px;\n",
              "    padding: 0;\n",
              "    width: 32px;\n",
              "  }\n",
              "\n",
              "  .colab-df-quickchart:hover {\n",
              "    background-color: var(--hover-bg-color);\n",
              "    box-shadow: 0 1px 2px rgba(60, 64, 67, 0.3), 0 1px 3px 1px rgba(60, 64, 67, 0.15);\n",
              "    fill: var(--button-hover-fill-color);\n",
              "  }\n",
              "\n",
              "  .colab-df-quickchart-complete:disabled,\n",
              "  .colab-df-quickchart-complete:disabled:hover {\n",
              "    background-color: var(--disabled-bg-color);\n",
              "    fill: var(--disabled-fill-color);\n",
              "    box-shadow: none;\n",
              "  }\n",
              "\n",
              "  .colab-df-spinner {\n",
              "    border: 2px solid var(--fill-color);\n",
              "    border-color: transparent;\n",
              "    border-bottom-color: var(--fill-color);\n",
              "    animation:\n",
              "      spin 1s steps(1) infinite;\n",
              "  }\n",
              "\n",
              "  @keyframes spin {\n",
              "    0% {\n",
              "      border-color: transparent;\n",
              "      border-bottom-color: var(--fill-color);\n",
              "      border-left-color: var(--fill-color);\n",
              "    }\n",
              "    20% {\n",
              "      border-color: transparent;\n",
              "      border-left-color: var(--fill-color);\n",
              "      border-top-color: var(--fill-color);\n",
              "    }\n",
              "    30% {\n",
              "      border-color: transparent;\n",
              "      border-left-color: var(--fill-color);\n",
              "      border-top-color: var(--fill-color);\n",
              "      border-right-color: var(--fill-color);\n",
              "    }\n",
              "    40% {\n",
              "      border-color: transparent;\n",
              "      border-right-color: var(--fill-color);\n",
              "      border-top-color: var(--fill-color);\n",
              "    }\n",
              "    60% {\n",
              "      border-color: transparent;\n",
              "      border-right-color: var(--fill-color);\n",
              "    }\n",
              "    80% {\n",
              "      border-color: transparent;\n",
              "      border-right-color: var(--fill-color);\n",
              "      border-bottom-color: var(--fill-color);\n",
              "    }\n",
              "    90% {\n",
              "      border-color: transparent;\n",
              "      border-bottom-color: var(--fill-color);\n",
              "    }\n",
              "  }\n",
              "</style>\n",
              "\n",
              "  <script>\n",
              "    async function quickchart(key) {\n",
              "      const quickchartButtonEl =\n",
              "        document.querySelector('#' + key + ' button');\n",
              "      quickchartButtonEl.disabled = true;  // To prevent multiple clicks.\n",
              "      quickchartButtonEl.classList.add('colab-df-spinner');\n",
              "      try {\n",
              "        const charts = await google.colab.kernel.invokeFunction(\n",
              "            'suggestCharts', [key], {});\n",
              "      } catch (error) {\n",
              "        console.error('Error during call to suggestCharts:', error);\n",
              "      }\n",
              "      quickchartButtonEl.classList.remove('colab-df-spinner');\n",
              "      quickchartButtonEl.classList.add('colab-df-quickchart-complete');\n",
              "    }\n",
              "    (() => {\n",
              "      let quickchartButtonEl =\n",
              "        document.querySelector('#df-10d88a0b-46c1-4cb4-9b6c-62fa0f9534cc button');\n",
              "      quickchartButtonEl.style.display =\n",
              "        google.colab.kernel.accessAllowed ? 'block' : 'none';\n",
              "    })();\n",
              "  </script>\n",
              "</div>\n",
              "    </div>\n",
              "  </div>\n"
            ],
            "application/vnd.google.colaboratory.intrinsic+json": {
              "type": "dataframe",
              "variable_name": "year2023_sample",
              "summary": "{\n  \"name\": \"year2023_sample\",\n  \"rows\": 2000,\n  \"fields\": [\n    {\n      \"column\": \"id\",\n      \"properties\": {\n        \"dtype\": \"number\",\n        \"std\": 360991799217414144,\n        \"min\": 2974832,\n        \"max\": 921579690072487435,\n        \"num_unique_values\": 2000,\n        \"samples\": [\n          835374011386684961,\n          723629837,\n          746178110275955467\n        ],\n        \"semantic_type\": \"\",\n        \"description\": \"\"\n      }\n    },\n    {\n      \"column\": \"comments\",\n      \"properties\": {\n        \"dtype\": \"string\",\n        \"num_unique_values\": 1794,\n        \"samples\": [\n          \"everything perfect romanos parents welcomed us house gave us necessary information really kind house exactly looks pictures oasis exarchia\",\n          \"tiny cozy place toilet needs work\",\n          \"toni wonderful host answering questions super helpful everything accomodating place super clean hotel like quality made stay athens super great close proximity everything highly recommend\"\n        ],\n        \"semantic_type\": \"\",\n        \"description\": \"\"\n      }\n    },\n    {\n      \"column\": \"sentiment\",\n      \"properties\": {\n        \"dtype\": \"category\",\n        \"num_unique_values\": 2,\n        \"samples\": [\n          \"NEGATIVE\",\n          \"POSITIVE\"\n        ],\n        \"semantic_type\": \"\",\n        \"description\": \"\"\n      }\n    }\n  ]\n}"
            }
          },
          "metadata": {},
          "execution_count": 31
        }
      ]
    },
    {
      "cell_type": "markdown",
      "source": [
        "Split with 80-20 ratio:"
      ],
      "metadata": {
        "id": "BMW79bpJLvz-"
      }
    },
    {
      "cell_type": "code",
      "source": [
        "X_train_2023, X_test_2023, Y_train_2023, Y_test_2023 = train_test_split(year2023_sample['comments'], year2023_sample['sentiment'], test_size=0.2, random_state=42)  # Set a seed for reproducibility"
      ],
      "metadata": {
        "id": "MuhdW7LeLyFW"
      },
      "execution_count": null,
      "outputs": []
    },
    {
      "cell_type": "markdown",
      "source": [
        "Shapes of the datasets:"
      ],
      "metadata": {
        "id": "vfUcHbJAL1h-"
      }
    },
    {
      "cell_type": "code",
      "source": [
        "print(\"Training set: \", X_train_2023.shape,  \", labels: \", Y_train_2023.shape)\n",
        "print(\"Test     set: \", X_test_2023.shape,  \", labels: \", Y_test_2023.shape)"
      ],
      "metadata": {
        "id": "wiN1Z7vwL3Ng",
        "colab": {
          "base_uri": "https://localhost:8080/"
        },
        "outputId": "19e65bb2-928b-43d9-b9b4-bd23e2ba86f6"
      },
      "execution_count": null,
      "outputs": [
        {
          "output_type": "stream",
          "name": "stdout",
          "text": [
            "Training set:  (1600,) , labels:  (1600,)\n",
            "Test     set:  (400,) , labels:  (400,)\n"
          ]
        }
      ]
    },
    {
      "cell_type": "markdown",
      "source": [
        "Save to disk:"
      ],
      "metadata": {
        "id": "xejYGmsZMI9w"
      }
    },
    {
      "cell_type": "code",
      "source": [
        "temp = pd.concat([X_train_2023, Y_train_2023], axis=1)\n",
        "\n",
        "temp.to_csv('output/train_2023.tsv', index=False, sep='\\t')\n",
        "\n",
        "temp = pd.concat([X_test_2023, Y_test_2023], axis=1)\n",
        "\n",
        "temp.to_csv('output/test_2023.tsv', index=False, sep='\\t')"
      ],
      "metadata": {
        "id": "uep2_uaSMK7e"
      },
      "execution_count": null,
      "outputs": []
    },
    {
      "cell_type": "markdown",
      "metadata": {
        "id": "7Jbxu3Efxg5l"
      },
      "source": [
        "### TF-IDF"
      ]
    },
    {
      "cell_type": "markdown",
      "metadata": {
        "id": "c0__as-3xg5l"
      },
      "source": [
        "#### Vectorization"
      ]
    },
    {
      "cell_type": "markdown",
      "source": [
        "- `Initializes a TF-IDF vectorizer with English stopwords and transforms the training data into TF-IDF vectors.`\n",
        "- `Transforms the test data too into TF-IDF vectors and prints the shape of the resulting training and test matrices.`\n",
        "\n",
        "\n",
        "---\n",
        "\n"
      ],
      "metadata": {
        "id": "n9xFckEAQbET"
      }
    },
    {
      "cell_type": "markdown",
      "metadata": {
        "id": "k-0YFkjcyddL"
      },
      "source": [
        "##### 2019"
      ]
    },
    {
      "cell_type": "code",
      "execution_count": null,
      "metadata": {
        "colab": {
          "base_uri": "https://localhost:8080/"
        },
        "id": "2upuPPYWxg5l",
        "outputId": "5ce2d6ba-cf3b-41d6-c860-ecd5f6bf6364"
      },
      "outputs": [
        {
          "output_type": "stream",
          "name": "stdout",
          "text": [
            "X train vector shape:  (1600, 6990)\n",
            "Y train vector shape:  (400, 6990)\n"
          ]
        }
      ],
      "source": [
        "vectorizer = TfidfVectorizer(stop_words='english')\n",
        "\n",
        "X_train_vectors_2019 = vectorizer.fit_transform(X_train_2019)\n",
        "\n",
        "X_test_vectors_2019 = vectorizer.transform(X_test_2019)\n",
        "\n",
        "print(\"X train vector shape: \" , X_train_vectors_2019.shape)\n",
        "print(\"Y train vector shape: \" , X_test_vectors_2019.shape)"
      ]
    },
    {
      "cell_type": "code",
      "execution_count": null,
      "metadata": {
        "id": "GAL4Z5xmxg5l"
      },
      "outputs": [],
      "source": [
        "tfidf_df_training_2019 = pd.DataFrame(X_train_vectors_2019.toarray(), columns=vectorizer.get_feature_names_out())\n",
        "\n",
        "tfidf_df_test_2019 = pd.DataFrame(X_test_vectors_2019.toarray(), columns=vectorizer.get_feature_names_out())"
      ]
    },
    {
      "cell_type": "markdown",
      "metadata": {
        "id": "DnxUOiKEyecn"
      },
      "source": [
        "##### 2023"
      ]
    },
    {
      "cell_type": "code",
      "source": [
        "vectorizer = TfidfVectorizer(stop_words='english')\n",
        "\n",
        "X_train_vectors_2023 = vectorizer.fit_transform(X_train_2023)\n",
        "\n",
        "X_test_vectors_2023 = vectorizer.transform(X_test_2023)\n",
        "\n",
        "print(\"X train vector shape: \" , X_train_vectors_2023.shape)\n",
        "print(\"Y train vector shape: \" , X_test_vectors_2023.shape)"
      ],
      "metadata": {
        "id": "HTISiLvpMRl9",
        "colab": {
          "base_uri": "https://localhost:8080/"
        },
        "outputId": "c8ce7207-06e8-4ff0-a114-39abf545dbb7"
      },
      "execution_count": null,
      "outputs": [
        {
          "output_type": "stream",
          "name": "stdout",
          "text": [
            "X train vector shape:  (1600, 6973)\n",
            "Y train vector shape:  (400, 6973)\n"
          ]
        }
      ]
    },
    {
      "cell_type": "code",
      "source": [
        "tfidf_df_training_2023 = pd.DataFrame(X_train_vectors_2023.toarray(), columns=vectorizer.get_feature_names_out())\n",
        "\n",
        "tfidf_df_test_2023 = pd.DataFrame(X_test_vectors_2023.toarray(), columns=vectorizer.get_feature_names_out())"
      ],
      "metadata": {
        "id": "cQmYFeisMSP4"
      },
      "execution_count": null,
      "outputs": []
    },
    {
      "cell_type": "markdown",
      "metadata": {
        "id": "9xyyDn__xg5m"
      },
      "source": [
        "#### SVM"
      ]
    },
    {
      "cell_type": "markdown",
      "metadata": {
        "id": "Ad66F65OygLN"
      },
      "source": [
        "##### 2019"
      ]
    },
    {
      "cell_type": "markdown",
      "source": [
        "- `Trains an SVM model with a linear kernel on the TF-IDF vectorized training data and makes predictions on the test data.`\n",
        "- `Calculates and prints precision, recall, and F1-score, along with a detailed classification report, and performs 10-fold cross-validation.`\n"
      ],
      "metadata": {
        "id": "_v_b9RWOQpI0"
      }
    },
    {
      "cell_type": "markdown",
      "metadata": {
        "id": "ZOpqKuqMxg5m"
      },
      "source": [
        "###### Initialize Model"
      ]
    },
    {
      "cell_type": "code",
      "execution_count": null,
      "metadata": {
        "id": "QpeTEM2zxg5m"
      },
      "outputs": [],
      "source": [
        "svm_model_2019 = SVC(kernel='linear', C=1.0, random_state=42)"
      ]
    },
    {
      "cell_type": "markdown",
      "metadata": {
        "id": "slgAPVPrxg5m"
      },
      "source": [
        "###### Train model"
      ]
    },
    {
      "cell_type": "code",
      "execution_count": null,
      "metadata": {
        "colab": {
          "base_uri": "https://localhost:8080/",
          "height": 75
        },
        "id": "ICLldwqOxg5m",
        "outputId": "6355e628-f43c-4360-f3bd-bda585e00410"
      },
      "outputs": [
        {
          "output_type": "execute_result",
          "data": {
            "text/plain": [
              "SVC(kernel='linear', random_state=42)"
            ],
            "text/html": [
              "<style>#sk-container-id-1 {color: black;background-color: white;}#sk-container-id-1 pre{padding: 0;}#sk-container-id-1 div.sk-toggleable {background-color: white;}#sk-container-id-1 label.sk-toggleable__label {cursor: pointer;display: block;width: 100%;margin-bottom: 0;padding: 0.3em;box-sizing: border-box;text-align: center;}#sk-container-id-1 label.sk-toggleable__label-arrow:before {content: \"▸\";float: left;margin-right: 0.25em;color: #696969;}#sk-container-id-1 label.sk-toggleable__label-arrow:hover:before {color: black;}#sk-container-id-1 div.sk-estimator:hover label.sk-toggleable__label-arrow:before {color: black;}#sk-container-id-1 div.sk-toggleable__content {max-height: 0;max-width: 0;overflow: hidden;text-align: left;background-color: #f0f8ff;}#sk-container-id-1 div.sk-toggleable__content pre {margin: 0.2em;color: black;border-radius: 0.25em;background-color: #f0f8ff;}#sk-container-id-1 input.sk-toggleable__control:checked~div.sk-toggleable__content {max-height: 200px;max-width: 100%;overflow: auto;}#sk-container-id-1 input.sk-toggleable__control:checked~label.sk-toggleable__label-arrow:before {content: \"▾\";}#sk-container-id-1 div.sk-estimator input.sk-toggleable__control:checked~label.sk-toggleable__label {background-color: #d4ebff;}#sk-container-id-1 div.sk-label input.sk-toggleable__control:checked~label.sk-toggleable__label {background-color: #d4ebff;}#sk-container-id-1 input.sk-hidden--visually {border: 0;clip: rect(1px 1px 1px 1px);clip: rect(1px, 1px, 1px, 1px);height: 1px;margin: -1px;overflow: hidden;padding: 0;position: absolute;width: 1px;}#sk-container-id-1 div.sk-estimator {font-family: monospace;background-color: #f0f8ff;border: 1px dotted black;border-radius: 0.25em;box-sizing: border-box;margin-bottom: 0.5em;}#sk-container-id-1 div.sk-estimator:hover {background-color: #d4ebff;}#sk-container-id-1 div.sk-parallel-item::after {content: \"\";width: 100%;border-bottom: 1px solid gray;flex-grow: 1;}#sk-container-id-1 div.sk-label:hover label.sk-toggleable__label {background-color: #d4ebff;}#sk-container-id-1 div.sk-serial::before {content: \"\";position: absolute;border-left: 1px solid gray;box-sizing: border-box;top: 0;bottom: 0;left: 50%;z-index: 0;}#sk-container-id-1 div.sk-serial {display: flex;flex-direction: column;align-items: center;background-color: white;padding-right: 0.2em;padding-left: 0.2em;position: relative;}#sk-container-id-1 div.sk-item {position: relative;z-index: 1;}#sk-container-id-1 div.sk-parallel {display: flex;align-items: stretch;justify-content: center;background-color: white;position: relative;}#sk-container-id-1 div.sk-item::before, #sk-container-id-1 div.sk-parallel-item::before {content: \"\";position: absolute;border-left: 1px solid gray;box-sizing: border-box;top: 0;bottom: 0;left: 50%;z-index: -1;}#sk-container-id-1 div.sk-parallel-item {display: flex;flex-direction: column;z-index: 1;position: relative;background-color: white;}#sk-container-id-1 div.sk-parallel-item:first-child::after {align-self: flex-end;width: 50%;}#sk-container-id-1 div.sk-parallel-item:last-child::after {align-self: flex-start;width: 50%;}#sk-container-id-1 div.sk-parallel-item:only-child::after {width: 0;}#sk-container-id-1 div.sk-dashed-wrapped {border: 1px dashed gray;margin: 0 0.4em 0.5em 0.4em;box-sizing: border-box;padding-bottom: 0.4em;background-color: white;}#sk-container-id-1 div.sk-label label {font-family: monospace;font-weight: bold;display: inline-block;line-height: 1.2em;}#sk-container-id-1 div.sk-label-container {text-align: center;}#sk-container-id-1 div.sk-container {/* jupyter's `normalize.less` sets `[hidden] { display: none; }` but bootstrap.min.css set `[hidden] { display: none !important; }` so we also need the `!important` here to be able to override the default hidden behavior on the sphinx rendered scikit-learn.org. See: https://github.com/scikit-learn/scikit-learn/issues/21755 */display: inline-block !important;position: relative;}#sk-container-id-1 div.sk-text-repr-fallback {display: none;}</style><div id=\"sk-container-id-1\" class=\"sk-top-container\"><div class=\"sk-text-repr-fallback\"><pre>SVC(kernel=&#x27;linear&#x27;, random_state=42)</pre><b>In a Jupyter environment, please rerun this cell to show the HTML representation or trust the notebook. <br />On GitHub, the HTML representation is unable to render, please try loading this page with nbviewer.org.</b></div><div class=\"sk-container\" hidden><div class=\"sk-item\"><div class=\"sk-estimator sk-toggleable\"><input class=\"sk-toggleable__control sk-hidden--visually\" id=\"sk-estimator-id-1\" type=\"checkbox\" checked><label for=\"sk-estimator-id-1\" class=\"sk-toggleable__label sk-toggleable__label-arrow\">SVC</label><div class=\"sk-toggleable__content\"><pre>SVC(kernel=&#x27;linear&#x27;, random_state=42)</pre></div></div></div></div></div>"
            ]
          },
          "metadata": {},
          "execution_count": 40
        }
      ],
      "source": [
        "svm_model_2019.fit(tfidf_df_training_2019, Y_train_2019)"
      ]
    },
    {
      "cell_type": "markdown",
      "metadata": {
        "id": "85O-uNZ8xg5m"
      },
      "source": [
        "###### Predict and Evaluate"
      ]
    },
    {
      "cell_type": "code",
      "execution_count": null,
      "metadata": {
        "id": "FUo4xomtxg5m",
        "colab": {
          "base_uri": "https://localhost:8080/"
        },
        "outputId": "518d66ce-95d6-4edb-c7ac-5516e58014ed"
      },
      "outputs": [
        {
          "output_type": "stream",
          "name": "stdout",
          "text": [
            "Precision: 0.9068\n",
            "Recall: 0.9100\n",
            "F1-score: 0.9044\n",
            "              precision    recall  f1-score   support\n",
            "\n",
            "    NEGATIVE       0.85      0.63      0.72        75\n",
            "    POSITIVE       0.92      0.98      0.95       325\n",
            "\n",
            "    accuracy                           0.91       400\n",
            "   macro avg       0.89      0.80      0.83       400\n",
            "weighted avg       0.91      0.91      0.90       400\n",
            "\n"
          ]
        }
      ],
      "source": [
        "y_pred_svm_2019 = svm_model_2019.predict(tfidf_df_test_2019)\n",
        "\n",
        "precision = precision_score(Y_test_2019, y_pred_svm_2019, average='weighted')\n",
        "recall = recall_score(Y_test_2019, y_pred_svm_2019, average='weighted')\n",
        "f1 = f1_score(Y_test_2019, y_pred_svm_2019, average='weighted')\n",
        "\n",
        "print(f\"Precision: {precision:.4f}\")\n",
        "print(f\"Recall: {recall:.4f}\")\n",
        "print(f\"F1-score: {f1:.4f}\")\n",
        "\n",
        "print(classification_report(Y_test_2019, y_pred_svm_2019))"
      ]
    },
    {
      "cell_type": "markdown",
      "metadata": {
        "id": "wQ5-2mGsxg5n"
      },
      "source": [
        "###### 10 Fold Validation"
      ]
    },
    {
      "cell_type": "code",
      "execution_count": null,
      "metadata": {
        "colab": {
          "base_uri": "https://localhost:8080/"
        },
        "id": "ZNIaw5kkxg5n",
        "outputId": "e3640462-5248-4d2c-95b2-73983d04206d"
      },
      "outputs": [
        {
          "output_type": "stream",
          "name": "stdout",
          "text": [
            "Fold 1\n",
            "Precision: 0.8835\n",
            "Recall: 0.8875\n",
            "F1-score: 0.8799\n",
            "------------------------------\n",
            "Fold 2\n",
            "Precision: 0.8678\n",
            "Recall: 0.8750\n",
            "F1-score: 0.8583\n",
            "------------------------------\n",
            "Fold 3\n",
            "Precision: 0.8952\n",
            "Recall: 0.8938\n",
            "F1-score: 0.8843\n",
            "------------------------------\n",
            "Fold 4\n",
            "Precision: 0.8856\n",
            "Recall: 0.8938\n",
            "F1-score: 0.8844\n",
            "------------------------------\n",
            "Fold 5\n",
            "Precision: 0.8522\n",
            "Recall: 0.8438\n",
            "F1-score: 0.8232\n",
            "------------------------------\n",
            "Fold 6\n",
            "Precision: 0.9022\n",
            "Recall: 0.9000\n",
            "F1-score: 0.8850\n",
            "------------------------------\n",
            "Fold 7\n",
            "Precision: 0.8814\n",
            "Recall: 0.8812\n",
            "F1-score: 0.8664\n",
            "------------------------------\n",
            "Fold 8\n",
            "Precision: 0.9184\n",
            "Recall: 0.9187\n",
            "F1-score: 0.9135\n",
            "------------------------------\n",
            "Fold 9\n",
            "Precision: 0.9030\n",
            "Recall: 0.9062\n",
            "F1-score: 0.9033\n",
            "------------------------------\n",
            "Fold 10\n",
            "Precision: 0.9022\n",
            "Recall: 0.9062\n",
            "F1-score: 0.8988\n",
            "------------------------------\n",
            "Mean Precision: 0.8891 (± 0.0183)\n",
            "Mean Recall: 0.8906 (± 0.0198)\n",
            "Mean F1-score: 0.8797 (± 0.0244)\n"
          ]
        }
      ],
      "source": [
        "NFoldVal(svm_model_2019, 10, X_train_vectors_2019, Y_train_2019)"
      ]
    },
    {
      "cell_type": "markdown",
      "metadata": {
        "id": "B2aOAkmSjeJW"
      },
      "source": [
        "##### 2023"
      ]
    },
    {
      "cell_type": "markdown",
      "source": [
        "###### Initialize Model"
      ],
      "metadata": {
        "id": "R0x2GqdnMZLd"
      }
    },
    {
      "cell_type": "code",
      "source": [
        "svm_model_2023 = SVC(kernel='linear', C=1.0, random_state=42)"
      ],
      "metadata": {
        "id": "k4ID2NU8Mhpg"
      },
      "execution_count": null,
      "outputs": []
    },
    {
      "cell_type": "markdown",
      "source": [
        "###### Train Model"
      ],
      "metadata": {
        "id": "0oQVoWY1MkWC"
      }
    },
    {
      "cell_type": "code",
      "source": [
        "svm_model_2023.fit(tfidf_df_training_2023, Y_train_2023)"
      ],
      "metadata": {
        "id": "6XZuA1fEMnVZ",
        "colab": {
          "base_uri": "https://localhost:8080/",
          "height": 75
        },
        "outputId": "76c0c390-926f-4c13-9cb3-111a1f0b4ae5"
      },
      "execution_count": null,
      "outputs": [
        {
          "output_type": "execute_result",
          "data": {
            "text/plain": [
              "SVC(kernel='linear', random_state=42)"
            ],
            "text/html": [
              "<style>#sk-container-id-2 {color: black;background-color: white;}#sk-container-id-2 pre{padding: 0;}#sk-container-id-2 div.sk-toggleable {background-color: white;}#sk-container-id-2 label.sk-toggleable__label {cursor: pointer;display: block;width: 100%;margin-bottom: 0;padding: 0.3em;box-sizing: border-box;text-align: center;}#sk-container-id-2 label.sk-toggleable__label-arrow:before {content: \"▸\";float: left;margin-right: 0.25em;color: #696969;}#sk-container-id-2 label.sk-toggleable__label-arrow:hover:before {color: black;}#sk-container-id-2 div.sk-estimator:hover label.sk-toggleable__label-arrow:before {color: black;}#sk-container-id-2 div.sk-toggleable__content {max-height: 0;max-width: 0;overflow: hidden;text-align: left;background-color: #f0f8ff;}#sk-container-id-2 div.sk-toggleable__content pre {margin: 0.2em;color: black;border-radius: 0.25em;background-color: #f0f8ff;}#sk-container-id-2 input.sk-toggleable__control:checked~div.sk-toggleable__content {max-height: 200px;max-width: 100%;overflow: auto;}#sk-container-id-2 input.sk-toggleable__control:checked~label.sk-toggleable__label-arrow:before {content: \"▾\";}#sk-container-id-2 div.sk-estimator input.sk-toggleable__control:checked~label.sk-toggleable__label {background-color: #d4ebff;}#sk-container-id-2 div.sk-label input.sk-toggleable__control:checked~label.sk-toggleable__label {background-color: #d4ebff;}#sk-container-id-2 input.sk-hidden--visually {border: 0;clip: rect(1px 1px 1px 1px);clip: rect(1px, 1px, 1px, 1px);height: 1px;margin: -1px;overflow: hidden;padding: 0;position: absolute;width: 1px;}#sk-container-id-2 div.sk-estimator {font-family: monospace;background-color: #f0f8ff;border: 1px dotted black;border-radius: 0.25em;box-sizing: border-box;margin-bottom: 0.5em;}#sk-container-id-2 div.sk-estimator:hover {background-color: #d4ebff;}#sk-container-id-2 div.sk-parallel-item::after {content: \"\";width: 100%;border-bottom: 1px solid gray;flex-grow: 1;}#sk-container-id-2 div.sk-label:hover label.sk-toggleable__label {background-color: #d4ebff;}#sk-container-id-2 div.sk-serial::before {content: \"\";position: absolute;border-left: 1px solid gray;box-sizing: border-box;top: 0;bottom: 0;left: 50%;z-index: 0;}#sk-container-id-2 div.sk-serial {display: flex;flex-direction: column;align-items: center;background-color: white;padding-right: 0.2em;padding-left: 0.2em;position: relative;}#sk-container-id-2 div.sk-item {position: relative;z-index: 1;}#sk-container-id-2 div.sk-parallel {display: flex;align-items: stretch;justify-content: center;background-color: white;position: relative;}#sk-container-id-2 div.sk-item::before, #sk-container-id-2 div.sk-parallel-item::before {content: \"\";position: absolute;border-left: 1px solid gray;box-sizing: border-box;top: 0;bottom: 0;left: 50%;z-index: -1;}#sk-container-id-2 div.sk-parallel-item {display: flex;flex-direction: column;z-index: 1;position: relative;background-color: white;}#sk-container-id-2 div.sk-parallel-item:first-child::after {align-self: flex-end;width: 50%;}#sk-container-id-2 div.sk-parallel-item:last-child::after {align-self: flex-start;width: 50%;}#sk-container-id-2 div.sk-parallel-item:only-child::after {width: 0;}#sk-container-id-2 div.sk-dashed-wrapped {border: 1px dashed gray;margin: 0 0.4em 0.5em 0.4em;box-sizing: border-box;padding-bottom: 0.4em;background-color: white;}#sk-container-id-2 div.sk-label label {font-family: monospace;font-weight: bold;display: inline-block;line-height: 1.2em;}#sk-container-id-2 div.sk-label-container {text-align: center;}#sk-container-id-2 div.sk-container {/* jupyter's `normalize.less` sets `[hidden] { display: none; }` but bootstrap.min.css set `[hidden] { display: none !important; }` so we also need the `!important` here to be able to override the default hidden behavior on the sphinx rendered scikit-learn.org. See: https://github.com/scikit-learn/scikit-learn/issues/21755 */display: inline-block !important;position: relative;}#sk-container-id-2 div.sk-text-repr-fallback {display: none;}</style><div id=\"sk-container-id-2\" class=\"sk-top-container\"><div class=\"sk-text-repr-fallback\"><pre>SVC(kernel=&#x27;linear&#x27;, random_state=42)</pre><b>In a Jupyter environment, please rerun this cell to show the HTML representation or trust the notebook. <br />On GitHub, the HTML representation is unable to render, please try loading this page with nbviewer.org.</b></div><div class=\"sk-container\" hidden><div class=\"sk-item\"><div class=\"sk-estimator sk-toggleable\"><input class=\"sk-toggleable__control sk-hidden--visually\" id=\"sk-estimator-id-2\" type=\"checkbox\" checked><label for=\"sk-estimator-id-2\" class=\"sk-toggleable__label sk-toggleable__label-arrow\">SVC</label><div class=\"sk-toggleable__content\"><pre>SVC(kernel=&#x27;linear&#x27;, random_state=42)</pre></div></div></div></div></div>"
            ]
          },
          "metadata": {},
          "execution_count": 44
        }
      ]
    },
    {
      "cell_type": "markdown",
      "source": [
        "###### Predict and Evaluate"
      ],
      "metadata": {
        "id": "CFFj290_ModU"
      }
    },
    {
      "cell_type": "code",
      "source": [
        "y_pred_svm_2023 = svm_model_2023.predict(tfidf_df_test_2023)\n",
        "\n",
        "precision = precision_score(Y_test_2023, y_pred_svm_2023, average='weighted')\n",
        "recall = recall_score(Y_test_2023, y_pred_svm_2023, average='weighted')\n",
        "f1 = f1_score(Y_test_2023, y_pred_svm_2023, average='weighted')\n",
        "\n",
        "print(f\"Precision: {precision:.4f}\")\n",
        "print(f\"Recall: {recall:.4f}\")\n",
        "print(f\"F1-score: {f1:.4f}\")\n",
        "\n",
        "report_rf_2019 = classification_report(Y_test_2023, y_pred_svm_2023)\n",
        "print(\"Random Forest Classification Report:\")\n",
        "print(report_rf_2019)"
      ],
      "metadata": {
        "colab": {
          "base_uri": "https://localhost:8080/"
        },
        "id": "O5p0vZOWN4ej",
        "outputId": "f9eb3c9d-dd30-43f2-e0a2-05916e3bba85"
      },
      "execution_count": null,
      "outputs": [
        {
          "output_type": "stream",
          "name": "stdout",
          "text": [
            "Precision: 0.9019\n",
            "Recall: 0.8925\n",
            "F1-score: 0.8775\n",
            "Random Forest Classification Report:\n",
            "              precision    recall  f1-score   support\n",
            "\n",
            "    NEGATIVE       0.97      0.48      0.64        81\n",
            "    POSITIVE       0.88      1.00      0.94       319\n",
            "\n",
            "    accuracy                           0.89       400\n",
            "   macro avg       0.93      0.74      0.79       400\n",
            "weighted avg       0.90      0.89      0.88       400\n",
            "\n"
          ]
        }
      ]
    },
    {
      "cell_type": "markdown",
      "source": [
        "###### 10 Fold Validation"
      ],
      "metadata": {
        "id": "E1K5atTfOFzi"
      }
    },
    {
      "cell_type": "code",
      "source": [
        "NFoldVal(svm_model_2023, 10, X_train_vectors_2023, Y_train_2023)"
      ],
      "metadata": {
        "id": "aRsdcrbWOICE",
        "colab": {
          "base_uri": "https://localhost:8080/"
        },
        "outputId": "a9ec0355-8213-4106-ce51-3bc83e6e9d33"
      },
      "execution_count": null,
      "outputs": [
        {
          "output_type": "stream",
          "name": "stdout",
          "text": [
            "Fold 1\n",
            "Precision: 0.9160\n",
            "Recall: 0.9062\n",
            "F1-score: 0.8939\n",
            "------------------------------\n",
            "Fold 2\n",
            "Precision: 0.9314\n",
            "Recall: 0.9313\n",
            "F1-score: 0.9244\n",
            "------------------------------\n",
            "Fold 3\n",
            "Precision: 0.8564\n",
            "Recall: 0.8562\n",
            "F1-score: 0.8402\n",
            "------------------------------\n",
            "Fold 4\n",
            "Precision: 0.9226\n",
            "Recall: 0.9250\n",
            "F1-score: 0.9189\n",
            "------------------------------\n",
            "Fold 5\n",
            "Precision: 0.9487\n",
            "Recall: 0.9500\n",
            "F1-score: 0.9482\n",
            "------------------------------\n",
            "Fold 6\n",
            "Precision: 0.8091\n",
            "Recall: 0.8250\n",
            "F1-score: 0.8078\n",
            "------------------------------\n",
            "Fold 7\n",
            "Precision: 0.8748\n",
            "Recall: 0.8812\n",
            "F1-score: 0.8736\n",
            "------------------------------\n",
            "Fold 8\n",
            "Precision: 0.9199\n",
            "Recall: 0.9187\n",
            "F1-score: 0.9095\n",
            "------------------------------\n",
            "Fold 9\n",
            "Precision: 0.8879\n",
            "Recall: 0.8812\n",
            "F1-score: 0.8644\n",
            "------------------------------\n",
            "Fold 10\n",
            "Precision: 0.8899\n",
            "Recall: 0.8812\n",
            "F1-score: 0.8680\n",
            "------------------------------\n",
            "Mean Precision: 0.8957 (± 0.0392)\n",
            "Mean Recall: 0.8956 (± 0.0359)\n",
            "Mean F1-score: 0.8849 (± 0.0402)\n"
          ]
        }
      ]
    },
    {
      "cell_type": "markdown",
      "metadata": {
        "id": "tpgIly7Oxg5n"
      },
      "source": [
        "#### Random forest"
      ]
    },
    {
      "cell_type": "markdown",
      "source": [
        "- `Trains a Random Forest classifier with 100 trees on the TF-IDF vectorized training data and makes predictions on the test data.`\n",
        "- `Calculates and prints precision, recall, and F1-score, along with a detailed classification report, and performs 10-fold cross-validation.`\n"
      ],
      "metadata": {
        "id": "E7ffISMGQ72i"
      }
    },
    {
      "cell_type": "markdown",
      "metadata": {
        "id": "TaD9s9ONiKlA"
      },
      "source": [
        "##### 2019"
      ]
    },
    {
      "cell_type": "markdown",
      "metadata": {
        "id": "UR-lhwnfiaSY"
      },
      "source": [
        "###### Initialize Model"
      ]
    },
    {
      "cell_type": "code",
      "execution_count": null,
      "metadata": {
        "id": "Ss6sw0JmiK5W"
      },
      "outputs": [],
      "source": [
        "rf_model_2019 = RandomForestClassifier(n_estimators=100, random_state=42)"
      ]
    },
    {
      "cell_type": "markdown",
      "metadata": {
        "id": "GejWkwqSiLQu"
      },
      "source": [
        "###### Train Model"
      ]
    },
    {
      "cell_type": "code",
      "execution_count": null,
      "metadata": {
        "colab": {
          "base_uri": "https://localhost:8080/",
          "height": 75
        },
        "id": "k4FOsVt8iLn-",
        "outputId": "a16a1e9b-30a7-408d-ccfe-93d980e8661d"
      },
      "outputs": [
        {
          "output_type": "execute_result",
          "data": {
            "text/plain": [
              "RandomForestClassifier(random_state=42)"
            ],
            "text/html": [
              "<style>#sk-container-id-3 {color: black;background-color: white;}#sk-container-id-3 pre{padding: 0;}#sk-container-id-3 div.sk-toggleable {background-color: white;}#sk-container-id-3 label.sk-toggleable__label {cursor: pointer;display: block;width: 100%;margin-bottom: 0;padding: 0.3em;box-sizing: border-box;text-align: center;}#sk-container-id-3 label.sk-toggleable__label-arrow:before {content: \"▸\";float: left;margin-right: 0.25em;color: #696969;}#sk-container-id-3 label.sk-toggleable__label-arrow:hover:before {color: black;}#sk-container-id-3 div.sk-estimator:hover label.sk-toggleable__label-arrow:before {color: black;}#sk-container-id-3 div.sk-toggleable__content {max-height: 0;max-width: 0;overflow: hidden;text-align: left;background-color: #f0f8ff;}#sk-container-id-3 div.sk-toggleable__content pre {margin: 0.2em;color: black;border-radius: 0.25em;background-color: #f0f8ff;}#sk-container-id-3 input.sk-toggleable__control:checked~div.sk-toggleable__content {max-height: 200px;max-width: 100%;overflow: auto;}#sk-container-id-3 input.sk-toggleable__control:checked~label.sk-toggleable__label-arrow:before {content: \"▾\";}#sk-container-id-3 div.sk-estimator input.sk-toggleable__control:checked~label.sk-toggleable__label {background-color: #d4ebff;}#sk-container-id-3 div.sk-label input.sk-toggleable__control:checked~label.sk-toggleable__label {background-color: #d4ebff;}#sk-container-id-3 input.sk-hidden--visually {border: 0;clip: rect(1px 1px 1px 1px);clip: rect(1px, 1px, 1px, 1px);height: 1px;margin: -1px;overflow: hidden;padding: 0;position: absolute;width: 1px;}#sk-container-id-3 div.sk-estimator {font-family: monospace;background-color: #f0f8ff;border: 1px dotted black;border-radius: 0.25em;box-sizing: border-box;margin-bottom: 0.5em;}#sk-container-id-3 div.sk-estimator:hover {background-color: #d4ebff;}#sk-container-id-3 div.sk-parallel-item::after {content: \"\";width: 100%;border-bottom: 1px solid gray;flex-grow: 1;}#sk-container-id-3 div.sk-label:hover label.sk-toggleable__label {background-color: #d4ebff;}#sk-container-id-3 div.sk-serial::before {content: \"\";position: absolute;border-left: 1px solid gray;box-sizing: border-box;top: 0;bottom: 0;left: 50%;z-index: 0;}#sk-container-id-3 div.sk-serial {display: flex;flex-direction: column;align-items: center;background-color: white;padding-right: 0.2em;padding-left: 0.2em;position: relative;}#sk-container-id-3 div.sk-item {position: relative;z-index: 1;}#sk-container-id-3 div.sk-parallel {display: flex;align-items: stretch;justify-content: center;background-color: white;position: relative;}#sk-container-id-3 div.sk-item::before, #sk-container-id-3 div.sk-parallel-item::before {content: \"\";position: absolute;border-left: 1px solid gray;box-sizing: border-box;top: 0;bottom: 0;left: 50%;z-index: -1;}#sk-container-id-3 div.sk-parallel-item {display: flex;flex-direction: column;z-index: 1;position: relative;background-color: white;}#sk-container-id-3 div.sk-parallel-item:first-child::after {align-self: flex-end;width: 50%;}#sk-container-id-3 div.sk-parallel-item:last-child::after {align-self: flex-start;width: 50%;}#sk-container-id-3 div.sk-parallel-item:only-child::after {width: 0;}#sk-container-id-3 div.sk-dashed-wrapped {border: 1px dashed gray;margin: 0 0.4em 0.5em 0.4em;box-sizing: border-box;padding-bottom: 0.4em;background-color: white;}#sk-container-id-3 div.sk-label label {font-family: monospace;font-weight: bold;display: inline-block;line-height: 1.2em;}#sk-container-id-3 div.sk-label-container {text-align: center;}#sk-container-id-3 div.sk-container {/* jupyter's `normalize.less` sets `[hidden] { display: none; }` but bootstrap.min.css set `[hidden] { display: none !important; }` so we also need the `!important` here to be able to override the default hidden behavior on the sphinx rendered scikit-learn.org. See: https://github.com/scikit-learn/scikit-learn/issues/21755 */display: inline-block !important;position: relative;}#sk-container-id-3 div.sk-text-repr-fallback {display: none;}</style><div id=\"sk-container-id-3\" class=\"sk-top-container\"><div class=\"sk-text-repr-fallback\"><pre>RandomForestClassifier(random_state=42)</pre><b>In a Jupyter environment, please rerun this cell to show the HTML representation or trust the notebook. <br />On GitHub, the HTML representation is unable to render, please try loading this page with nbviewer.org.</b></div><div class=\"sk-container\" hidden><div class=\"sk-item\"><div class=\"sk-estimator sk-toggleable\"><input class=\"sk-toggleable__control sk-hidden--visually\" id=\"sk-estimator-id-3\" type=\"checkbox\" checked><label for=\"sk-estimator-id-3\" class=\"sk-toggleable__label sk-toggleable__label-arrow\">RandomForestClassifier</label><div class=\"sk-toggleable__content\"><pre>RandomForestClassifier(random_state=42)</pre></div></div></div></div></div>"
            ]
          },
          "metadata": {},
          "execution_count": 48
        }
      ],
      "source": [
        "rf_model_2019.fit(X_train_vectors_2019, Y_train_2019)"
      ]
    },
    {
      "cell_type": "markdown",
      "metadata": {
        "id": "P_Venw8diyB5"
      },
      "source": [
        "###### Predict and Evaluate"
      ]
    },
    {
      "cell_type": "code",
      "execution_count": null,
      "metadata": {
        "colab": {
          "base_uri": "https://localhost:8080/"
        },
        "id": "89wlw366ixsT",
        "outputId": "55636edb-b2dc-428f-ea1f-2e3a87304903"
      },
      "outputs": [
        {
          "output_type": "stream",
          "name": "stdout",
          "text": [
            "Precision: 0.9073\n",
            "Recall: 0.9100\n",
            "F1-score: 0.9037\n",
            "Random Forest Classification Report:\n",
            "              precision    recall  f1-score   support\n",
            "\n",
            "    NEGATIVE       0.87      0.61      0.72        75\n",
            "    POSITIVE       0.92      0.98      0.95       325\n",
            "\n",
            "    accuracy                           0.91       400\n",
            "   macro avg       0.89      0.80      0.83       400\n",
            "weighted avg       0.91      0.91      0.90       400\n",
            "\n"
          ]
        }
      ],
      "source": [
        "y_pred_rf_2019 = rf_model_2019.predict(X_test_vectors_2019)\n",
        "\n",
        "precision = precision_score(Y_test_2019, y_pred_rf_2019, average='weighted')\n",
        "recall = recall_score(Y_test_2019, y_pred_rf_2019, average='weighted')\n",
        "f1 = f1_score(Y_test_2019, y_pred_rf_2019, average='weighted')\n",
        "\n",
        "print(f\"Precision: {precision:.4f}\")\n",
        "print(f\"Recall: {recall:.4f}\")\n",
        "print(f\"F1-score: {f1:.4f}\")\n",
        "\n",
        "report_rf_2019 = classification_report(Y_test_2019, y_pred_rf_2019)\n",
        "print(\"Random Forest Classification Report:\")\n",
        "print(report_rf_2019)"
      ]
    },
    {
      "cell_type": "markdown",
      "metadata": {
        "id": "yex_wyIQjKHa"
      },
      "source": [
        "###### 10 Fold Validation"
      ]
    },
    {
      "cell_type": "code",
      "execution_count": null,
      "metadata": {
        "colab": {
          "base_uri": "https://localhost:8080/"
        },
        "id": "KS2pAEi2jMtl",
        "outputId": "de2c1d0c-722e-4cea-f14f-4a9695fcd1d1"
      },
      "outputs": [
        {
          "output_type": "stream",
          "name": "stdout",
          "text": [
            "Fold 1\n",
            "Precision: 0.8701\n",
            "Recall: 0.8750\n",
            "F1-score: 0.8644\n",
            "------------------------------\n",
            "Fold 2\n",
            "Precision: 0.8788\n",
            "Recall: 0.8812\n",
            "F1-score: 0.8638\n",
            "------------------------------\n",
            "Fold 3\n",
            "Precision: 0.9053\n",
            "Recall: 0.9000\n",
            "F1-score: 0.8902\n",
            "------------------------------\n",
            "Fold 4\n",
            "Precision: 0.8866\n",
            "Recall: 0.8938\n",
            "F1-score: 0.8816\n",
            "------------------------------\n",
            "Fold 5\n",
            "Precision: 0.8586\n",
            "Recall: 0.8562\n",
            "F1-score: 0.8422\n",
            "------------------------------\n",
            "Fold 6\n",
            "Precision: 0.8905\n",
            "Recall: 0.8938\n",
            "F1-score: 0.8794\n",
            "------------------------------\n",
            "Fold 7\n",
            "Precision: 0.8685\n",
            "Recall: 0.8688\n",
            "F1-score: 0.8491\n",
            "------------------------------\n",
            "Fold 8\n",
            "Precision: 0.9184\n",
            "Recall: 0.9187\n",
            "F1-score: 0.9135\n",
            "------------------------------\n",
            "Fold 9\n",
            "Precision: 0.9030\n",
            "Recall: 0.9062\n",
            "F1-score: 0.9033\n",
            "------------------------------\n",
            "Fold 10\n",
            "Precision: 0.9022\n",
            "Recall: 0.9062\n",
            "F1-score: 0.8988\n",
            "------------------------------\n",
            "Mean Precision: 0.8882 (± 0.0182)\n",
            "Mean Recall: 0.8900 (± 0.0184)\n",
            "Mean F1-score: 0.8786 (± 0.0223)\n"
          ]
        }
      ],
      "source": [
        "NFoldVal(rf_model_2019, 10, X_train_vectors_2019, Y_train_2019)"
      ]
    },
    {
      "cell_type": "markdown",
      "metadata": {
        "id": "rVXGAhbkjXvT"
      },
      "source": [
        "##### 2023"
      ]
    },
    {
      "cell_type": "markdown",
      "source": [
        "###### Initialize Model"
      ],
      "metadata": {
        "id": "AejVnCB-1hoU"
      }
    },
    {
      "cell_type": "code",
      "source": [
        "rf_model_2023 = RandomForestClassifier(n_estimators=100, random_state=42)"
      ],
      "metadata": {
        "id": "Egr2jOpP1fNX"
      },
      "execution_count": null,
      "outputs": []
    },
    {
      "cell_type": "markdown",
      "source": [
        "###### Train Model"
      ],
      "metadata": {
        "id": "e4nDmMe11h8B"
      }
    },
    {
      "cell_type": "code",
      "source": [
        "rf_model_2023.fit(X_train_vectors_2023, Y_train_2023)"
      ],
      "metadata": {
        "id": "jVTl7qsZ1fgn",
        "colab": {
          "base_uri": "https://localhost:8080/",
          "height": 75
        },
        "outputId": "e60be746-175b-4b3a-eea8-9a4a219384e1"
      },
      "execution_count": null,
      "outputs": [
        {
          "output_type": "execute_result",
          "data": {
            "text/plain": [
              "RandomForestClassifier(random_state=42)"
            ],
            "text/html": [
              "<style>#sk-container-id-4 {color: black;background-color: white;}#sk-container-id-4 pre{padding: 0;}#sk-container-id-4 div.sk-toggleable {background-color: white;}#sk-container-id-4 label.sk-toggleable__label {cursor: pointer;display: block;width: 100%;margin-bottom: 0;padding: 0.3em;box-sizing: border-box;text-align: center;}#sk-container-id-4 label.sk-toggleable__label-arrow:before {content: \"▸\";float: left;margin-right: 0.25em;color: #696969;}#sk-container-id-4 label.sk-toggleable__label-arrow:hover:before {color: black;}#sk-container-id-4 div.sk-estimator:hover label.sk-toggleable__label-arrow:before {color: black;}#sk-container-id-4 div.sk-toggleable__content {max-height: 0;max-width: 0;overflow: hidden;text-align: left;background-color: #f0f8ff;}#sk-container-id-4 div.sk-toggleable__content pre {margin: 0.2em;color: black;border-radius: 0.25em;background-color: #f0f8ff;}#sk-container-id-4 input.sk-toggleable__control:checked~div.sk-toggleable__content {max-height: 200px;max-width: 100%;overflow: auto;}#sk-container-id-4 input.sk-toggleable__control:checked~label.sk-toggleable__label-arrow:before {content: \"▾\";}#sk-container-id-4 div.sk-estimator input.sk-toggleable__control:checked~label.sk-toggleable__label {background-color: #d4ebff;}#sk-container-id-4 div.sk-label input.sk-toggleable__control:checked~label.sk-toggleable__label {background-color: #d4ebff;}#sk-container-id-4 input.sk-hidden--visually {border: 0;clip: rect(1px 1px 1px 1px);clip: rect(1px, 1px, 1px, 1px);height: 1px;margin: -1px;overflow: hidden;padding: 0;position: absolute;width: 1px;}#sk-container-id-4 div.sk-estimator {font-family: monospace;background-color: #f0f8ff;border: 1px dotted black;border-radius: 0.25em;box-sizing: border-box;margin-bottom: 0.5em;}#sk-container-id-4 div.sk-estimator:hover {background-color: #d4ebff;}#sk-container-id-4 div.sk-parallel-item::after {content: \"\";width: 100%;border-bottom: 1px solid gray;flex-grow: 1;}#sk-container-id-4 div.sk-label:hover label.sk-toggleable__label {background-color: #d4ebff;}#sk-container-id-4 div.sk-serial::before {content: \"\";position: absolute;border-left: 1px solid gray;box-sizing: border-box;top: 0;bottom: 0;left: 50%;z-index: 0;}#sk-container-id-4 div.sk-serial {display: flex;flex-direction: column;align-items: center;background-color: white;padding-right: 0.2em;padding-left: 0.2em;position: relative;}#sk-container-id-4 div.sk-item {position: relative;z-index: 1;}#sk-container-id-4 div.sk-parallel {display: flex;align-items: stretch;justify-content: center;background-color: white;position: relative;}#sk-container-id-4 div.sk-item::before, #sk-container-id-4 div.sk-parallel-item::before {content: \"\";position: absolute;border-left: 1px solid gray;box-sizing: border-box;top: 0;bottom: 0;left: 50%;z-index: -1;}#sk-container-id-4 div.sk-parallel-item {display: flex;flex-direction: column;z-index: 1;position: relative;background-color: white;}#sk-container-id-4 div.sk-parallel-item:first-child::after {align-self: flex-end;width: 50%;}#sk-container-id-4 div.sk-parallel-item:last-child::after {align-self: flex-start;width: 50%;}#sk-container-id-4 div.sk-parallel-item:only-child::after {width: 0;}#sk-container-id-4 div.sk-dashed-wrapped {border: 1px dashed gray;margin: 0 0.4em 0.5em 0.4em;box-sizing: border-box;padding-bottom: 0.4em;background-color: white;}#sk-container-id-4 div.sk-label label {font-family: monospace;font-weight: bold;display: inline-block;line-height: 1.2em;}#sk-container-id-4 div.sk-label-container {text-align: center;}#sk-container-id-4 div.sk-container {/* jupyter's `normalize.less` sets `[hidden] { display: none; }` but bootstrap.min.css set `[hidden] { display: none !important; }` so we also need the `!important` here to be able to override the default hidden behavior on the sphinx rendered scikit-learn.org. See: https://github.com/scikit-learn/scikit-learn/issues/21755 */display: inline-block !important;position: relative;}#sk-container-id-4 div.sk-text-repr-fallback {display: none;}</style><div id=\"sk-container-id-4\" class=\"sk-top-container\"><div class=\"sk-text-repr-fallback\"><pre>RandomForestClassifier(random_state=42)</pre><b>In a Jupyter environment, please rerun this cell to show the HTML representation or trust the notebook. <br />On GitHub, the HTML representation is unable to render, please try loading this page with nbviewer.org.</b></div><div class=\"sk-container\" hidden><div class=\"sk-item\"><div class=\"sk-estimator sk-toggleable\"><input class=\"sk-toggleable__control sk-hidden--visually\" id=\"sk-estimator-id-4\" type=\"checkbox\" checked><label for=\"sk-estimator-id-4\" class=\"sk-toggleable__label sk-toggleable__label-arrow\">RandomForestClassifier</label><div class=\"sk-toggleable__content\"><pre>RandomForestClassifier(random_state=42)</pre></div></div></div></div></div>"
            ]
          },
          "metadata": {},
          "execution_count": 52
        }
      ]
    },
    {
      "cell_type": "markdown",
      "source": [
        "###### Predict and Evaluate"
      ],
      "metadata": {
        "id": "d5CRgX5d1i_m"
      }
    },
    {
      "cell_type": "code",
      "source": [
        "y_pred_rf_2023 = rf_model_2023.predict(X_test_vectors_2023)\n",
        "\n",
        "precision = precision_score(Y_test_2023, y_pred_rf_2023, average='weighted')\n",
        "recall = recall_score(Y_test_2023, y_pred_rf_2023, average='weighted')\n",
        "f1 = f1_score(Y_test_2023, y_pred_rf_2023, average='weighted')\n",
        "\n",
        "print(f\"Precision: {precision:.4f}\")\n",
        "print(f\"Recall: {recall:.4f}\")\n",
        "print(f\"F1-score: {f1:.4f}\")\n",
        "\n",
        "print(\"Random Forest Classification Report:\")\n",
        "print(classification_report(Y_test_2023, y_pred_rf_2023))"
      ],
      "metadata": {
        "id": "8ikAnPgn1f7w",
        "colab": {
          "base_uri": "https://localhost:8080/"
        },
        "outputId": "d9a6a94f-0336-4b5c-f3e5-08f246841507"
      },
      "execution_count": null,
      "outputs": [
        {
          "output_type": "stream",
          "name": "stdout",
          "text": [
            "Precision: 0.9014\n",
            "Recall: 0.8875\n",
            "F1-score: 0.8696\n",
            "Random Forest Classification Report:\n",
            "              precision    recall  f1-score   support\n",
            "\n",
            "    NEGATIVE       1.00      0.44      0.62        81\n",
            "    POSITIVE       0.88      1.00      0.93       319\n",
            "\n",
            "    accuracy                           0.89       400\n",
            "   macro avg       0.94      0.72      0.77       400\n",
            "weighted avg       0.90      0.89      0.87       400\n",
            "\n"
          ]
        }
      ]
    },
    {
      "cell_type": "markdown",
      "source": [
        "###### 10 Fold Validation"
      ],
      "metadata": {
        "id": "2Fr-7Wcl1jWv"
      }
    },
    {
      "cell_type": "code",
      "source": [
        "NFoldVal(rf_model_2023, 10, X_train_vectors_2023, Y_train_2023)"
      ],
      "metadata": {
        "id": "VpmsUmau1hRl",
        "colab": {
          "base_uri": "https://localhost:8080/"
        },
        "outputId": "e739f18d-7686-4822-b96c-a051ba4b193c"
      },
      "execution_count": null,
      "outputs": [
        {
          "output_type": "stream",
          "name": "stdout",
          "text": [
            "Fold 1\n",
            "Precision: 0.9211\n",
            "Recall: 0.9125\n",
            "F1-score: 0.9020\n",
            "------------------------------\n",
            "Fold 2\n",
            "Precision: 0.9222\n",
            "Recall: 0.9250\n",
            "F1-score: 0.9186\n",
            "------------------------------\n",
            "Fold 3\n",
            "Precision: 0.8811\n",
            "Recall: 0.8812\n",
            "F1-score: 0.8720\n",
            "------------------------------\n",
            "Fold 4\n",
            "Precision: 0.9075\n",
            "Recall: 0.9125\n",
            "F1-score: 0.9054\n",
            "------------------------------\n",
            "Fold 5\n",
            "Precision: 0.9422\n",
            "Recall: 0.9437\n",
            "F1-score: 0.9411\n",
            "------------------------------\n",
            "Fold 6\n",
            "Precision: 0.8091\n",
            "Recall: 0.8250\n",
            "F1-score: 0.8078\n",
            "------------------------------\n",
            "Fold 7\n",
            "Precision: 0.8602\n",
            "Recall: 0.8688\n",
            "F1-score: 0.8602\n",
            "------------------------------\n",
            "Fold 8\n",
            "Precision: 0.9199\n",
            "Recall: 0.9187\n",
            "F1-score: 0.9095\n",
            "------------------------------\n",
            "Fold 9\n",
            "Precision: 0.8879\n",
            "Recall: 0.8812\n",
            "F1-score: 0.8644\n",
            "------------------------------\n",
            "Fold 10\n",
            "Precision: 0.8905\n",
            "Recall: 0.8875\n",
            "F1-score: 0.8779\n",
            "------------------------------\n",
            "Mean Precision: 0.8942 (± 0.0364)\n",
            "Mean Recall: 0.8956 (± 0.0324)\n",
            "Mean F1-score: 0.8859 (± 0.0358)\n"
          ]
        }
      ]
    },
    {
      "cell_type": "markdown",
      "metadata": {
        "id": "YSvR-NNoxg5n"
      },
      "source": [
        "#### KNN (TODO)"
      ]
    },
    {
      "cell_type": "markdown",
      "source": [
        "- `Trains a K-Nearest Neighbors (KNN) classifier with 5 neighbors on the TF-IDF vectorized training data and makes predictions on the test data.`\n",
        "- `Calculates and prints precision, recall, and F1-score, along with a detailed classification report, and performs 10-fold cross-validation.`\n"
      ],
      "metadata": {
        "id": "ZnUjTzXbREhm"
      }
    },
    {
      "cell_type": "markdown",
      "metadata": {
        "id": "qoGe4qlFql1D"
      },
      "source": [
        "##### 2019"
      ]
    },
    {
      "cell_type": "markdown",
      "metadata": {
        "id": "uv3xUhrRqu2l"
      },
      "source": [
        "###### Initialize Model"
      ]
    },
    {
      "cell_type": "code",
      "execution_count": null,
      "metadata": {
        "id": "yDyokv78q_Mq"
      },
      "outputs": [],
      "source": [
        "\n",
        "knn_model_2019 = KNeighborsClassifier(n_neighbors=5)"
      ]
    },
    {
      "cell_type": "markdown",
      "metadata": {
        "id": "vkqco95wrQWd"
      },
      "source": [
        "###### Train Model"
      ]
    },
    {
      "cell_type": "code",
      "execution_count": null,
      "metadata": {
        "colab": {
          "base_uri": "https://localhost:8080/",
          "height": 75
        },
        "id": "u8dFWiqPrSb1",
        "outputId": "a05ea0f4-2548-498f-e8da-6ad13d8d1202"
      },
      "outputs": [
        {
          "output_type": "execute_result",
          "data": {
            "text/plain": [
              "KNeighborsClassifier()"
            ],
            "text/html": [
              "<style>#sk-container-id-5 {color: black;background-color: white;}#sk-container-id-5 pre{padding: 0;}#sk-container-id-5 div.sk-toggleable {background-color: white;}#sk-container-id-5 label.sk-toggleable__label {cursor: pointer;display: block;width: 100%;margin-bottom: 0;padding: 0.3em;box-sizing: border-box;text-align: center;}#sk-container-id-5 label.sk-toggleable__label-arrow:before {content: \"▸\";float: left;margin-right: 0.25em;color: #696969;}#sk-container-id-5 label.sk-toggleable__label-arrow:hover:before {color: black;}#sk-container-id-5 div.sk-estimator:hover label.sk-toggleable__label-arrow:before {color: black;}#sk-container-id-5 div.sk-toggleable__content {max-height: 0;max-width: 0;overflow: hidden;text-align: left;background-color: #f0f8ff;}#sk-container-id-5 div.sk-toggleable__content pre {margin: 0.2em;color: black;border-radius: 0.25em;background-color: #f0f8ff;}#sk-container-id-5 input.sk-toggleable__control:checked~div.sk-toggleable__content {max-height: 200px;max-width: 100%;overflow: auto;}#sk-container-id-5 input.sk-toggleable__control:checked~label.sk-toggleable__label-arrow:before {content: \"▾\";}#sk-container-id-5 div.sk-estimator input.sk-toggleable__control:checked~label.sk-toggleable__label {background-color: #d4ebff;}#sk-container-id-5 div.sk-label input.sk-toggleable__control:checked~label.sk-toggleable__label {background-color: #d4ebff;}#sk-container-id-5 input.sk-hidden--visually {border: 0;clip: rect(1px 1px 1px 1px);clip: rect(1px, 1px, 1px, 1px);height: 1px;margin: -1px;overflow: hidden;padding: 0;position: absolute;width: 1px;}#sk-container-id-5 div.sk-estimator {font-family: monospace;background-color: #f0f8ff;border: 1px dotted black;border-radius: 0.25em;box-sizing: border-box;margin-bottom: 0.5em;}#sk-container-id-5 div.sk-estimator:hover {background-color: #d4ebff;}#sk-container-id-5 div.sk-parallel-item::after {content: \"\";width: 100%;border-bottom: 1px solid gray;flex-grow: 1;}#sk-container-id-5 div.sk-label:hover label.sk-toggleable__label {background-color: #d4ebff;}#sk-container-id-5 div.sk-serial::before {content: \"\";position: absolute;border-left: 1px solid gray;box-sizing: border-box;top: 0;bottom: 0;left: 50%;z-index: 0;}#sk-container-id-5 div.sk-serial {display: flex;flex-direction: column;align-items: center;background-color: white;padding-right: 0.2em;padding-left: 0.2em;position: relative;}#sk-container-id-5 div.sk-item {position: relative;z-index: 1;}#sk-container-id-5 div.sk-parallel {display: flex;align-items: stretch;justify-content: center;background-color: white;position: relative;}#sk-container-id-5 div.sk-item::before, #sk-container-id-5 div.sk-parallel-item::before {content: \"\";position: absolute;border-left: 1px solid gray;box-sizing: border-box;top: 0;bottom: 0;left: 50%;z-index: -1;}#sk-container-id-5 div.sk-parallel-item {display: flex;flex-direction: column;z-index: 1;position: relative;background-color: white;}#sk-container-id-5 div.sk-parallel-item:first-child::after {align-self: flex-end;width: 50%;}#sk-container-id-5 div.sk-parallel-item:last-child::after {align-self: flex-start;width: 50%;}#sk-container-id-5 div.sk-parallel-item:only-child::after {width: 0;}#sk-container-id-5 div.sk-dashed-wrapped {border: 1px dashed gray;margin: 0 0.4em 0.5em 0.4em;box-sizing: border-box;padding-bottom: 0.4em;background-color: white;}#sk-container-id-5 div.sk-label label {font-family: monospace;font-weight: bold;display: inline-block;line-height: 1.2em;}#sk-container-id-5 div.sk-label-container {text-align: center;}#sk-container-id-5 div.sk-container {/* jupyter's `normalize.less` sets `[hidden] { display: none; }` but bootstrap.min.css set `[hidden] { display: none !important; }` so we also need the `!important` here to be able to override the default hidden behavior on the sphinx rendered scikit-learn.org. See: https://github.com/scikit-learn/scikit-learn/issues/21755 */display: inline-block !important;position: relative;}#sk-container-id-5 div.sk-text-repr-fallback {display: none;}</style><div id=\"sk-container-id-5\" class=\"sk-top-container\"><div class=\"sk-text-repr-fallback\"><pre>KNeighborsClassifier()</pre><b>In a Jupyter environment, please rerun this cell to show the HTML representation or trust the notebook. <br />On GitHub, the HTML representation is unable to render, please try loading this page with nbviewer.org.</b></div><div class=\"sk-container\" hidden><div class=\"sk-item\"><div class=\"sk-estimator sk-toggleable\"><input class=\"sk-toggleable__control sk-hidden--visually\" id=\"sk-estimator-id-5\" type=\"checkbox\" checked><label for=\"sk-estimator-id-5\" class=\"sk-toggleable__label sk-toggleable__label-arrow\">KNeighborsClassifier</label><div class=\"sk-toggleable__content\"><pre>KNeighborsClassifier()</pre></div></div></div></div></div>"
            ]
          },
          "metadata": {},
          "execution_count": 56
        }
      ],
      "source": [
        "knn_model_2019.fit(X_train_vectors_2019, Y_train_2019)"
      ]
    },
    {
      "cell_type": "markdown",
      "metadata": {
        "id": "ClziW4UHrVGf"
      },
      "source": [
        "###### Predict and Evaluate"
      ]
    },
    {
      "cell_type": "code",
      "execution_count": null,
      "metadata": {
        "colab": {
          "base_uri": "https://localhost:8080/"
        },
        "id": "1vwO18cdraIR",
        "outputId": "4303106b-6409-4d3e-dad4-69ad38a3fe4f"
      },
      "outputs": [
        {
          "output_type": "stream",
          "name": "stdout",
          "text": [
            "Precision: 0.8510\n",
            "Recall: 0.8175\n",
            "F1-score: 0.7402\n",
            "KNN Classification Report:\n",
            "              precision    recall  f1-score   support\n",
            "\n",
            "    NEGATIVE       1.00      0.03      0.05        75\n",
            "    POSITIVE       0.82      1.00      0.90       325\n",
            "\n",
            "    accuracy                           0.82       400\n",
            "   macro avg       0.91      0.51      0.48       400\n",
            "weighted avg       0.85      0.82      0.74       400\n",
            "\n"
          ]
        }
      ],
      "source": [
        "y_pred_knn_2019 = knn_model_2019.predict(X_test_vectors_2019)\n",
        "\n",
        "precision = precision_score(Y_test_2019, y_pred_knn_2019, average='weighted')\n",
        "recall = recall_score(Y_test_2019, y_pred_knn_2019, average='weighted')\n",
        "f1 = f1_score(Y_test_2019, y_pred_knn_2019, average='weighted')\n",
        "\n",
        "print(f\"Precision: {precision:.4f}\")\n",
        "print(f\"Recall: {recall:.4f}\")\n",
        "print(f\"F1-score: {f1:.4f}\")\n",
        "\n",
        "report_knn = classification_report(Y_test_2019, y_pred_knn_2019)\n",
        "print(\"KNN Classification Report:\")\n",
        "print(report_knn)"
      ]
    },
    {
      "cell_type": "markdown",
      "metadata": {
        "id": "_1R0R1gArvir"
      },
      "source": [
        "###### 10 fold Validation"
      ]
    },
    {
      "cell_type": "code",
      "execution_count": null,
      "metadata": {
        "colab": {
          "base_uri": "https://localhost:8080/"
        },
        "id": "GQLz_mm5sHlk",
        "outputId": "7f398283-6fb1-422e-c3ab-a13a424d13e0"
      },
      "outputs": [
        {
          "output_type": "stream",
          "name": "stdout",
          "text": [
            "Fold 1\n",
            "Precision: 0.6202\n",
            "Recall: 0.7875\n",
            "F1-score: 0.6939\n",
            "------------------------------\n",
            "Fold 2\n",
            "Precision: 0.6704\n",
            "Recall: 0.8187\n",
            "F1-score: 0.7372\n",
            "------------------------------\n",
            "Fold 3\n",
            "Precision: 0.8368\n",
            "Recall: 0.7937\n",
            "F1-score: 0.7138\n",
            "------------------------------\n",
            "Fold 4\n",
            "Precision: 0.7014\n",
            "Recall: 0.8375\n",
            "F1-score: 0.7634\n",
            "------------------------------\n",
            "Fold 5\n",
            "Precision: 0.5532\n",
            "Recall: 0.7438\n",
            "F1-score: 0.6345\n",
            "------------------------------\n",
            "Fold 6\n",
            "Precision: 0.6910\n",
            "Recall: 0.8313\n",
            "F1-score: 0.7547\n",
            "------------------------------\n",
            "Fold 7\n",
            "Precision: 0.8440\n",
            "Recall: 0.8063\n",
            "F1-score: 0.7257\n",
            "------------------------------\n",
            "Fold 8\n",
            "Precision: 0.6400\n",
            "Recall: 0.8000\n",
            "F1-score: 0.7111\n",
            "------------------------------\n",
            "Fold 9\n",
            "Precision: 0.6300\n",
            "Recall: 0.7937\n",
            "F1-score: 0.7025\n",
            "------------------------------\n",
            "Fold 10\n",
            "Precision: 0.8599\n",
            "Recall: 0.8313\n",
            "F1-score: 0.7605\n",
            "------------------------------\n",
            "Mean Precision: 0.7047 (± 0.1011)\n",
            "Mean Recall: 0.8044 (± 0.0264)\n",
            "Mean F1-score: 0.7197 (± 0.0367)\n"
          ]
        }
      ],
      "source": [
        "NFoldVal(knn_model_2019, 10, X_train_vectors_2019, Y_train_2019)"
      ]
    },
    {
      "cell_type": "markdown",
      "metadata": {
        "id": "nnyeIp9lsQcK"
      },
      "source": [
        "##### 2023"
      ]
    },
    {
      "cell_type": "markdown",
      "source": [
        "###### Initialize Model"
      ],
      "metadata": {
        "id": "mi3d2Xw63GIJ"
      }
    },
    {
      "cell_type": "code",
      "source": [
        "knn_model_2023 = KNeighborsClassifier(n_neighbors=5)"
      ],
      "metadata": {
        "id": "39KzUJZQ3TuD"
      },
      "execution_count": null,
      "outputs": []
    },
    {
      "cell_type": "markdown",
      "source": [
        "###### Train Model"
      ],
      "metadata": {
        "id": "7CPZE_M23GdI"
      }
    },
    {
      "cell_type": "code",
      "source": [
        "knn_model_2023.fit(X_train_vectors_2023, Y_train_2023)"
      ],
      "metadata": {
        "id": "AacSoib93UL_",
        "colab": {
          "base_uri": "https://localhost:8080/",
          "height": 75
        },
        "outputId": "ad370f1b-bb31-4873-a4ec-fd14df074560"
      },
      "execution_count": null,
      "outputs": [
        {
          "output_type": "execute_result",
          "data": {
            "text/plain": [
              "KNeighborsClassifier()"
            ],
            "text/html": [
              "<style>#sk-container-id-6 {color: black;background-color: white;}#sk-container-id-6 pre{padding: 0;}#sk-container-id-6 div.sk-toggleable {background-color: white;}#sk-container-id-6 label.sk-toggleable__label {cursor: pointer;display: block;width: 100%;margin-bottom: 0;padding: 0.3em;box-sizing: border-box;text-align: center;}#sk-container-id-6 label.sk-toggleable__label-arrow:before {content: \"▸\";float: left;margin-right: 0.25em;color: #696969;}#sk-container-id-6 label.sk-toggleable__label-arrow:hover:before {color: black;}#sk-container-id-6 div.sk-estimator:hover label.sk-toggleable__label-arrow:before {color: black;}#sk-container-id-6 div.sk-toggleable__content {max-height: 0;max-width: 0;overflow: hidden;text-align: left;background-color: #f0f8ff;}#sk-container-id-6 div.sk-toggleable__content pre {margin: 0.2em;color: black;border-radius: 0.25em;background-color: #f0f8ff;}#sk-container-id-6 input.sk-toggleable__control:checked~div.sk-toggleable__content {max-height: 200px;max-width: 100%;overflow: auto;}#sk-container-id-6 input.sk-toggleable__control:checked~label.sk-toggleable__label-arrow:before {content: \"▾\";}#sk-container-id-6 div.sk-estimator input.sk-toggleable__control:checked~label.sk-toggleable__label {background-color: #d4ebff;}#sk-container-id-6 div.sk-label input.sk-toggleable__control:checked~label.sk-toggleable__label {background-color: #d4ebff;}#sk-container-id-6 input.sk-hidden--visually {border: 0;clip: rect(1px 1px 1px 1px);clip: rect(1px, 1px, 1px, 1px);height: 1px;margin: -1px;overflow: hidden;padding: 0;position: absolute;width: 1px;}#sk-container-id-6 div.sk-estimator {font-family: monospace;background-color: #f0f8ff;border: 1px dotted black;border-radius: 0.25em;box-sizing: border-box;margin-bottom: 0.5em;}#sk-container-id-6 div.sk-estimator:hover {background-color: #d4ebff;}#sk-container-id-6 div.sk-parallel-item::after {content: \"\";width: 100%;border-bottom: 1px solid gray;flex-grow: 1;}#sk-container-id-6 div.sk-label:hover label.sk-toggleable__label {background-color: #d4ebff;}#sk-container-id-6 div.sk-serial::before {content: \"\";position: absolute;border-left: 1px solid gray;box-sizing: border-box;top: 0;bottom: 0;left: 50%;z-index: 0;}#sk-container-id-6 div.sk-serial {display: flex;flex-direction: column;align-items: center;background-color: white;padding-right: 0.2em;padding-left: 0.2em;position: relative;}#sk-container-id-6 div.sk-item {position: relative;z-index: 1;}#sk-container-id-6 div.sk-parallel {display: flex;align-items: stretch;justify-content: center;background-color: white;position: relative;}#sk-container-id-6 div.sk-item::before, #sk-container-id-6 div.sk-parallel-item::before {content: \"\";position: absolute;border-left: 1px solid gray;box-sizing: border-box;top: 0;bottom: 0;left: 50%;z-index: -1;}#sk-container-id-6 div.sk-parallel-item {display: flex;flex-direction: column;z-index: 1;position: relative;background-color: white;}#sk-container-id-6 div.sk-parallel-item:first-child::after {align-self: flex-end;width: 50%;}#sk-container-id-6 div.sk-parallel-item:last-child::after {align-self: flex-start;width: 50%;}#sk-container-id-6 div.sk-parallel-item:only-child::after {width: 0;}#sk-container-id-6 div.sk-dashed-wrapped {border: 1px dashed gray;margin: 0 0.4em 0.5em 0.4em;box-sizing: border-box;padding-bottom: 0.4em;background-color: white;}#sk-container-id-6 div.sk-label label {font-family: monospace;font-weight: bold;display: inline-block;line-height: 1.2em;}#sk-container-id-6 div.sk-label-container {text-align: center;}#sk-container-id-6 div.sk-container {/* jupyter's `normalize.less` sets `[hidden] { display: none; }` but bootstrap.min.css set `[hidden] { display: none !important; }` so we also need the `!important` here to be able to override the default hidden behavior on the sphinx rendered scikit-learn.org. See: https://github.com/scikit-learn/scikit-learn/issues/21755 */display: inline-block !important;position: relative;}#sk-container-id-6 div.sk-text-repr-fallback {display: none;}</style><div id=\"sk-container-id-6\" class=\"sk-top-container\"><div class=\"sk-text-repr-fallback\"><pre>KNeighborsClassifier()</pre><b>In a Jupyter environment, please rerun this cell to show the HTML representation or trust the notebook. <br />On GitHub, the HTML representation is unable to render, please try loading this page with nbviewer.org.</b></div><div class=\"sk-container\" hidden><div class=\"sk-item\"><div class=\"sk-estimator sk-toggleable\"><input class=\"sk-toggleable__control sk-hidden--visually\" id=\"sk-estimator-id-6\" type=\"checkbox\" checked><label for=\"sk-estimator-id-6\" class=\"sk-toggleable__label sk-toggleable__label-arrow\">KNeighborsClassifier</label><div class=\"sk-toggleable__content\"><pre>KNeighborsClassifier()</pre></div></div></div></div></div>"
            ]
          },
          "metadata": {},
          "execution_count": 60
        }
      ]
    },
    {
      "cell_type": "markdown",
      "source": [
        "###### Predict and Evaluate"
      ],
      "metadata": {
        "id": "63O-dMRL3GvN"
      }
    },
    {
      "cell_type": "code",
      "source": [
        "y_pred_knn_2023 = knn_model_2023.predict(X_test_vectors_2023)\n",
        "\n",
        "precision = precision_score(Y_test_2023, y_pred_knn_2023, average='weighted')\n",
        "recall = recall_score(Y_test_2023, y_pred_knn_2023, average='weighted')\n",
        "f1 = f1_score(Y_test_2023, y_pred_knn_2023, average='weighted')\n",
        "\n",
        "print(f\"Precision: {precision:.4f}\")\n",
        "print(f\"Recall: {recall:.4f}\")\n",
        "print(f\"F1-score: {f1:.4f}\")\n",
        "\n",
        "report_knn = classification_report(Y_test_2023, y_pred_knn_2023)\n",
        "print(\"KNN Classification Report:\")\n",
        "print(report_knn)"
      ],
      "metadata": {
        "id": "41pKXgUF3Urn",
        "colab": {
          "base_uri": "https://localhost:8080/"
        },
        "outputId": "2f026b75-72f7-4eb9-c577-5d6ddbf2eca9"
      },
      "execution_count": null,
      "outputs": [
        {
          "output_type": "stream",
          "name": "stdout",
          "text": [
            "Precision: 0.8401\n",
            "Recall: 0.8000\n",
            "F1-score: 0.7136\n",
            "KNN Classification Report:\n",
            "              precision    recall  f1-score   support\n",
            "\n",
            "    NEGATIVE       1.00      0.01      0.02        81\n",
            "    POSITIVE       0.80      1.00      0.89       319\n",
            "\n",
            "    accuracy                           0.80       400\n",
            "   macro avg       0.90      0.51      0.46       400\n",
            "weighted avg       0.84      0.80      0.71       400\n",
            "\n"
          ]
        }
      ]
    },
    {
      "cell_type": "markdown",
      "source": [
        "###### 10 Fold Validation"
      ],
      "metadata": {
        "id": "2KlwYWF63G8w"
      }
    },
    {
      "cell_type": "code",
      "source": [
        "NFoldVal(knn_model_2023, 10, X_train_vectors_2023, Y_train_2023)"
      ],
      "metadata": {
        "id": "LlNexUza3VBv",
        "colab": {
          "base_uri": "https://localhost:8080/"
        },
        "outputId": "2f98d6ae-a9f5-4385-ca0b-419a3739df72"
      },
      "execution_count": null,
      "outputs": [
        {
          "output_type": "stream",
          "name": "stdout",
          "text": [
            "Fold 1\n",
            "Precision: 0.6500\n",
            "Recall: 0.8063\n",
            "F1-score: 0.7198\n",
            "------------------------------\n",
            "Fold 2\n",
            "Precision: 0.7225\n",
            "Recall: 0.8500\n",
            "F1-score: 0.7811\n",
            "------------------------------\n",
            "Fold 3\n",
            "Precision: 0.5814\n",
            "Recall: 0.7625\n",
            "F1-score: 0.6598\n",
            "------------------------------\n",
            "Fold 4\n",
            "Precision: 0.7119\n",
            "Recall: 0.8438\n",
            "F1-score: 0.7722\n",
            "------------------------------\n",
            "Fold 5\n",
            "Precision: 0.7119\n",
            "Recall: 0.8438\n",
            "F1-score: 0.7722\n",
            "------------------------------\n",
            "Fold 6\n",
            "Precision: 0.6104\n",
            "Recall: 0.7812\n",
            "F1-score: 0.6853\n",
            "------------------------------\n",
            "Fold 7\n",
            "Precision: 0.6400\n",
            "Recall: 0.8000\n",
            "F1-score: 0.7111\n",
            "------------------------------\n",
            "Fold 8\n",
            "Precision: 0.7014\n",
            "Recall: 0.8375\n",
            "F1-score: 0.7634\n",
            "------------------------------\n",
            "Fold 9\n",
            "Precision: 0.6300\n",
            "Recall: 0.7937\n",
            "F1-score: 0.7025\n",
            "------------------------------\n",
            "Fold 10\n",
            "Precision: 0.5814\n",
            "Recall: 0.7625\n",
            "F1-score: 0.6598\n",
            "------------------------------\n",
            "Mean Precision: 0.6541 (± 0.0518)\n",
            "Mean Recall: 0.8081 (± 0.0321)\n",
            "Mean F1-score: 0.7227 (± 0.0446)\n"
          ]
        }
      ]
    },
    {
      "cell_type": "markdown",
      "metadata": {
        "id": "E-y6jb4lxg5n"
      },
      "source": [
        "### Word Embeddings"
      ]
    },
    {
      "cell_type": "markdown",
      "metadata": {
        "id": "yamZMc_txg5n"
      },
      "source": [
        "#### Vectorization (TODO)"
      ]
    },
    {
      "cell_type": "markdown",
      "source": [
        "##### Compute Average Embedding"
      ],
      "metadata": {
        "id": "mvE8KYd16bQ3"
      }
    },
    {
      "cell_type": "markdown",
      "source": [
        "- `Loads GloVe embeddings from a file into a dictionary and initializes a tokenizer to convert text data into sequences of integers.`\n",
        "- `Pads these sequences to a fixed length and computes average embeddings for each padded sequence using the embedding matrix.`\n"
      ],
      "metadata": {
        "id": "7AHMJ07ORRoM"
      }
    },
    {
      "cell_type": "code",
      "source": [
        "def compute_average_embedding(sequences, embedding_matrix):\n",
        "    avg_embeddings = []\n",
        "    for seq in sequences:\n",
        "        valid_embeddings = [embedding_matrix[idx] for idx in seq if idx != 0]\n",
        "        if valid_embeddings:\n",
        "            avg_embedding = np.mean(valid_embeddings, axis=0)\n",
        "        else:\n",
        "            avg_embedding = np.zeros(embedding_matrix.shape[1])\n",
        "        avg_embeddings.append(avg_embedding)\n",
        "    return np.array(avg_embeddings)"
      ],
      "metadata": {
        "id": "NAI8pEWs6gWw"
      },
      "execution_count": null,
      "outputs": []
    },
    {
      "cell_type": "markdown",
      "metadata": {
        "id": "CXydohaxszPC"
      },
      "source": [
        "##### 2019"
      ]
    },
    {
      "cell_type": "code",
      "source": [
        "embedding_index = {}\n",
        "glove_path = 'glove.6B/glove.6B.100d.txt'\n",
        "\n",
        "with open(glove_path, 'r', encoding='utf8') as f:\n",
        "    for line in f:\n",
        "        values = line.split()\n",
        "        word = values[0]\n",
        "        coefs = np.asarray(values[1:], dtype='float32')\n",
        "        embedding_index[word] = coefs\n",
        "\n",
        "print(\"Loaded GloVe embeddings.\")\n",
        "\n",
        "tokenizer = Tokenizer()\n",
        "tokenizer.fit_on_texts(X_train_2019)\n",
        "\n",
        "X_train_sequences_2019 = tokenizer.texts_to_sequences(X_train_2019)\n",
        "X_test_sequences_2019 = tokenizer.texts_to_sequences(X_test_2019)\n",
        "\n",
        "maxlen = 100\n",
        "X_train_pad_2019 = pad_sequences(X_train_sequences_2019, maxlen=maxlen, padding='post')\n",
        "X_test_pad_2019 = pad_sequences(X_test_sequences_2019, maxlen=maxlen, padding='post')\n",
        "\n",
        "num_words = len(tokenizer.word_index) + 1\n",
        "embedding_dim = 100\n",
        "\n",
        "embedding_matrix = np.zeros((num_words, embedding_dim))\n",
        "for word, i in tokenizer.word_index.items():\n",
        "    embedding_vector = embedding_index.get(word)\n",
        "    if embedding_vector is not None:\n",
        "        embedding_matrix[i] = embedding_vector\n",
        "\n",
        "print(\"Shape of X_train_pad:\", X_train_pad_2019.shape)\n",
        "print(\"Shape of X_test_pad:\", X_test_pad_2019.shape)\n",
        "\n",
        "\n",
        "X_train_avg_2019 = compute_average_embedding(X_train_pad_2019, embedding_matrix)\n",
        "X_test_avg_2019 = compute_average_embedding(X_test_pad_2019, embedding_matrix)\n"
      ],
      "metadata": {
        "colab": {
          "base_uri": "https://localhost:8080/"
        },
        "id": "s70BXjl9AIqU",
        "outputId": "50e29d0f-1c04-4a82-dfbc-96d1b72ec41f"
      },
      "execution_count": null,
      "outputs": [
        {
          "output_type": "stream",
          "name": "stdout",
          "text": [
            "Loaded GloVe embeddings.\n",
            "Shape of X_train_pad: (1600, 100)\n",
            "Shape of X_test_pad: (400, 100)\n"
          ]
        }
      ]
    },
    {
      "cell_type": "markdown",
      "metadata": {
        "id": "L3QRJuMws2Nx"
      },
      "source": [
        "##### 2023"
      ]
    },
    {
      "cell_type": "code",
      "source": [
        "embedding_index = {}\n",
        "glove_path = 'glove.6B/glove.6B.100d.txt'\n",
        "\n",
        "with open(glove_path, 'r', encoding='utf8') as f:\n",
        "    for line in f:\n",
        "        values = line.split()\n",
        "        word = values[0]\n",
        "        coefs = np.asarray(values[1:], dtype='float32')\n",
        "        embedding_index[word] = coefs\n",
        "\n",
        "print(\"Loaded GloVe embeddings.\")\n",
        "\n",
        "tokenizer = Tokenizer()\n",
        "tokenizer.fit_on_texts(X_train_2023)\n",
        "\n",
        "X_train_sequences_2023 = tokenizer.texts_to_sequences(X_train_2023)\n",
        "X_test_sequences_2023 = tokenizer.texts_to_sequences(X_test_2023)\n",
        "\n",
        "maxlen = 100\n",
        "X_train_pad_2023 = pad_sequences(X_train_sequences_2023, maxlen=maxlen, padding='post')\n",
        "X_test_pad_2023 = pad_sequences(X_test_sequences_2023, maxlen=maxlen, padding='post')\n",
        "\n",
        "num_words = len(tokenizer.word_index) + 1\n",
        "embedding_dim = 100\n",
        "\n",
        "embedding_matrix = np.zeros((num_words, embedding_dim))\n",
        "for word, i in tokenizer.word_index.items():\n",
        "    embedding_vector = embedding_index.get(word)\n",
        "    if embedding_vector is not None:\n",
        "        embedding_matrix[i] = embedding_vector\n",
        "\n",
        "print(\"Shape of X_train_pad:\", X_train_pad_2023.shape)\n",
        "print(\"Shape of X_test_pad:\", X_test_pad_2023.shape)\n",
        "\n",
        "\n",
        "X_train_avg_2023 = compute_average_embedding(X_train_pad_2023, embedding_matrix)\n",
        "X_test_avg_2023 = compute_average_embedding(X_test_pad_2023, embedding_matrix)"
      ],
      "metadata": {
        "colab": {
          "base_uri": "https://localhost:8080/"
        },
        "id": "XVFie612503h",
        "outputId": "35a9015a-0304-410a-bfba-aca9415e3206"
      },
      "execution_count": null,
      "outputs": [
        {
          "output_type": "stream",
          "name": "stdout",
          "text": [
            "Loaded GloVe embeddings.\n",
            "Shape of X_train_pad: (1600, 100)\n",
            "Shape of X_test_pad: (400, 100)\n"
          ]
        }
      ]
    },
    {
      "cell_type": "markdown",
      "metadata": {
        "id": "Lel-rYouxg5n"
      },
      "source": [
        "#### SVM"
      ]
    },
    {
      "cell_type": "markdown",
      "source": [
        "##### 2019"
      ],
      "metadata": {
        "id": "tq6lskNb-nyd"
      }
    },
    {
      "cell_type": "markdown",
      "source": [
        "- `Trains an SVM model with a linear kernel on the average embeddings of the training data and makes predictions on the test data.`\n",
        "- `Calculates and prints precision, recall, and F1-score, along with a detailed classification report, and performs 10-fold cross-validation.`\n"
      ],
      "metadata": {
        "id": "tokacf2xRjYC"
      }
    },
    {
      "cell_type": "markdown",
      "source": [
        "###### Initialize Model"
      ],
      "metadata": {
        "id": "WgRyurNO-q0w"
      }
    },
    {
      "cell_type": "code",
      "source": [
        "svm_model_2019 = SVC(kernel='linear', C=1.0, random_state=42)"
      ],
      "metadata": {
        "id": "hZq8GtsY_B0s"
      },
      "execution_count": null,
      "outputs": []
    },
    {
      "cell_type": "markdown",
      "source": [
        "###### Train Model"
      ],
      "metadata": {
        "id": "bjQHARWa-xIj"
      }
    },
    {
      "cell_type": "code",
      "source": [
        "svm_model_2019.fit(X_train_avg_2019, Y_train_2019)"
      ],
      "metadata": {
        "id": "n5U7GOBS_A-F",
        "colab": {
          "base_uri": "https://localhost:8080/",
          "height": 75
        },
        "outputId": "8b106db0-3b5a-4ef5-dbb9-79e46b60e3fa"
      },
      "execution_count": null,
      "outputs": [
        {
          "output_type": "execute_result",
          "data": {
            "text/plain": [
              "SVC(kernel='linear', random_state=42)"
            ],
            "text/html": [
              "<style>#sk-container-id-7 {color: black;background-color: white;}#sk-container-id-7 pre{padding: 0;}#sk-container-id-7 div.sk-toggleable {background-color: white;}#sk-container-id-7 label.sk-toggleable__label {cursor: pointer;display: block;width: 100%;margin-bottom: 0;padding: 0.3em;box-sizing: border-box;text-align: center;}#sk-container-id-7 label.sk-toggleable__label-arrow:before {content: \"▸\";float: left;margin-right: 0.25em;color: #696969;}#sk-container-id-7 label.sk-toggleable__label-arrow:hover:before {color: black;}#sk-container-id-7 div.sk-estimator:hover label.sk-toggleable__label-arrow:before {color: black;}#sk-container-id-7 div.sk-toggleable__content {max-height: 0;max-width: 0;overflow: hidden;text-align: left;background-color: #f0f8ff;}#sk-container-id-7 div.sk-toggleable__content pre {margin: 0.2em;color: black;border-radius: 0.25em;background-color: #f0f8ff;}#sk-container-id-7 input.sk-toggleable__control:checked~div.sk-toggleable__content {max-height: 200px;max-width: 100%;overflow: auto;}#sk-container-id-7 input.sk-toggleable__control:checked~label.sk-toggleable__label-arrow:before {content: \"▾\";}#sk-container-id-7 div.sk-estimator input.sk-toggleable__control:checked~label.sk-toggleable__label {background-color: #d4ebff;}#sk-container-id-7 div.sk-label input.sk-toggleable__control:checked~label.sk-toggleable__label {background-color: #d4ebff;}#sk-container-id-7 input.sk-hidden--visually {border: 0;clip: rect(1px 1px 1px 1px);clip: rect(1px, 1px, 1px, 1px);height: 1px;margin: -1px;overflow: hidden;padding: 0;position: absolute;width: 1px;}#sk-container-id-7 div.sk-estimator {font-family: monospace;background-color: #f0f8ff;border: 1px dotted black;border-radius: 0.25em;box-sizing: border-box;margin-bottom: 0.5em;}#sk-container-id-7 div.sk-estimator:hover {background-color: #d4ebff;}#sk-container-id-7 div.sk-parallel-item::after {content: \"\";width: 100%;border-bottom: 1px solid gray;flex-grow: 1;}#sk-container-id-7 div.sk-label:hover label.sk-toggleable__label {background-color: #d4ebff;}#sk-container-id-7 div.sk-serial::before {content: \"\";position: absolute;border-left: 1px solid gray;box-sizing: border-box;top: 0;bottom: 0;left: 50%;z-index: 0;}#sk-container-id-7 div.sk-serial {display: flex;flex-direction: column;align-items: center;background-color: white;padding-right: 0.2em;padding-left: 0.2em;position: relative;}#sk-container-id-7 div.sk-item {position: relative;z-index: 1;}#sk-container-id-7 div.sk-parallel {display: flex;align-items: stretch;justify-content: center;background-color: white;position: relative;}#sk-container-id-7 div.sk-item::before, #sk-container-id-7 div.sk-parallel-item::before {content: \"\";position: absolute;border-left: 1px solid gray;box-sizing: border-box;top: 0;bottom: 0;left: 50%;z-index: -1;}#sk-container-id-7 div.sk-parallel-item {display: flex;flex-direction: column;z-index: 1;position: relative;background-color: white;}#sk-container-id-7 div.sk-parallel-item:first-child::after {align-self: flex-end;width: 50%;}#sk-container-id-7 div.sk-parallel-item:last-child::after {align-self: flex-start;width: 50%;}#sk-container-id-7 div.sk-parallel-item:only-child::after {width: 0;}#sk-container-id-7 div.sk-dashed-wrapped {border: 1px dashed gray;margin: 0 0.4em 0.5em 0.4em;box-sizing: border-box;padding-bottom: 0.4em;background-color: white;}#sk-container-id-7 div.sk-label label {font-family: monospace;font-weight: bold;display: inline-block;line-height: 1.2em;}#sk-container-id-7 div.sk-label-container {text-align: center;}#sk-container-id-7 div.sk-container {/* jupyter's `normalize.less` sets `[hidden] { display: none; }` but bootstrap.min.css set `[hidden] { display: none !important; }` so we also need the `!important` here to be able to override the default hidden behavior on the sphinx rendered scikit-learn.org. See: https://github.com/scikit-learn/scikit-learn/issues/21755 */display: inline-block !important;position: relative;}#sk-container-id-7 div.sk-text-repr-fallback {display: none;}</style><div id=\"sk-container-id-7\" class=\"sk-top-container\"><div class=\"sk-text-repr-fallback\"><pre>SVC(kernel=&#x27;linear&#x27;, random_state=42)</pre><b>In a Jupyter environment, please rerun this cell to show the HTML representation or trust the notebook. <br />On GitHub, the HTML representation is unable to render, please try loading this page with nbviewer.org.</b></div><div class=\"sk-container\" hidden><div class=\"sk-item\"><div class=\"sk-estimator sk-toggleable\"><input class=\"sk-toggleable__control sk-hidden--visually\" id=\"sk-estimator-id-7\" type=\"checkbox\" checked><label for=\"sk-estimator-id-7\" class=\"sk-toggleable__label sk-toggleable__label-arrow\">SVC</label><div class=\"sk-toggleable__content\"><pre>SVC(kernel=&#x27;linear&#x27;, random_state=42)</pre></div></div></div></div></div>"
            ]
          },
          "metadata": {},
          "execution_count": 70
        }
      ]
    },
    {
      "cell_type": "markdown",
      "source": [
        "###### Predict and Evaluate"
      ],
      "metadata": {
        "id": "TTZNu4dr-3Lw"
      }
    },
    {
      "cell_type": "code",
      "source": [
        "Y_pred_2019 = svm_model_2019.predict(X_test_avg_2019)\n",
        "\n",
        "precision = precision_score(Y_test_2019, Y_pred_2019, average='weighted')\n",
        "recall = recall_score(Y_test_2019, Y_pred_2019, average='weighted')\n",
        "f1 = f1_score(Y_test_2019, Y_pred_2019, average='weighted')\n",
        "\n",
        "print(f\"Precision: {precision:.4f}\")\n",
        "print(f\"Recall: {recall:.4f}\")\n",
        "print(f\"F1-score: {f1:.4f}\")\n",
        "\n",
        "report = classification_report(Y_test_2019, Y_pred_2019)\n",
        "print(\"Classification Report:\\n\", report)"
      ],
      "metadata": {
        "id": "NxXDKbU2-nZ0",
        "colab": {
          "base_uri": "https://localhost:8080/"
        },
        "outputId": "0601eae1-4c21-4d36-c9e1-39a08ecaf0a8"
      },
      "execution_count": null,
      "outputs": [
        {
          "output_type": "stream",
          "name": "stdout",
          "text": [
            "Precision: 0.9176\n",
            "Recall: 0.9200\n",
            "F1-score: 0.9182\n",
            "Classification Report:\n",
            "               precision    recall  f1-score   support\n",
            "\n",
            "    NEGATIVE       0.82      0.73      0.77        75\n",
            "    POSITIVE       0.94      0.96      0.95       325\n",
            "\n",
            "    accuracy                           0.92       400\n",
            "   macro avg       0.88      0.85      0.86       400\n",
            "weighted avg       0.92      0.92      0.92       400\n",
            "\n"
          ]
        }
      ]
    },
    {
      "cell_type": "markdown",
      "source": [
        "###### 10 Fold Validation"
      ],
      "metadata": {
        "id": "SwHn2byT_D2n"
      }
    },
    {
      "cell_type": "code",
      "source": [
        "NFoldVal(svm_model_2019, 10, X_train_avg_2019, Y_train_2019)"
      ],
      "metadata": {
        "id": "xvVPXJtu_Gb0",
        "colab": {
          "base_uri": "https://localhost:8080/"
        },
        "outputId": "35971f77-4a68-464c-dd4a-dfb64eac240d"
      },
      "execution_count": null,
      "outputs": [
        {
          "output_type": "stream",
          "name": "stdout",
          "text": [
            "Fold 1\n",
            "Precision: 0.8968\n",
            "Recall: 0.9000\n",
            "F1-score: 0.8949\n",
            "------------------------------\n",
            "Fold 2\n",
            "Precision: 0.8948\n",
            "Recall: 0.9000\n",
            "F1-score: 0.8935\n",
            "------------------------------\n",
            "Fold 3\n",
            "Precision: 0.9036\n",
            "Recall: 0.9062\n",
            "F1-score: 0.9023\n",
            "------------------------------\n",
            "Fold 4\n",
            "Precision: 0.8860\n",
            "Recall: 0.8938\n",
            "F1-score: 0.8868\n",
            "------------------------------\n",
            "Fold 5\n",
            "Precision: 0.8722\n",
            "Recall: 0.8750\n",
            "F1-score: 0.8688\n",
            "------------------------------\n",
            "Fold 6\n",
            "Precision: 0.9081\n",
            "Recall: 0.9125\n",
            "F1-score: 0.9080\n",
            "------------------------------\n",
            "Fold 7\n",
            "Precision: 0.8893\n",
            "Recall: 0.8938\n",
            "F1-score: 0.8869\n",
            "------------------------------\n",
            "Fold 8\n",
            "Precision: 0.8965\n",
            "Recall: 0.9000\n",
            "F1-score: 0.8974\n",
            "------------------------------\n",
            "Fold 9\n",
            "Precision: 0.9125\n",
            "Recall: 0.9125\n",
            "F1-score: 0.9125\n",
            "------------------------------\n",
            "Fold 10\n",
            "Precision: 0.9050\n",
            "Recall: 0.9062\n",
            "F1-score: 0.9056\n",
            "------------------------------\n",
            "Mean Precision: 0.8965 (± 0.0113)\n",
            "Mean Recall: 0.9000 (± 0.0105)\n",
            "Mean F1-score: 0.8957 (± 0.0121)\n"
          ]
        }
      ]
    },
    {
      "cell_type": "markdown",
      "source": [
        "##### 2023"
      ],
      "metadata": {
        "id": "K0eGdQeg6QOH"
      }
    },
    {
      "cell_type": "markdown",
      "source": [
        "###### Initialize Model"
      ],
      "metadata": {
        "id": "ynSMS2_d6S2L"
      }
    },
    {
      "cell_type": "code",
      "source": [
        "svm_model_2023 = SVC(kernel='linear', C=1.0, random_state=42)"
      ],
      "metadata": {
        "id": "7u3MuyuE6spD"
      },
      "execution_count": null,
      "outputs": []
    },
    {
      "cell_type": "markdown",
      "source": [
        "###### Train Model"
      ],
      "metadata": {
        "id": "WwmNNZzp6hz5"
      }
    },
    {
      "cell_type": "code",
      "source": [
        "svm_model_2023.fit(X_train_avg_2023, Y_train_2023)"
      ],
      "metadata": {
        "colab": {
          "base_uri": "https://localhost:8080/",
          "height": 75
        },
        "id": "o4Ifeu2I6xAn",
        "outputId": "4eedb85f-5752-47a5-c9d5-73cd3839815f"
      },
      "execution_count": null,
      "outputs": [
        {
          "output_type": "execute_result",
          "data": {
            "text/plain": [
              "SVC(kernel='linear', random_state=42)"
            ],
            "text/html": [
              "<style>#sk-container-id-8 {color: black;background-color: white;}#sk-container-id-8 pre{padding: 0;}#sk-container-id-8 div.sk-toggleable {background-color: white;}#sk-container-id-8 label.sk-toggleable__label {cursor: pointer;display: block;width: 100%;margin-bottom: 0;padding: 0.3em;box-sizing: border-box;text-align: center;}#sk-container-id-8 label.sk-toggleable__label-arrow:before {content: \"▸\";float: left;margin-right: 0.25em;color: #696969;}#sk-container-id-8 label.sk-toggleable__label-arrow:hover:before {color: black;}#sk-container-id-8 div.sk-estimator:hover label.sk-toggleable__label-arrow:before {color: black;}#sk-container-id-8 div.sk-toggleable__content {max-height: 0;max-width: 0;overflow: hidden;text-align: left;background-color: #f0f8ff;}#sk-container-id-8 div.sk-toggleable__content pre {margin: 0.2em;color: black;border-radius: 0.25em;background-color: #f0f8ff;}#sk-container-id-8 input.sk-toggleable__control:checked~div.sk-toggleable__content {max-height: 200px;max-width: 100%;overflow: auto;}#sk-container-id-8 input.sk-toggleable__control:checked~label.sk-toggleable__label-arrow:before {content: \"▾\";}#sk-container-id-8 div.sk-estimator input.sk-toggleable__control:checked~label.sk-toggleable__label {background-color: #d4ebff;}#sk-container-id-8 div.sk-label input.sk-toggleable__control:checked~label.sk-toggleable__label {background-color: #d4ebff;}#sk-container-id-8 input.sk-hidden--visually {border: 0;clip: rect(1px 1px 1px 1px);clip: rect(1px, 1px, 1px, 1px);height: 1px;margin: -1px;overflow: hidden;padding: 0;position: absolute;width: 1px;}#sk-container-id-8 div.sk-estimator {font-family: monospace;background-color: #f0f8ff;border: 1px dotted black;border-radius: 0.25em;box-sizing: border-box;margin-bottom: 0.5em;}#sk-container-id-8 div.sk-estimator:hover {background-color: #d4ebff;}#sk-container-id-8 div.sk-parallel-item::after {content: \"\";width: 100%;border-bottom: 1px solid gray;flex-grow: 1;}#sk-container-id-8 div.sk-label:hover label.sk-toggleable__label {background-color: #d4ebff;}#sk-container-id-8 div.sk-serial::before {content: \"\";position: absolute;border-left: 1px solid gray;box-sizing: border-box;top: 0;bottom: 0;left: 50%;z-index: 0;}#sk-container-id-8 div.sk-serial {display: flex;flex-direction: column;align-items: center;background-color: white;padding-right: 0.2em;padding-left: 0.2em;position: relative;}#sk-container-id-8 div.sk-item {position: relative;z-index: 1;}#sk-container-id-8 div.sk-parallel {display: flex;align-items: stretch;justify-content: center;background-color: white;position: relative;}#sk-container-id-8 div.sk-item::before, #sk-container-id-8 div.sk-parallel-item::before {content: \"\";position: absolute;border-left: 1px solid gray;box-sizing: border-box;top: 0;bottom: 0;left: 50%;z-index: -1;}#sk-container-id-8 div.sk-parallel-item {display: flex;flex-direction: column;z-index: 1;position: relative;background-color: white;}#sk-container-id-8 div.sk-parallel-item:first-child::after {align-self: flex-end;width: 50%;}#sk-container-id-8 div.sk-parallel-item:last-child::after {align-self: flex-start;width: 50%;}#sk-container-id-8 div.sk-parallel-item:only-child::after {width: 0;}#sk-container-id-8 div.sk-dashed-wrapped {border: 1px dashed gray;margin: 0 0.4em 0.5em 0.4em;box-sizing: border-box;padding-bottom: 0.4em;background-color: white;}#sk-container-id-8 div.sk-label label {font-family: monospace;font-weight: bold;display: inline-block;line-height: 1.2em;}#sk-container-id-8 div.sk-label-container {text-align: center;}#sk-container-id-8 div.sk-container {/* jupyter's `normalize.less` sets `[hidden] { display: none; }` but bootstrap.min.css set `[hidden] { display: none !important; }` so we also need the `!important` here to be able to override the default hidden behavior on the sphinx rendered scikit-learn.org. See: https://github.com/scikit-learn/scikit-learn/issues/21755 */display: inline-block !important;position: relative;}#sk-container-id-8 div.sk-text-repr-fallback {display: none;}</style><div id=\"sk-container-id-8\" class=\"sk-top-container\"><div class=\"sk-text-repr-fallback\"><pre>SVC(kernel=&#x27;linear&#x27;, random_state=42)</pre><b>In a Jupyter environment, please rerun this cell to show the HTML representation or trust the notebook. <br />On GitHub, the HTML representation is unable to render, please try loading this page with nbviewer.org.</b></div><div class=\"sk-container\" hidden><div class=\"sk-item\"><div class=\"sk-estimator sk-toggleable\"><input class=\"sk-toggleable__control sk-hidden--visually\" id=\"sk-estimator-id-8\" type=\"checkbox\" checked><label for=\"sk-estimator-id-8\" class=\"sk-toggleable__label sk-toggleable__label-arrow\">SVC</label><div class=\"sk-toggleable__content\"><pre>SVC(kernel=&#x27;linear&#x27;, random_state=42)</pre></div></div></div></div></div>"
            ]
          },
          "metadata": {},
          "execution_count": 74
        }
      ]
    },
    {
      "cell_type": "markdown",
      "source": [
        "###### Predict and Evaluate"
      ],
      "metadata": {
        "id": "gvfWppTM6lqc"
      }
    },
    {
      "cell_type": "code",
      "source": [
        "Y_pred_2023 = svm_model_2023.predict(X_test_avg_2023)\n",
        "\n",
        "precision = precision_score(Y_test_2023, Y_pred_2023, average='weighted')\n",
        "recall = recall_score(Y_test_2023, Y_pred_2023, average='weighted')\n",
        "f1 = f1_score(Y_test_2023, Y_pred_2023, average='weighted')\n",
        "\n",
        "print(f\"Precision: {precision:.4f}\")\n",
        "print(f\"Recall: {recall:.4f}\")\n",
        "print(f\"F1-score: {f1:.4f}\")\n",
        "\n",
        "report = classification_report(Y_test_2023, Y_pred_2023)\n",
        "print(\"Classification Report:\\n\", report)"
      ],
      "metadata": {
        "colab": {
          "base_uri": "https://localhost:8080/"
        },
        "id": "n4nWe02T61KH",
        "outputId": "0c06a029-0df5-45c9-c55a-3eb7f0464838"
      },
      "execution_count": null,
      "outputs": [
        {
          "output_type": "stream",
          "name": "stdout",
          "text": [
            "Precision: 0.8940\n",
            "Recall: 0.8975\n",
            "F1-score: 0.8908\n",
            "Classification Report:\n",
            "               precision    recall  f1-score   support\n",
            "\n",
            "    NEGATIVE       0.84      0.60      0.71        81\n",
            "    POSITIVE       0.91      0.97      0.94       319\n",
            "\n",
            "    accuracy                           0.90       400\n",
            "   macro avg       0.88      0.79      0.82       400\n",
            "weighted avg       0.89      0.90      0.89       400\n",
            "\n"
          ]
        }
      ]
    },
    {
      "cell_type": "markdown",
      "source": [
        "###### 10 Fold Validation"
      ],
      "metadata": {
        "id": "awLc859M6qNm"
      }
    },
    {
      "cell_type": "code",
      "source": [
        "NFoldVal(svm_model_2023, 10, X_train_avg_2023, Y_train_2023)"
      ],
      "metadata": {
        "colab": {
          "base_uri": "https://localhost:8080/"
        },
        "id": "s-9eB-Hy7DLz",
        "outputId": "f06a0f36-6835-497b-cdb5-aaacb95b20eb"
      },
      "execution_count": null,
      "outputs": [
        {
          "output_type": "stream",
          "name": "stdout",
          "text": [
            "Fold 1\n",
            "Precision: 0.9270\n",
            "Recall: 0.9250\n",
            "F1-score: 0.9192\n",
            "------------------------------\n",
            "Fold 2\n",
            "Precision: 0.9228\n",
            "Recall: 0.9250\n",
            "F1-score: 0.9236\n",
            "------------------------------\n",
            "Fold 3\n",
            "Precision: 0.8776\n",
            "Recall: 0.8812\n",
            "F1-score: 0.8754\n",
            "------------------------------\n",
            "Fold 4\n",
            "Precision: 0.9429\n",
            "Recall: 0.9437\n",
            "F1-score: 0.9433\n",
            "------------------------------\n",
            "Fold 5\n",
            "Precision: 0.9359\n",
            "Recall: 0.9375\n",
            "F1-score: 0.9364\n",
            "------------------------------\n",
            "Fold 6\n",
            "Precision: 0.8502\n",
            "Recall: 0.8562\n",
            "F1-score: 0.8521\n",
            "------------------------------\n",
            "Fold 7\n",
            "Precision: 0.8822\n",
            "Recall: 0.8875\n",
            "F1-score: 0.8830\n",
            "------------------------------\n",
            "Fold 8\n",
            "Precision: 0.9218\n",
            "Recall: 0.9250\n",
            "F1-score: 0.9209\n",
            "------------------------------\n",
            "Fold 9\n",
            "Precision: 0.8898\n",
            "Recall: 0.8938\n",
            "F1-score: 0.8872\n",
            "------------------------------\n",
            "Fold 10\n",
            "Precision: 0.9137\n",
            "Recall: 0.9125\n",
            "F1-score: 0.9076\n",
            "------------------------------\n",
            "Mean Precision: 0.9064 (± 0.0283)\n",
            "Mean Recall: 0.9088 (± 0.0265)\n",
            "Mean F1-score: 0.9049 (± 0.0278)\n"
          ]
        }
      ]
    },
    {
      "cell_type": "markdown",
      "metadata": {
        "id": "L91_INCOxg5n"
      },
      "source": [
        "#### Random forest"
      ]
    },
    {
      "cell_type": "markdown",
      "source": [
        "- `Trains a Random Forest classifier with 100 trees on the average embeddings of the training data and makes predictions on the test data.`\n",
        "- `Calculates and prints precision, recall, and F1-score, along with a detailed classification report, and performs 10-fold cross-validation.`\n"
      ],
      "metadata": {
        "id": "91-Kxrq0SSOu"
      }
    },
    {
      "cell_type": "markdown",
      "source": [
        "##### 2019"
      ],
      "metadata": {
        "id": "0-j2uucyAx0z"
      }
    },
    {
      "cell_type": "markdown",
      "source": [
        "###### Initialize Model"
      ],
      "metadata": {
        "id": "_IhcgcwfCbxW"
      }
    },
    {
      "cell_type": "code",
      "source": [
        "rf_model_2019 = RandomForestClassifier(n_estimators=100, random_state=42)"
      ],
      "metadata": {
        "id": "TcYr7N-oChsg"
      },
      "execution_count": null,
      "outputs": []
    },
    {
      "cell_type": "markdown",
      "source": [
        "###### Train Model"
      ],
      "metadata": {
        "id": "n9k-r_hSCKqm"
      }
    },
    {
      "cell_type": "code",
      "source": [
        "rf_model_2019.fit(X_train_avg_2019, Y_train_2019)"
      ],
      "metadata": {
        "colab": {
          "base_uri": "https://localhost:8080/",
          "height": 75
        },
        "id": "WLMAW5tzChaS",
        "outputId": "44123309-ceba-46fb-8b73-b6297359383e"
      },
      "execution_count": null,
      "outputs": [
        {
          "output_type": "execute_result",
          "data": {
            "text/plain": [
              "RandomForestClassifier(random_state=42)"
            ],
            "text/html": [
              "<style>#sk-container-id-9 {color: black;background-color: white;}#sk-container-id-9 pre{padding: 0;}#sk-container-id-9 div.sk-toggleable {background-color: white;}#sk-container-id-9 label.sk-toggleable__label {cursor: pointer;display: block;width: 100%;margin-bottom: 0;padding: 0.3em;box-sizing: border-box;text-align: center;}#sk-container-id-9 label.sk-toggleable__label-arrow:before {content: \"▸\";float: left;margin-right: 0.25em;color: #696969;}#sk-container-id-9 label.sk-toggleable__label-arrow:hover:before {color: black;}#sk-container-id-9 div.sk-estimator:hover label.sk-toggleable__label-arrow:before {color: black;}#sk-container-id-9 div.sk-toggleable__content {max-height: 0;max-width: 0;overflow: hidden;text-align: left;background-color: #f0f8ff;}#sk-container-id-9 div.sk-toggleable__content pre {margin: 0.2em;color: black;border-radius: 0.25em;background-color: #f0f8ff;}#sk-container-id-9 input.sk-toggleable__control:checked~div.sk-toggleable__content {max-height: 200px;max-width: 100%;overflow: auto;}#sk-container-id-9 input.sk-toggleable__control:checked~label.sk-toggleable__label-arrow:before {content: \"▾\";}#sk-container-id-9 div.sk-estimator input.sk-toggleable__control:checked~label.sk-toggleable__label {background-color: #d4ebff;}#sk-container-id-9 div.sk-label input.sk-toggleable__control:checked~label.sk-toggleable__label {background-color: #d4ebff;}#sk-container-id-9 input.sk-hidden--visually {border: 0;clip: rect(1px 1px 1px 1px);clip: rect(1px, 1px, 1px, 1px);height: 1px;margin: -1px;overflow: hidden;padding: 0;position: absolute;width: 1px;}#sk-container-id-9 div.sk-estimator {font-family: monospace;background-color: #f0f8ff;border: 1px dotted black;border-radius: 0.25em;box-sizing: border-box;margin-bottom: 0.5em;}#sk-container-id-9 div.sk-estimator:hover {background-color: #d4ebff;}#sk-container-id-9 div.sk-parallel-item::after {content: \"\";width: 100%;border-bottom: 1px solid gray;flex-grow: 1;}#sk-container-id-9 div.sk-label:hover label.sk-toggleable__label {background-color: #d4ebff;}#sk-container-id-9 div.sk-serial::before {content: \"\";position: absolute;border-left: 1px solid gray;box-sizing: border-box;top: 0;bottom: 0;left: 50%;z-index: 0;}#sk-container-id-9 div.sk-serial {display: flex;flex-direction: column;align-items: center;background-color: white;padding-right: 0.2em;padding-left: 0.2em;position: relative;}#sk-container-id-9 div.sk-item {position: relative;z-index: 1;}#sk-container-id-9 div.sk-parallel {display: flex;align-items: stretch;justify-content: center;background-color: white;position: relative;}#sk-container-id-9 div.sk-item::before, #sk-container-id-9 div.sk-parallel-item::before {content: \"\";position: absolute;border-left: 1px solid gray;box-sizing: border-box;top: 0;bottom: 0;left: 50%;z-index: -1;}#sk-container-id-9 div.sk-parallel-item {display: flex;flex-direction: column;z-index: 1;position: relative;background-color: white;}#sk-container-id-9 div.sk-parallel-item:first-child::after {align-self: flex-end;width: 50%;}#sk-container-id-9 div.sk-parallel-item:last-child::after {align-self: flex-start;width: 50%;}#sk-container-id-9 div.sk-parallel-item:only-child::after {width: 0;}#sk-container-id-9 div.sk-dashed-wrapped {border: 1px dashed gray;margin: 0 0.4em 0.5em 0.4em;box-sizing: border-box;padding-bottom: 0.4em;background-color: white;}#sk-container-id-9 div.sk-label label {font-family: monospace;font-weight: bold;display: inline-block;line-height: 1.2em;}#sk-container-id-9 div.sk-label-container {text-align: center;}#sk-container-id-9 div.sk-container {/* jupyter's `normalize.less` sets `[hidden] { display: none; }` but bootstrap.min.css set `[hidden] { display: none !important; }` so we also need the `!important` here to be able to override the default hidden behavior on the sphinx rendered scikit-learn.org. See: https://github.com/scikit-learn/scikit-learn/issues/21755 */display: inline-block !important;position: relative;}#sk-container-id-9 div.sk-text-repr-fallback {display: none;}</style><div id=\"sk-container-id-9\" class=\"sk-top-container\"><div class=\"sk-text-repr-fallback\"><pre>RandomForestClassifier(random_state=42)</pre><b>In a Jupyter environment, please rerun this cell to show the HTML representation or trust the notebook. <br />On GitHub, the HTML representation is unable to render, please try loading this page with nbviewer.org.</b></div><div class=\"sk-container\" hidden><div class=\"sk-item\"><div class=\"sk-estimator sk-toggleable\"><input class=\"sk-toggleable__control sk-hidden--visually\" id=\"sk-estimator-id-9\" type=\"checkbox\" checked><label for=\"sk-estimator-id-9\" class=\"sk-toggleable__label sk-toggleable__label-arrow\">RandomForestClassifier</label><div class=\"sk-toggleable__content\"><pre>RandomForestClassifier(random_state=42)</pre></div></div></div></div></div>"
            ]
          },
          "metadata": {},
          "execution_count": 78
        }
      ]
    },
    {
      "cell_type": "markdown",
      "source": [
        "###### Predict and Evaluate"
      ],
      "metadata": {
        "id": "kUEm7faZCVUK"
      }
    },
    {
      "cell_type": "code",
      "source": [
        "Y_pred = rf_model_2019.predict(X_test_avg_2019)\n",
        "\n",
        "precision = precision_score(Y_test_2019, Y_pred_2019, average='weighted')\n",
        "recall = recall_score(Y_test_2019, Y_pred_2019, average='weighted')\n",
        "f1 = f1_score(Y_test_2019, Y_pred_2019, average='weighted')\n",
        "\n",
        "print(f\"Precision: {precision:.4f}\")\n",
        "print(f\"Recall: {recall:.4f}\")\n",
        "print(f\"F1-score: {f1:.4f}\")\n",
        "\n",
        "# Print classification report\n",
        "report = classification_report(Y_test_2019, Y_pred_2019)\n",
        "print(\"Classification Report:\\n\", report)"
      ],
      "metadata": {
        "colab": {
          "base_uri": "https://localhost:8080/"
        },
        "id": "ZcCR4UOOChD3",
        "outputId": "1ecd1aab-c57b-4532-a4d6-c4d802a2a731"
      },
      "execution_count": null,
      "outputs": [
        {
          "output_type": "stream",
          "name": "stdout",
          "text": [
            "Precision: 0.9176\n",
            "Recall: 0.9200\n",
            "F1-score: 0.9182\n",
            "Classification Report:\n",
            "               precision    recall  f1-score   support\n",
            "\n",
            "    NEGATIVE       0.82      0.73      0.77        75\n",
            "    POSITIVE       0.94      0.96      0.95       325\n",
            "\n",
            "    accuracy                           0.92       400\n",
            "   macro avg       0.88      0.85      0.86       400\n",
            "weighted avg       0.92      0.92      0.92       400\n",
            "\n"
          ]
        }
      ]
    },
    {
      "cell_type": "markdown",
      "source": [
        "###### 10 Fold Validation"
      ],
      "metadata": {
        "id": "M8TwmUq-CYhe"
      }
    },
    {
      "cell_type": "code",
      "source": [
        "NFoldVal(rf_model_2019, 10, X_train_avg_2019, Y_train_2019)"
      ],
      "metadata": {
        "colab": {
          "base_uri": "https://localhost:8080/"
        },
        "id": "gVqpao5DAxBG",
        "outputId": "0fcd823f-222c-45a9-c042-ecdff6c34f78"
      },
      "execution_count": null,
      "outputs": [
        {
          "output_type": "stream",
          "name": "stdout",
          "text": [
            "Fold 1\n",
            "Precision: 0.9034\n",
            "Recall: 0.9062\n",
            "F1-score: 0.9021\n",
            "------------------------------\n",
            "Fold 2\n",
            "Precision: 0.8891\n",
            "Recall: 0.8938\n",
            "F1-score: 0.8835\n",
            "------------------------------\n",
            "Fold 3\n",
            "Precision: 0.9251\n",
            "Recall: 0.9250\n",
            "F1-score: 0.9213\n",
            "------------------------------\n",
            "Fold 4\n",
            "Precision: 0.8950\n",
            "Recall: 0.9000\n",
            "F1-score: 0.8966\n",
            "------------------------------\n",
            "Fold 5\n",
            "Precision: 0.8722\n",
            "Recall: 0.8750\n",
            "F1-score: 0.8688\n",
            "------------------------------\n",
            "Fold 6\n",
            "Precision: 0.9151\n",
            "Recall: 0.9187\n",
            "F1-score: 0.9154\n",
            "------------------------------\n",
            "Fold 7\n",
            "Precision: 0.8686\n",
            "Recall: 0.8750\n",
            "F1-score: 0.8634\n",
            "------------------------------\n",
            "Fold 8\n",
            "Precision: 0.9297\n",
            "Recall: 0.9313\n",
            "F1-score: 0.9290\n",
            "------------------------------\n",
            "Fold 9\n",
            "Precision: 0.9168\n",
            "Recall: 0.9187\n",
            "F1-score: 0.9173\n",
            "------------------------------\n",
            "Fold 10\n",
            "Precision: 0.9030\n",
            "Recall: 0.9062\n",
            "F1-score: 0.9041\n",
            "------------------------------\n",
            "Mean Precision: 0.9018 (± 0.0198)\n",
            "Mean Recall: 0.9050 (± 0.0185)\n",
            "Mean F1-score: 0.9001 (± 0.0211)\n"
          ]
        }
      ]
    },
    {
      "cell_type": "markdown",
      "source": [
        "##### 2023"
      ],
      "metadata": {
        "id": "mU6m3znP7IZl"
      }
    },
    {
      "cell_type": "markdown",
      "source": [
        "###### Initialize Model"
      ],
      "metadata": {
        "id": "YOD4VbfZ7Xv5"
      }
    },
    {
      "cell_type": "code",
      "source": [
        "rf_model_2023 = RandomForestClassifier(n_estimators=100, random_state=42)"
      ],
      "metadata": {
        "id": "Sp10EWOP7g_2"
      },
      "execution_count": null,
      "outputs": []
    },
    {
      "cell_type": "markdown",
      "source": [
        "###### Train Model"
      ],
      "metadata": {
        "id": "fs9JM39J7aJz"
      }
    },
    {
      "cell_type": "code",
      "source": [
        "rf_model_2023.fit(X_train_avg_2023, Y_train_2023)"
      ],
      "metadata": {
        "colab": {
          "base_uri": "https://localhost:8080/",
          "height": 75
        },
        "id": "2BRMh8137jmi",
        "outputId": "df145993-0903-4907-e692-87ded12e2837"
      },
      "execution_count": null,
      "outputs": [
        {
          "output_type": "execute_result",
          "data": {
            "text/plain": [
              "RandomForestClassifier(random_state=42)"
            ],
            "text/html": [
              "<style>#sk-container-id-10 {color: black;background-color: white;}#sk-container-id-10 pre{padding: 0;}#sk-container-id-10 div.sk-toggleable {background-color: white;}#sk-container-id-10 label.sk-toggleable__label {cursor: pointer;display: block;width: 100%;margin-bottom: 0;padding: 0.3em;box-sizing: border-box;text-align: center;}#sk-container-id-10 label.sk-toggleable__label-arrow:before {content: \"▸\";float: left;margin-right: 0.25em;color: #696969;}#sk-container-id-10 label.sk-toggleable__label-arrow:hover:before {color: black;}#sk-container-id-10 div.sk-estimator:hover label.sk-toggleable__label-arrow:before {color: black;}#sk-container-id-10 div.sk-toggleable__content {max-height: 0;max-width: 0;overflow: hidden;text-align: left;background-color: #f0f8ff;}#sk-container-id-10 div.sk-toggleable__content pre {margin: 0.2em;color: black;border-radius: 0.25em;background-color: #f0f8ff;}#sk-container-id-10 input.sk-toggleable__control:checked~div.sk-toggleable__content {max-height: 200px;max-width: 100%;overflow: auto;}#sk-container-id-10 input.sk-toggleable__control:checked~label.sk-toggleable__label-arrow:before {content: \"▾\";}#sk-container-id-10 div.sk-estimator input.sk-toggleable__control:checked~label.sk-toggleable__label {background-color: #d4ebff;}#sk-container-id-10 div.sk-label input.sk-toggleable__control:checked~label.sk-toggleable__label {background-color: #d4ebff;}#sk-container-id-10 input.sk-hidden--visually {border: 0;clip: rect(1px 1px 1px 1px);clip: rect(1px, 1px, 1px, 1px);height: 1px;margin: -1px;overflow: hidden;padding: 0;position: absolute;width: 1px;}#sk-container-id-10 div.sk-estimator {font-family: monospace;background-color: #f0f8ff;border: 1px dotted black;border-radius: 0.25em;box-sizing: border-box;margin-bottom: 0.5em;}#sk-container-id-10 div.sk-estimator:hover {background-color: #d4ebff;}#sk-container-id-10 div.sk-parallel-item::after {content: \"\";width: 100%;border-bottom: 1px solid gray;flex-grow: 1;}#sk-container-id-10 div.sk-label:hover label.sk-toggleable__label {background-color: #d4ebff;}#sk-container-id-10 div.sk-serial::before {content: \"\";position: absolute;border-left: 1px solid gray;box-sizing: border-box;top: 0;bottom: 0;left: 50%;z-index: 0;}#sk-container-id-10 div.sk-serial {display: flex;flex-direction: column;align-items: center;background-color: white;padding-right: 0.2em;padding-left: 0.2em;position: relative;}#sk-container-id-10 div.sk-item {position: relative;z-index: 1;}#sk-container-id-10 div.sk-parallel {display: flex;align-items: stretch;justify-content: center;background-color: white;position: relative;}#sk-container-id-10 div.sk-item::before, #sk-container-id-10 div.sk-parallel-item::before {content: \"\";position: absolute;border-left: 1px solid gray;box-sizing: border-box;top: 0;bottom: 0;left: 50%;z-index: -1;}#sk-container-id-10 div.sk-parallel-item {display: flex;flex-direction: column;z-index: 1;position: relative;background-color: white;}#sk-container-id-10 div.sk-parallel-item:first-child::after {align-self: flex-end;width: 50%;}#sk-container-id-10 div.sk-parallel-item:last-child::after {align-self: flex-start;width: 50%;}#sk-container-id-10 div.sk-parallel-item:only-child::after {width: 0;}#sk-container-id-10 div.sk-dashed-wrapped {border: 1px dashed gray;margin: 0 0.4em 0.5em 0.4em;box-sizing: border-box;padding-bottom: 0.4em;background-color: white;}#sk-container-id-10 div.sk-label label {font-family: monospace;font-weight: bold;display: inline-block;line-height: 1.2em;}#sk-container-id-10 div.sk-label-container {text-align: center;}#sk-container-id-10 div.sk-container {/* jupyter's `normalize.less` sets `[hidden] { display: none; }` but bootstrap.min.css set `[hidden] { display: none !important; }` so we also need the `!important` here to be able to override the default hidden behavior on the sphinx rendered scikit-learn.org. See: https://github.com/scikit-learn/scikit-learn/issues/21755 */display: inline-block !important;position: relative;}#sk-container-id-10 div.sk-text-repr-fallback {display: none;}</style><div id=\"sk-container-id-10\" class=\"sk-top-container\"><div class=\"sk-text-repr-fallback\"><pre>RandomForestClassifier(random_state=42)</pre><b>In a Jupyter environment, please rerun this cell to show the HTML representation or trust the notebook. <br />On GitHub, the HTML representation is unable to render, please try loading this page with nbviewer.org.</b></div><div class=\"sk-container\" hidden><div class=\"sk-item\"><div class=\"sk-estimator sk-toggleable\"><input class=\"sk-toggleable__control sk-hidden--visually\" id=\"sk-estimator-id-10\" type=\"checkbox\" checked><label for=\"sk-estimator-id-10\" class=\"sk-toggleable__label sk-toggleable__label-arrow\">RandomForestClassifier</label><div class=\"sk-toggleable__content\"><pre>RandomForestClassifier(random_state=42)</pre></div></div></div></div></div>"
            ]
          },
          "metadata": {},
          "execution_count": 82
        }
      ]
    },
    {
      "cell_type": "markdown",
      "source": [
        "###### Predict and Evaluate"
      ],
      "metadata": {
        "id": "vNkiHwMQ7cPx"
      }
    },
    {
      "cell_type": "code",
      "source": [
        "Y_pred = rf_model_2023.predict(X_test_avg_2023)\n",
        "\n",
        "precision = precision_score(Y_test_2023, Y_pred_2023, average='weighted')\n",
        "recall = recall_score(Y_test_2023, Y_pred_2023, average='weighted')\n",
        "f1 = f1_score(Y_test_2023, Y_pred_2023, average='weighted')\n",
        "\n",
        "print(f\"Precision: {precision:.4f}\")\n",
        "print(f\"Recall: {recall:.4f}\")\n",
        "print(f\"F1-score: {f1:.4f}\")\n",
        "\n",
        "report = classification_report(Y_test_2023, Y_pred_2023)\n",
        "print(\"Classification Report:\\n\", report)"
      ],
      "metadata": {
        "colab": {
          "base_uri": "https://localhost:8080/"
        },
        "id": "I2FQ6rwa7miV",
        "outputId": "299c05f7-cdfe-4df5-b008-b6288650469a"
      },
      "execution_count": null,
      "outputs": [
        {
          "output_type": "stream",
          "name": "stdout",
          "text": [
            "Precision: 0.8940\n",
            "Recall: 0.8975\n",
            "F1-score: 0.8908\n",
            "Classification Report:\n",
            "               precision    recall  f1-score   support\n",
            "\n",
            "    NEGATIVE       0.84      0.60      0.71        81\n",
            "    POSITIVE       0.91      0.97      0.94       319\n",
            "\n",
            "    accuracy                           0.90       400\n",
            "   macro avg       0.88      0.79      0.82       400\n",
            "weighted avg       0.89      0.90      0.89       400\n",
            "\n"
          ]
        }
      ]
    },
    {
      "cell_type": "markdown",
      "source": [
        "###### 10 Fold Validation"
      ],
      "metadata": {
        "id": "a7pGVcDZ7eUl"
      }
    },
    {
      "cell_type": "code",
      "source": [
        "NFoldVal(rf_model_2023, 10, X_train_avg_2023, Y_train_2023)"
      ],
      "metadata": {
        "id": "BL3Nxqja7tda",
        "colab": {
          "base_uri": "https://localhost:8080/"
        },
        "outputId": "5a0986b9-c350-40fa-9fbd-fb6f70189064"
      },
      "execution_count": null,
      "outputs": [
        {
          "output_type": "stream",
          "name": "stdout",
          "text": [
            "Fold 1\n",
            "Precision: 0.9367\n",
            "Recall: 0.9313\n",
            "F1-score: 0.9252\n",
            "------------------------------\n",
            "Fold 2\n",
            "Precision: 0.9142\n",
            "Recall: 0.9187\n",
            "F1-score: 0.9148\n",
            "------------------------------\n",
            "Fold 3\n",
            "Precision: 0.8995\n",
            "Recall: 0.9000\n",
            "F1-score: 0.8944\n",
            "------------------------------\n",
            "Fold 4\n",
            "Precision: 0.9359\n",
            "Recall: 0.9375\n",
            "F1-score: 0.9364\n",
            "------------------------------\n",
            "Fold 5\n",
            "Precision: 0.9488\n",
            "Recall: 0.9500\n",
            "F1-score: 0.9491\n",
            "------------------------------\n",
            "Fold 6\n",
            "Precision: 0.8709\n",
            "Recall: 0.8750\n",
            "F1-score: 0.8722\n",
            "------------------------------\n",
            "Fold 7\n",
            "Precision: 0.8822\n",
            "Recall: 0.8875\n",
            "F1-score: 0.8830\n",
            "------------------------------\n",
            "Fold 8\n",
            "Precision: 0.9421\n",
            "Recall: 0.9437\n",
            "F1-score: 0.9423\n",
            "------------------------------\n",
            "Fold 9\n",
            "Precision: 0.8978\n",
            "Recall: 0.9000\n",
            "F1-score: 0.8930\n",
            "------------------------------\n",
            "Fold 10\n",
            "Precision: 0.9079\n",
            "Recall: 0.9062\n",
            "F1-score: 0.9003\n",
            "------------------------------\n",
            "Mean Precision: 0.9136 (± 0.0253)\n",
            "Mean Recall: 0.9150 (± 0.0239)\n",
            "Mean F1-score: 0.9111 (± 0.0251)\n"
          ]
        }
      ]
    },
    {
      "cell_type": "markdown",
      "metadata": {
        "id": "1qTxAdt2xg5o"
      },
      "source": [
        "#### KNN"
      ]
    },
    {
      "cell_type": "markdown",
      "source": [
        "- `Trains a K-Nearest Neighbors (KNN) classifier with 5 neighbors on the average embeddings of the training data and makes predictions on the test data.`\n",
        "- `Calculates and prints precision, recall, and F1-score, along with a detailed classification report, and performs 10-fold cross-validation.`\n"
      ],
      "metadata": {
        "id": "ZvDbIzgCSif7"
      }
    },
    {
      "cell_type": "markdown",
      "source": [
        "##### 2019"
      ],
      "metadata": {
        "id": "MWFUGo4VD1Rp"
      }
    },
    {
      "cell_type": "markdown",
      "source": [
        "###### Initialize"
      ],
      "metadata": {
        "id": "TSdtRgQbD3n5"
      }
    },
    {
      "cell_type": "code",
      "source": [
        "knn_model_2019 = KNeighborsClassifier(n_neighbors=5)"
      ],
      "metadata": {
        "id": "wP2C7FSlD3C1"
      },
      "execution_count": null,
      "outputs": []
    },
    {
      "cell_type": "markdown",
      "source": [
        "###### Train Model"
      ],
      "metadata": {
        "id": "aaxvEKz5D-2w"
      }
    },
    {
      "cell_type": "code",
      "source": [
        "knn_model_2019.fit(X_train_avg_2019, Y_train_2019)"
      ],
      "metadata": {
        "colab": {
          "base_uri": "https://localhost:8080/",
          "height": 75
        },
        "id": "qkNBu0x3D_Yb",
        "outputId": "fa15bca1-cdf7-47c7-9aae-11380223ba58"
      },
      "execution_count": null,
      "outputs": [
        {
          "output_type": "execute_result",
          "data": {
            "text/plain": [
              "KNeighborsClassifier()"
            ],
            "text/html": [
              "<style>#sk-container-id-11 {color: black;background-color: white;}#sk-container-id-11 pre{padding: 0;}#sk-container-id-11 div.sk-toggleable {background-color: white;}#sk-container-id-11 label.sk-toggleable__label {cursor: pointer;display: block;width: 100%;margin-bottom: 0;padding: 0.3em;box-sizing: border-box;text-align: center;}#sk-container-id-11 label.sk-toggleable__label-arrow:before {content: \"▸\";float: left;margin-right: 0.25em;color: #696969;}#sk-container-id-11 label.sk-toggleable__label-arrow:hover:before {color: black;}#sk-container-id-11 div.sk-estimator:hover label.sk-toggleable__label-arrow:before {color: black;}#sk-container-id-11 div.sk-toggleable__content {max-height: 0;max-width: 0;overflow: hidden;text-align: left;background-color: #f0f8ff;}#sk-container-id-11 div.sk-toggleable__content pre {margin: 0.2em;color: black;border-radius: 0.25em;background-color: #f0f8ff;}#sk-container-id-11 input.sk-toggleable__control:checked~div.sk-toggleable__content {max-height: 200px;max-width: 100%;overflow: auto;}#sk-container-id-11 input.sk-toggleable__control:checked~label.sk-toggleable__label-arrow:before {content: \"▾\";}#sk-container-id-11 div.sk-estimator input.sk-toggleable__control:checked~label.sk-toggleable__label {background-color: #d4ebff;}#sk-container-id-11 div.sk-label input.sk-toggleable__control:checked~label.sk-toggleable__label {background-color: #d4ebff;}#sk-container-id-11 input.sk-hidden--visually {border: 0;clip: rect(1px 1px 1px 1px);clip: rect(1px, 1px, 1px, 1px);height: 1px;margin: -1px;overflow: hidden;padding: 0;position: absolute;width: 1px;}#sk-container-id-11 div.sk-estimator {font-family: monospace;background-color: #f0f8ff;border: 1px dotted black;border-radius: 0.25em;box-sizing: border-box;margin-bottom: 0.5em;}#sk-container-id-11 div.sk-estimator:hover {background-color: #d4ebff;}#sk-container-id-11 div.sk-parallel-item::after {content: \"\";width: 100%;border-bottom: 1px solid gray;flex-grow: 1;}#sk-container-id-11 div.sk-label:hover label.sk-toggleable__label {background-color: #d4ebff;}#sk-container-id-11 div.sk-serial::before {content: \"\";position: absolute;border-left: 1px solid gray;box-sizing: border-box;top: 0;bottom: 0;left: 50%;z-index: 0;}#sk-container-id-11 div.sk-serial {display: flex;flex-direction: column;align-items: center;background-color: white;padding-right: 0.2em;padding-left: 0.2em;position: relative;}#sk-container-id-11 div.sk-item {position: relative;z-index: 1;}#sk-container-id-11 div.sk-parallel {display: flex;align-items: stretch;justify-content: center;background-color: white;position: relative;}#sk-container-id-11 div.sk-item::before, #sk-container-id-11 div.sk-parallel-item::before {content: \"\";position: absolute;border-left: 1px solid gray;box-sizing: border-box;top: 0;bottom: 0;left: 50%;z-index: -1;}#sk-container-id-11 div.sk-parallel-item {display: flex;flex-direction: column;z-index: 1;position: relative;background-color: white;}#sk-container-id-11 div.sk-parallel-item:first-child::after {align-self: flex-end;width: 50%;}#sk-container-id-11 div.sk-parallel-item:last-child::after {align-self: flex-start;width: 50%;}#sk-container-id-11 div.sk-parallel-item:only-child::after {width: 0;}#sk-container-id-11 div.sk-dashed-wrapped {border: 1px dashed gray;margin: 0 0.4em 0.5em 0.4em;box-sizing: border-box;padding-bottom: 0.4em;background-color: white;}#sk-container-id-11 div.sk-label label {font-family: monospace;font-weight: bold;display: inline-block;line-height: 1.2em;}#sk-container-id-11 div.sk-label-container {text-align: center;}#sk-container-id-11 div.sk-container {/* jupyter's `normalize.less` sets `[hidden] { display: none; }` but bootstrap.min.css set `[hidden] { display: none !important; }` so we also need the `!important` here to be able to override the default hidden behavior on the sphinx rendered scikit-learn.org. See: https://github.com/scikit-learn/scikit-learn/issues/21755 */display: inline-block !important;position: relative;}#sk-container-id-11 div.sk-text-repr-fallback {display: none;}</style><div id=\"sk-container-id-11\" class=\"sk-top-container\"><div class=\"sk-text-repr-fallback\"><pre>KNeighborsClassifier()</pre><b>In a Jupyter environment, please rerun this cell to show the HTML representation or trust the notebook. <br />On GitHub, the HTML representation is unable to render, please try loading this page with nbviewer.org.</b></div><div class=\"sk-container\" hidden><div class=\"sk-item\"><div class=\"sk-estimator sk-toggleable\"><input class=\"sk-toggleable__control sk-hidden--visually\" id=\"sk-estimator-id-11\" type=\"checkbox\" checked><label for=\"sk-estimator-id-11\" class=\"sk-toggleable__label sk-toggleable__label-arrow\">KNeighborsClassifier</label><div class=\"sk-toggleable__content\"><pre>KNeighborsClassifier()</pre></div></div></div></div></div>"
            ]
          },
          "metadata": {},
          "execution_count": 86
        }
      ]
    },
    {
      "cell_type": "markdown",
      "source": [
        "###### Predict and Evaluate"
      ],
      "metadata": {
        "id": "uIuJ4XmED_qU"
      }
    },
    {
      "cell_type": "code",
      "source": [
        "Y_pred = knn_model_2019.predict(X_test_avg_2019)\n",
        "\n",
        "precision = precision_score(Y_test_2019, Y_pred_2019, average='weighted')\n",
        "recall = recall_score(Y_test_2019, Y_pred_2019, average='weighted')\n",
        "f1 = f1_score(Y_test_2019, Y_pred_2019, average='weighted')\n",
        "\n",
        "print(f\"Precision: {precision:.4f}\")\n",
        "print(f\"Recall: {recall:.4f}\")\n",
        "print(f\"F1-score: {f1:.4f}\")\n",
        "\n",
        "report = classification_report(Y_test_2019, Y_pred_2019)\n",
        "print(\"Classification Report:\\n\", report)"
      ],
      "metadata": {
        "colab": {
          "base_uri": "https://localhost:8080/"
        },
        "id": "HAj5WFveEADc",
        "outputId": "f78e4cb8-4291-465d-e67e-6872d23ff023"
      },
      "execution_count": null,
      "outputs": [
        {
          "output_type": "stream",
          "name": "stdout",
          "text": [
            "Precision: 0.9176\n",
            "Recall: 0.9200\n",
            "F1-score: 0.9182\n",
            "Classification Report:\n",
            "               precision    recall  f1-score   support\n",
            "\n",
            "    NEGATIVE       0.82      0.73      0.77        75\n",
            "    POSITIVE       0.94      0.96      0.95       325\n",
            "\n",
            "    accuracy                           0.92       400\n",
            "   macro avg       0.88      0.85      0.86       400\n",
            "weighted avg       0.92      0.92      0.92       400\n",
            "\n"
          ]
        }
      ]
    },
    {
      "cell_type": "markdown",
      "source": [
        "###### 10 Fold Validation"
      ],
      "metadata": {
        "id": "TbCFmgvgEGbb"
      }
    },
    {
      "cell_type": "code",
      "source": [
        "NFoldVal(knn_model_2019, 10, X_train_avg_2019, Y_train_2019)"
      ],
      "metadata": {
        "colab": {
          "base_uri": "https://localhost:8080/"
        },
        "id": "oHSoFZ6eF_zQ",
        "outputId": "5dd2deeb-3598-4f77-b47c-e0e66bdd6b49"
      },
      "execution_count": null,
      "outputs": [
        {
          "output_type": "stream",
          "name": "stdout",
          "text": [
            "Fold 1\n",
            "Precision: 0.9034\n",
            "Recall: 0.9062\n",
            "F1-score: 0.9021\n",
            "------------------------------\n",
            "Fold 2\n",
            "Precision: 0.8821\n",
            "Recall: 0.8875\n",
            "F1-score: 0.8753\n",
            "------------------------------\n",
            "Fold 3\n",
            "Precision: 0.8899\n",
            "Recall: 0.8938\n",
            "F1-score: 0.8893\n",
            "------------------------------\n",
            "Fold 4\n",
            "Precision: 0.8843\n",
            "Recall: 0.8875\n",
            "F1-score: 0.8857\n",
            "------------------------------\n",
            "Fold 5\n",
            "Precision: 0.8582\n",
            "Recall: 0.8625\n",
            "F1-score: 0.8557\n",
            "------------------------------\n",
            "Fold 6\n",
            "Precision: 0.9087\n",
            "Recall: 0.9125\n",
            "F1-score: 0.9096\n",
            "------------------------------\n",
            "Fold 7\n",
            "Precision: 0.8676\n",
            "Recall: 0.8750\n",
            "F1-score: 0.8680\n",
            "------------------------------\n",
            "Fold 8\n",
            "Precision: 0.9125\n",
            "Recall: 0.9125\n",
            "F1-score: 0.9125\n",
            "------------------------------\n",
            "Fold 9\n",
            "Precision: 0.9125\n",
            "Recall: 0.9125\n",
            "F1-score: 0.9125\n",
            "------------------------------\n",
            "Fold 10\n",
            "Precision: 0.9030\n",
            "Recall: 0.9062\n",
            "F1-score: 0.9041\n",
            "------------------------------\n",
            "Mean Precision: 0.8922 (± 0.0181)\n",
            "Mean Recall: 0.8956 (± 0.0165)\n",
            "Mean F1-score: 0.8915 (± 0.0190)\n"
          ]
        }
      ]
    },
    {
      "cell_type": "markdown",
      "source": [
        "##### 2023"
      ],
      "metadata": {
        "id": "fY2buMRd7w6A"
      }
    },
    {
      "cell_type": "markdown",
      "source": [
        "###### Initialize"
      ],
      "metadata": {
        "id": "wYcBzzok7-Ra"
      }
    },
    {
      "cell_type": "code",
      "source": [
        "knn_model_2023 = KNeighborsClassifier(n_neighbors=5)"
      ],
      "metadata": {
        "id": "kGQ4m9X08JTr"
      },
      "execution_count": null,
      "outputs": []
    },
    {
      "cell_type": "markdown",
      "source": [
        "###### Train Model"
      ],
      "metadata": {
        "id": "00pQrysr8BBA"
      }
    },
    {
      "cell_type": "code",
      "source": [
        "knn_model_2023.fit(X_train_avg_2023, Y_train_2023)"
      ],
      "metadata": {
        "colab": {
          "base_uri": "https://localhost:8080/",
          "height": 75
        },
        "id": "uCdc2YIr8Mtm",
        "outputId": "9007d11b-5e27-4bdf-be3d-35d6db66345b"
      },
      "execution_count": null,
      "outputs": [
        {
          "output_type": "execute_result",
          "data": {
            "text/plain": [
              "KNeighborsClassifier()"
            ],
            "text/html": [
              "<style>#sk-container-id-12 {color: black;background-color: white;}#sk-container-id-12 pre{padding: 0;}#sk-container-id-12 div.sk-toggleable {background-color: white;}#sk-container-id-12 label.sk-toggleable__label {cursor: pointer;display: block;width: 100%;margin-bottom: 0;padding: 0.3em;box-sizing: border-box;text-align: center;}#sk-container-id-12 label.sk-toggleable__label-arrow:before {content: \"▸\";float: left;margin-right: 0.25em;color: #696969;}#sk-container-id-12 label.sk-toggleable__label-arrow:hover:before {color: black;}#sk-container-id-12 div.sk-estimator:hover label.sk-toggleable__label-arrow:before {color: black;}#sk-container-id-12 div.sk-toggleable__content {max-height: 0;max-width: 0;overflow: hidden;text-align: left;background-color: #f0f8ff;}#sk-container-id-12 div.sk-toggleable__content pre {margin: 0.2em;color: black;border-radius: 0.25em;background-color: #f0f8ff;}#sk-container-id-12 input.sk-toggleable__control:checked~div.sk-toggleable__content {max-height: 200px;max-width: 100%;overflow: auto;}#sk-container-id-12 input.sk-toggleable__control:checked~label.sk-toggleable__label-arrow:before {content: \"▾\";}#sk-container-id-12 div.sk-estimator input.sk-toggleable__control:checked~label.sk-toggleable__label {background-color: #d4ebff;}#sk-container-id-12 div.sk-label input.sk-toggleable__control:checked~label.sk-toggleable__label {background-color: #d4ebff;}#sk-container-id-12 input.sk-hidden--visually {border: 0;clip: rect(1px 1px 1px 1px);clip: rect(1px, 1px, 1px, 1px);height: 1px;margin: -1px;overflow: hidden;padding: 0;position: absolute;width: 1px;}#sk-container-id-12 div.sk-estimator {font-family: monospace;background-color: #f0f8ff;border: 1px dotted black;border-radius: 0.25em;box-sizing: border-box;margin-bottom: 0.5em;}#sk-container-id-12 div.sk-estimator:hover {background-color: #d4ebff;}#sk-container-id-12 div.sk-parallel-item::after {content: \"\";width: 100%;border-bottom: 1px solid gray;flex-grow: 1;}#sk-container-id-12 div.sk-label:hover label.sk-toggleable__label {background-color: #d4ebff;}#sk-container-id-12 div.sk-serial::before {content: \"\";position: absolute;border-left: 1px solid gray;box-sizing: border-box;top: 0;bottom: 0;left: 50%;z-index: 0;}#sk-container-id-12 div.sk-serial {display: flex;flex-direction: column;align-items: center;background-color: white;padding-right: 0.2em;padding-left: 0.2em;position: relative;}#sk-container-id-12 div.sk-item {position: relative;z-index: 1;}#sk-container-id-12 div.sk-parallel {display: flex;align-items: stretch;justify-content: center;background-color: white;position: relative;}#sk-container-id-12 div.sk-item::before, #sk-container-id-12 div.sk-parallel-item::before {content: \"\";position: absolute;border-left: 1px solid gray;box-sizing: border-box;top: 0;bottom: 0;left: 50%;z-index: -1;}#sk-container-id-12 div.sk-parallel-item {display: flex;flex-direction: column;z-index: 1;position: relative;background-color: white;}#sk-container-id-12 div.sk-parallel-item:first-child::after {align-self: flex-end;width: 50%;}#sk-container-id-12 div.sk-parallel-item:last-child::after {align-self: flex-start;width: 50%;}#sk-container-id-12 div.sk-parallel-item:only-child::after {width: 0;}#sk-container-id-12 div.sk-dashed-wrapped {border: 1px dashed gray;margin: 0 0.4em 0.5em 0.4em;box-sizing: border-box;padding-bottom: 0.4em;background-color: white;}#sk-container-id-12 div.sk-label label {font-family: monospace;font-weight: bold;display: inline-block;line-height: 1.2em;}#sk-container-id-12 div.sk-label-container {text-align: center;}#sk-container-id-12 div.sk-container {/* jupyter's `normalize.less` sets `[hidden] { display: none; }` but bootstrap.min.css set `[hidden] { display: none !important; }` so we also need the `!important` here to be able to override the default hidden behavior on the sphinx rendered scikit-learn.org. See: https://github.com/scikit-learn/scikit-learn/issues/21755 */display: inline-block !important;position: relative;}#sk-container-id-12 div.sk-text-repr-fallback {display: none;}</style><div id=\"sk-container-id-12\" class=\"sk-top-container\"><div class=\"sk-text-repr-fallback\"><pre>KNeighborsClassifier()</pre><b>In a Jupyter environment, please rerun this cell to show the HTML representation or trust the notebook. <br />On GitHub, the HTML representation is unable to render, please try loading this page with nbviewer.org.</b></div><div class=\"sk-container\" hidden><div class=\"sk-item\"><div class=\"sk-estimator sk-toggleable\"><input class=\"sk-toggleable__control sk-hidden--visually\" id=\"sk-estimator-id-12\" type=\"checkbox\" checked><label for=\"sk-estimator-id-12\" class=\"sk-toggleable__label sk-toggleable__label-arrow\">KNeighborsClassifier</label><div class=\"sk-toggleable__content\"><pre>KNeighborsClassifier()</pre></div></div></div></div></div>"
            ]
          },
          "metadata": {},
          "execution_count": 90
        }
      ]
    },
    {
      "cell_type": "markdown",
      "source": [
        "###### Predict and Evaluate"
      ],
      "metadata": {
        "id": "NMxDD8li8E1y"
      }
    },
    {
      "cell_type": "code",
      "source": [
        "Y_pred = knn_model_2023.predict(X_test_avg_2023)\n",
        "\n",
        "precision = precision_score(Y_test_2023, Y_pred_2023, average='weighted')\n",
        "recall = recall_score(Y_test_2023, Y_pred_2023, average='weighted')\n",
        "f1 = f1_score(Y_test_2023, Y_pred_2023, average='weighted')\n",
        "\n",
        "# Print the metrics with 4 decimal places\n",
        "print(f\"Precision: {precision:.4f}\")\n",
        "print(f\"Recall: {recall:.4f}\")\n",
        "print(f\"F1-score: {f1:.4f}\")\n",
        "\n",
        "# Print classification report\n",
        "report = classification_report(Y_test_2023, Y_pred_2023)\n",
        "print(\"Classification Report:\\n\", report)"
      ],
      "metadata": {
        "colab": {
          "base_uri": "https://localhost:8080/"
        },
        "id": "GqB5gRyR8PdE",
        "outputId": "a75f0762-9834-422d-c57a-db3470333226"
      },
      "execution_count": null,
      "outputs": [
        {
          "output_type": "stream",
          "name": "stdout",
          "text": [
            "Precision: 0.8940\n",
            "Recall: 0.8975\n",
            "F1-score: 0.8908\n",
            "Classification Report:\n",
            "               precision    recall  f1-score   support\n",
            "\n",
            "    NEGATIVE       0.84      0.60      0.71        81\n",
            "    POSITIVE       0.91      0.97      0.94       319\n",
            "\n",
            "    accuracy                           0.90       400\n",
            "   macro avg       0.88      0.79      0.82       400\n",
            "weighted avg       0.89      0.90      0.89       400\n",
            "\n"
          ]
        }
      ]
    },
    {
      "cell_type": "markdown",
      "source": [
        "###### 10 Fold Validation"
      ],
      "metadata": {
        "id": "vBSpQbrz8HAN"
      }
    },
    {
      "cell_type": "code",
      "source": [
        "NFoldVal(knn_model_2023, 10, X_train_avg_2023, Y_train_2023)"
      ],
      "metadata": {
        "colab": {
          "base_uri": "https://localhost:8080/"
        },
        "id": "aq0nU8dK8WjA",
        "outputId": "2fd4f222-9eaa-4c7d-bea5-2f2d7b9b2011"
      },
      "execution_count": null,
      "outputs": [
        {
          "output_type": "stream",
          "name": "stdout",
          "text": [
            "Fold 1\n",
            "Precision: 0.9212\n",
            "Recall: 0.9187\n",
            "F1-score: 0.9116\n",
            "------------------------------\n",
            "Fold 2\n",
            "Precision: 0.8956\n",
            "Recall: 0.8938\n",
            "F1-score: 0.8946\n",
            "------------------------------\n",
            "Fold 3\n",
            "Precision: 0.8776\n",
            "Recall: 0.8812\n",
            "F1-score: 0.8754\n",
            "------------------------------\n",
            "Fold 4\n",
            "Precision: 0.9448\n",
            "Recall: 0.9437\n",
            "F1-score: 0.9442\n",
            "------------------------------\n",
            "Fold 5\n",
            "Precision: 0.9448\n",
            "Recall: 0.9437\n",
            "F1-score: 0.9442\n",
            "------------------------------\n",
            "Fold 6\n",
            "Precision: 0.8578\n",
            "Recall: 0.8625\n",
            "F1-score: 0.8594\n",
            "------------------------------\n",
            "Fold 7\n",
            "Precision: 0.8822\n",
            "Recall: 0.8875\n",
            "F1-score: 0.8830\n",
            "------------------------------\n",
            "Fold 8\n",
            "Precision: 0.9360\n",
            "Recall: 0.9375\n",
            "F1-score: 0.9365\n",
            "------------------------------\n",
            "Fold 9\n",
            "Precision: 0.8898\n",
            "Recall: 0.8938\n",
            "F1-score: 0.8872\n",
            "------------------------------\n",
            "Fold 10\n",
            "Precision: 0.9196\n",
            "Recall: 0.9187\n",
            "F1-score: 0.9147\n",
            "------------------------------\n",
            "Mean Precision: 0.9069 (± 0.0290)\n",
            "Mean Recall: 0.9081 (± 0.0270)\n",
            "Mean F1-score: 0.9051 (± 0.0284)\n"
          ]
        }
      ]
    }
  ],
  "metadata": {
    "colab": {
      "provenance": [],
      "toc_visible": true
    },
    "kernelspec": {
      "display_name": "Python 3",
      "language": "python",
      "name": "python3"
    },
    "language_info": {
      "codemirror_mode": {
        "name": "ipython",
        "version": 3
      },
      "file_extension": ".py",
      "mimetype": "text/x-python",
      "name": "python",
      "nbconvert_exporter": "python",
      "pygments_lexer": "ipython3",
      "version": "3.10.12"
    },
    "widgets": {
      "application/vnd.jupyter.widget-state+json": {
        "cc53c6a82b8449a1ac82125ccc3c7509": {
          "model_module": "@jupyter-widgets/controls",
          "model_name": "HBoxModel",
          "model_module_version": "1.5.0",
          "state": {
            "_dom_classes": [],
            "_model_module": "@jupyter-widgets/controls",
            "_model_module_version": "1.5.0",
            "_model_name": "HBoxModel",
            "_view_count": null,
            "_view_module": "@jupyter-widgets/controls",
            "_view_module_version": "1.5.0",
            "_view_name": "HBoxView",
            "box_style": "",
            "children": [
              "IPY_MODEL_439152d90c8b451d92b253e9f72b8fa3",
              "IPY_MODEL_e83d8e3d34b344b3baedb28befd6168d",
              "IPY_MODEL_23c6424a076245a991c7cd0267208eec"
            ],
            "layout": "IPY_MODEL_40961c7317d54be1a7b5215e400de9df"
          }
        },
        "439152d90c8b451d92b253e9f72b8fa3": {
          "model_module": "@jupyter-widgets/controls",
          "model_name": "HTMLModel",
          "model_module_version": "1.5.0",
          "state": {
            "_dom_classes": [],
            "_model_module": "@jupyter-widgets/controls",
            "_model_module_version": "1.5.0",
            "_model_name": "HTMLModel",
            "_view_count": null,
            "_view_module": "@jupyter-widgets/controls",
            "_view_module_version": "1.5.0",
            "_view_name": "HTMLView",
            "description": "",
            "description_tooltip": null,
            "layout": "IPY_MODEL_5f2fe80f89d74f41b680e0c8a96276e0",
            "placeholder": "​",
            "style": "IPY_MODEL_6b8d1ae6d9784e5f92a14e862d8793e9",
            "value": "config.json: 100%"
          }
        },
        "e83d8e3d34b344b3baedb28befd6168d": {
          "model_module": "@jupyter-widgets/controls",
          "model_name": "FloatProgressModel",
          "model_module_version": "1.5.0",
          "state": {
            "_dom_classes": [],
            "_model_module": "@jupyter-widgets/controls",
            "_model_module_version": "1.5.0",
            "_model_name": "FloatProgressModel",
            "_view_count": null,
            "_view_module": "@jupyter-widgets/controls",
            "_view_module_version": "1.5.0",
            "_view_name": "ProgressView",
            "bar_style": "success",
            "description": "",
            "description_tooltip": null,
            "layout": "IPY_MODEL_30ba08a91fc443e6a246a810c613dc27",
            "max": 629,
            "min": 0,
            "orientation": "horizontal",
            "style": "IPY_MODEL_fb62074785254ebd85ca7495c0c66ef0",
            "value": 629
          }
        },
        "23c6424a076245a991c7cd0267208eec": {
          "model_module": "@jupyter-widgets/controls",
          "model_name": "HTMLModel",
          "model_module_version": "1.5.0",
          "state": {
            "_dom_classes": [],
            "_model_module": "@jupyter-widgets/controls",
            "_model_module_version": "1.5.0",
            "_model_name": "HTMLModel",
            "_view_count": null,
            "_view_module": "@jupyter-widgets/controls",
            "_view_module_version": "1.5.0",
            "_view_name": "HTMLView",
            "description": "",
            "description_tooltip": null,
            "layout": "IPY_MODEL_64668771e66749a1a595576a8e7e8e93",
            "placeholder": "​",
            "style": "IPY_MODEL_e50a537000a04ada90e00a4ad9b48fbc",
            "value": " 629/629 [00:00&lt;00:00, 21.8kB/s]"
          }
        },
        "40961c7317d54be1a7b5215e400de9df": {
          "model_module": "@jupyter-widgets/base",
          "model_name": "LayoutModel",
          "model_module_version": "1.2.0",
          "state": {
            "_model_module": "@jupyter-widgets/base",
            "_model_module_version": "1.2.0",
            "_model_name": "LayoutModel",
            "_view_count": null,
            "_view_module": "@jupyter-widgets/base",
            "_view_module_version": "1.2.0",
            "_view_name": "LayoutView",
            "align_content": null,
            "align_items": null,
            "align_self": null,
            "border": null,
            "bottom": null,
            "display": null,
            "flex": null,
            "flex_flow": null,
            "grid_area": null,
            "grid_auto_columns": null,
            "grid_auto_flow": null,
            "grid_auto_rows": null,
            "grid_column": null,
            "grid_gap": null,
            "grid_row": null,
            "grid_template_areas": null,
            "grid_template_columns": null,
            "grid_template_rows": null,
            "height": null,
            "justify_content": null,
            "justify_items": null,
            "left": null,
            "margin": null,
            "max_height": null,
            "max_width": null,
            "min_height": null,
            "min_width": null,
            "object_fit": null,
            "object_position": null,
            "order": null,
            "overflow": null,
            "overflow_x": null,
            "overflow_y": null,
            "padding": null,
            "right": null,
            "top": null,
            "visibility": null,
            "width": null
          }
        },
        "5f2fe80f89d74f41b680e0c8a96276e0": {
          "model_module": "@jupyter-widgets/base",
          "model_name": "LayoutModel",
          "model_module_version": "1.2.0",
          "state": {
            "_model_module": "@jupyter-widgets/base",
            "_model_module_version": "1.2.0",
            "_model_name": "LayoutModel",
            "_view_count": null,
            "_view_module": "@jupyter-widgets/base",
            "_view_module_version": "1.2.0",
            "_view_name": "LayoutView",
            "align_content": null,
            "align_items": null,
            "align_self": null,
            "border": null,
            "bottom": null,
            "display": null,
            "flex": null,
            "flex_flow": null,
            "grid_area": null,
            "grid_auto_columns": null,
            "grid_auto_flow": null,
            "grid_auto_rows": null,
            "grid_column": null,
            "grid_gap": null,
            "grid_row": null,
            "grid_template_areas": null,
            "grid_template_columns": null,
            "grid_template_rows": null,
            "height": null,
            "justify_content": null,
            "justify_items": null,
            "left": null,
            "margin": null,
            "max_height": null,
            "max_width": null,
            "min_height": null,
            "min_width": null,
            "object_fit": null,
            "object_position": null,
            "order": null,
            "overflow": null,
            "overflow_x": null,
            "overflow_y": null,
            "padding": null,
            "right": null,
            "top": null,
            "visibility": null,
            "width": null
          }
        },
        "6b8d1ae6d9784e5f92a14e862d8793e9": {
          "model_module": "@jupyter-widgets/controls",
          "model_name": "DescriptionStyleModel",
          "model_module_version": "1.5.0",
          "state": {
            "_model_module": "@jupyter-widgets/controls",
            "_model_module_version": "1.5.0",
            "_model_name": "DescriptionStyleModel",
            "_view_count": null,
            "_view_module": "@jupyter-widgets/base",
            "_view_module_version": "1.2.0",
            "_view_name": "StyleView",
            "description_width": ""
          }
        },
        "30ba08a91fc443e6a246a810c613dc27": {
          "model_module": "@jupyter-widgets/base",
          "model_name": "LayoutModel",
          "model_module_version": "1.2.0",
          "state": {
            "_model_module": "@jupyter-widgets/base",
            "_model_module_version": "1.2.0",
            "_model_name": "LayoutModel",
            "_view_count": null,
            "_view_module": "@jupyter-widgets/base",
            "_view_module_version": "1.2.0",
            "_view_name": "LayoutView",
            "align_content": null,
            "align_items": null,
            "align_self": null,
            "border": null,
            "bottom": null,
            "display": null,
            "flex": null,
            "flex_flow": null,
            "grid_area": null,
            "grid_auto_columns": null,
            "grid_auto_flow": null,
            "grid_auto_rows": null,
            "grid_column": null,
            "grid_gap": null,
            "grid_row": null,
            "grid_template_areas": null,
            "grid_template_columns": null,
            "grid_template_rows": null,
            "height": null,
            "justify_content": null,
            "justify_items": null,
            "left": null,
            "margin": null,
            "max_height": null,
            "max_width": null,
            "min_height": null,
            "min_width": null,
            "object_fit": null,
            "object_position": null,
            "order": null,
            "overflow": null,
            "overflow_x": null,
            "overflow_y": null,
            "padding": null,
            "right": null,
            "top": null,
            "visibility": null,
            "width": null
          }
        },
        "fb62074785254ebd85ca7495c0c66ef0": {
          "model_module": "@jupyter-widgets/controls",
          "model_name": "ProgressStyleModel",
          "model_module_version": "1.5.0",
          "state": {
            "_model_module": "@jupyter-widgets/controls",
            "_model_module_version": "1.5.0",
            "_model_name": "ProgressStyleModel",
            "_view_count": null,
            "_view_module": "@jupyter-widgets/base",
            "_view_module_version": "1.2.0",
            "_view_name": "StyleView",
            "bar_color": null,
            "description_width": ""
          }
        },
        "64668771e66749a1a595576a8e7e8e93": {
          "model_module": "@jupyter-widgets/base",
          "model_name": "LayoutModel",
          "model_module_version": "1.2.0",
          "state": {
            "_model_module": "@jupyter-widgets/base",
            "_model_module_version": "1.2.0",
            "_model_name": "LayoutModel",
            "_view_count": null,
            "_view_module": "@jupyter-widgets/base",
            "_view_module_version": "1.2.0",
            "_view_name": "LayoutView",
            "align_content": null,
            "align_items": null,
            "align_self": null,
            "border": null,
            "bottom": null,
            "display": null,
            "flex": null,
            "flex_flow": null,
            "grid_area": null,
            "grid_auto_columns": null,
            "grid_auto_flow": null,
            "grid_auto_rows": null,
            "grid_column": null,
            "grid_gap": null,
            "grid_row": null,
            "grid_template_areas": null,
            "grid_template_columns": null,
            "grid_template_rows": null,
            "height": null,
            "justify_content": null,
            "justify_items": null,
            "left": null,
            "margin": null,
            "max_height": null,
            "max_width": null,
            "min_height": null,
            "min_width": null,
            "object_fit": null,
            "object_position": null,
            "order": null,
            "overflow": null,
            "overflow_x": null,
            "overflow_y": null,
            "padding": null,
            "right": null,
            "top": null,
            "visibility": null,
            "width": null
          }
        },
        "e50a537000a04ada90e00a4ad9b48fbc": {
          "model_module": "@jupyter-widgets/controls",
          "model_name": "DescriptionStyleModel",
          "model_module_version": "1.5.0",
          "state": {
            "_model_module": "@jupyter-widgets/controls",
            "_model_module_version": "1.5.0",
            "_model_name": "DescriptionStyleModel",
            "_view_count": null,
            "_view_module": "@jupyter-widgets/base",
            "_view_module_version": "1.2.0",
            "_view_name": "StyleView",
            "description_width": ""
          }
        },
        "60b60034f7df4bb2a25dafea05d88ab0": {
          "model_module": "@jupyter-widgets/controls",
          "model_name": "HBoxModel",
          "model_module_version": "1.5.0",
          "state": {
            "_dom_classes": [],
            "_model_module": "@jupyter-widgets/controls",
            "_model_module_version": "1.5.0",
            "_model_name": "HBoxModel",
            "_view_count": null,
            "_view_module": "@jupyter-widgets/controls",
            "_view_module_version": "1.5.0",
            "_view_name": "HBoxView",
            "box_style": "",
            "children": [
              "IPY_MODEL_5e158d065d4b4cb981d159072fd2fbb8",
              "IPY_MODEL_571a5dbb84534480aec49491a5ee06fc",
              "IPY_MODEL_977655db41ed47ee92ccedfcd116c749"
            ],
            "layout": "IPY_MODEL_950d43f09c7c4fd0a857f3522d5d3223"
          }
        },
        "5e158d065d4b4cb981d159072fd2fbb8": {
          "model_module": "@jupyter-widgets/controls",
          "model_name": "HTMLModel",
          "model_module_version": "1.5.0",
          "state": {
            "_dom_classes": [],
            "_model_module": "@jupyter-widgets/controls",
            "_model_module_version": "1.5.0",
            "_model_name": "HTMLModel",
            "_view_count": null,
            "_view_module": "@jupyter-widgets/controls",
            "_view_module_version": "1.5.0",
            "_view_name": "HTMLView",
            "description": "",
            "description_tooltip": null,
            "layout": "IPY_MODEL_a2b9cc06cb5946a9b8d4477a529de2ec",
            "placeholder": "​",
            "style": "IPY_MODEL_1beac072e8394142976d81c9c7551ed4",
            "value": "model.safetensors: 100%"
          }
        },
        "571a5dbb84534480aec49491a5ee06fc": {
          "model_module": "@jupyter-widgets/controls",
          "model_name": "FloatProgressModel",
          "model_module_version": "1.5.0",
          "state": {
            "_dom_classes": [],
            "_model_module": "@jupyter-widgets/controls",
            "_model_module_version": "1.5.0",
            "_model_name": "FloatProgressModel",
            "_view_count": null,
            "_view_module": "@jupyter-widgets/controls",
            "_view_module_version": "1.5.0",
            "_view_name": "ProgressView",
            "bar_style": "success",
            "description": "",
            "description_tooltip": null,
            "layout": "IPY_MODEL_51196a92d44546b497f8c15575c9d45f",
            "max": 267832558,
            "min": 0,
            "orientation": "horizontal",
            "style": "IPY_MODEL_d40769a292ce44069f3087e135795cb4",
            "value": 267832558
          }
        },
        "977655db41ed47ee92ccedfcd116c749": {
          "model_module": "@jupyter-widgets/controls",
          "model_name": "HTMLModel",
          "model_module_version": "1.5.0",
          "state": {
            "_dom_classes": [],
            "_model_module": "@jupyter-widgets/controls",
            "_model_module_version": "1.5.0",
            "_model_name": "HTMLModel",
            "_view_count": null,
            "_view_module": "@jupyter-widgets/controls",
            "_view_module_version": "1.5.0",
            "_view_name": "HTMLView",
            "description": "",
            "description_tooltip": null,
            "layout": "IPY_MODEL_e2e0039455a3426e814e69f90532f037",
            "placeholder": "​",
            "style": "IPY_MODEL_758b9c2de1414d23a0f070dfd194c345",
            "value": " 268M/268M [00:02&lt;00:00, 131MB/s]"
          }
        },
        "950d43f09c7c4fd0a857f3522d5d3223": {
          "model_module": "@jupyter-widgets/base",
          "model_name": "LayoutModel",
          "model_module_version": "1.2.0",
          "state": {
            "_model_module": "@jupyter-widgets/base",
            "_model_module_version": "1.2.0",
            "_model_name": "LayoutModel",
            "_view_count": null,
            "_view_module": "@jupyter-widgets/base",
            "_view_module_version": "1.2.0",
            "_view_name": "LayoutView",
            "align_content": null,
            "align_items": null,
            "align_self": null,
            "border": null,
            "bottom": null,
            "display": null,
            "flex": null,
            "flex_flow": null,
            "grid_area": null,
            "grid_auto_columns": null,
            "grid_auto_flow": null,
            "grid_auto_rows": null,
            "grid_column": null,
            "grid_gap": null,
            "grid_row": null,
            "grid_template_areas": null,
            "grid_template_columns": null,
            "grid_template_rows": null,
            "height": null,
            "justify_content": null,
            "justify_items": null,
            "left": null,
            "margin": null,
            "max_height": null,
            "max_width": null,
            "min_height": null,
            "min_width": null,
            "object_fit": null,
            "object_position": null,
            "order": null,
            "overflow": null,
            "overflow_x": null,
            "overflow_y": null,
            "padding": null,
            "right": null,
            "top": null,
            "visibility": null,
            "width": null
          }
        },
        "a2b9cc06cb5946a9b8d4477a529de2ec": {
          "model_module": "@jupyter-widgets/base",
          "model_name": "LayoutModel",
          "model_module_version": "1.2.0",
          "state": {
            "_model_module": "@jupyter-widgets/base",
            "_model_module_version": "1.2.0",
            "_model_name": "LayoutModel",
            "_view_count": null,
            "_view_module": "@jupyter-widgets/base",
            "_view_module_version": "1.2.0",
            "_view_name": "LayoutView",
            "align_content": null,
            "align_items": null,
            "align_self": null,
            "border": null,
            "bottom": null,
            "display": null,
            "flex": null,
            "flex_flow": null,
            "grid_area": null,
            "grid_auto_columns": null,
            "grid_auto_flow": null,
            "grid_auto_rows": null,
            "grid_column": null,
            "grid_gap": null,
            "grid_row": null,
            "grid_template_areas": null,
            "grid_template_columns": null,
            "grid_template_rows": null,
            "height": null,
            "justify_content": null,
            "justify_items": null,
            "left": null,
            "margin": null,
            "max_height": null,
            "max_width": null,
            "min_height": null,
            "min_width": null,
            "object_fit": null,
            "object_position": null,
            "order": null,
            "overflow": null,
            "overflow_x": null,
            "overflow_y": null,
            "padding": null,
            "right": null,
            "top": null,
            "visibility": null,
            "width": null
          }
        },
        "1beac072e8394142976d81c9c7551ed4": {
          "model_module": "@jupyter-widgets/controls",
          "model_name": "DescriptionStyleModel",
          "model_module_version": "1.5.0",
          "state": {
            "_model_module": "@jupyter-widgets/controls",
            "_model_module_version": "1.5.0",
            "_model_name": "DescriptionStyleModel",
            "_view_count": null,
            "_view_module": "@jupyter-widgets/base",
            "_view_module_version": "1.2.0",
            "_view_name": "StyleView",
            "description_width": ""
          }
        },
        "51196a92d44546b497f8c15575c9d45f": {
          "model_module": "@jupyter-widgets/base",
          "model_name": "LayoutModel",
          "model_module_version": "1.2.0",
          "state": {
            "_model_module": "@jupyter-widgets/base",
            "_model_module_version": "1.2.0",
            "_model_name": "LayoutModel",
            "_view_count": null,
            "_view_module": "@jupyter-widgets/base",
            "_view_module_version": "1.2.0",
            "_view_name": "LayoutView",
            "align_content": null,
            "align_items": null,
            "align_self": null,
            "border": null,
            "bottom": null,
            "display": null,
            "flex": null,
            "flex_flow": null,
            "grid_area": null,
            "grid_auto_columns": null,
            "grid_auto_flow": null,
            "grid_auto_rows": null,
            "grid_column": null,
            "grid_gap": null,
            "grid_row": null,
            "grid_template_areas": null,
            "grid_template_columns": null,
            "grid_template_rows": null,
            "height": null,
            "justify_content": null,
            "justify_items": null,
            "left": null,
            "margin": null,
            "max_height": null,
            "max_width": null,
            "min_height": null,
            "min_width": null,
            "object_fit": null,
            "object_position": null,
            "order": null,
            "overflow": null,
            "overflow_x": null,
            "overflow_y": null,
            "padding": null,
            "right": null,
            "top": null,
            "visibility": null,
            "width": null
          }
        },
        "d40769a292ce44069f3087e135795cb4": {
          "model_module": "@jupyter-widgets/controls",
          "model_name": "ProgressStyleModel",
          "model_module_version": "1.5.0",
          "state": {
            "_model_module": "@jupyter-widgets/controls",
            "_model_module_version": "1.5.0",
            "_model_name": "ProgressStyleModel",
            "_view_count": null,
            "_view_module": "@jupyter-widgets/base",
            "_view_module_version": "1.2.0",
            "_view_name": "StyleView",
            "bar_color": null,
            "description_width": ""
          }
        },
        "e2e0039455a3426e814e69f90532f037": {
          "model_module": "@jupyter-widgets/base",
          "model_name": "LayoutModel",
          "model_module_version": "1.2.0",
          "state": {
            "_model_module": "@jupyter-widgets/base",
            "_model_module_version": "1.2.0",
            "_model_name": "LayoutModel",
            "_view_count": null,
            "_view_module": "@jupyter-widgets/base",
            "_view_module_version": "1.2.0",
            "_view_name": "LayoutView",
            "align_content": null,
            "align_items": null,
            "align_self": null,
            "border": null,
            "bottom": null,
            "display": null,
            "flex": null,
            "flex_flow": null,
            "grid_area": null,
            "grid_auto_columns": null,
            "grid_auto_flow": null,
            "grid_auto_rows": null,
            "grid_column": null,
            "grid_gap": null,
            "grid_row": null,
            "grid_template_areas": null,
            "grid_template_columns": null,
            "grid_template_rows": null,
            "height": null,
            "justify_content": null,
            "justify_items": null,
            "left": null,
            "margin": null,
            "max_height": null,
            "max_width": null,
            "min_height": null,
            "min_width": null,
            "object_fit": null,
            "object_position": null,
            "order": null,
            "overflow": null,
            "overflow_x": null,
            "overflow_y": null,
            "padding": null,
            "right": null,
            "top": null,
            "visibility": null,
            "width": null
          }
        },
        "758b9c2de1414d23a0f070dfd194c345": {
          "model_module": "@jupyter-widgets/controls",
          "model_name": "DescriptionStyleModel",
          "model_module_version": "1.5.0",
          "state": {
            "_model_module": "@jupyter-widgets/controls",
            "_model_module_version": "1.5.0",
            "_model_name": "DescriptionStyleModel",
            "_view_count": null,
            "_view_module": "@jupyter-widgets/base",
            "_view_module_version": "1.2.0",
            "_view_name": "StyleView",
            "description_width": ""
          }
        },
        "026b2705fda045c2aa9428154b2bd203": {
          "model_module": "@jupyter-widgets/controls",
          "model_name": "HBoxModel",
          "model_module_version": "1.5.0",
          "state": {
            "_dom_classes": [],
            "_model_module": "@jupyter-widgets/controls",
            "_model_module_version": "1.5.0",
            "_model_name": "HBoxModel",
            "_view_count": null,
            "_view_module": "@jupyter-widgets/controls",
            "_view_module_version": "1.5.0",
            "_view_name": "HBoxView",
            "box_style": "",
            "children": [
              "IPY_MODEL_fd56ee7bb9544261aaa0a7a69cdb9f14",
              "IPY_MODEL_3788d0b86f004610893714737545d3e0",
              "IPY_MODEL_72cc5a342ea14ee2a7e082a6ab80aeb9"
            ],
            "layout": "IPY_MODEL_ac2169208d6449ceb4b642e258e1c0be"
          }
        },
        "fd56ee7bb9544261aaa0a7a69cdb9f14": {
          "model_module": "@jupyter-widgets/controls",
          "model_name": "HTMLModel",
          "model_module_version": "1.5.0",
          "state": {
            "_dom_classes": [],
            "_model_module": "@jupyter-widgets/controls",
            "_model_module_version": "1.5.0",
            "_model_name": "HTMLModel",
            "_view_count": null,
            "_view_module": "@jupyter-widgets/controls",
            "_view_module_version": "1.5.0",
            "_view_name": "HTMLView",
            "description": "",
            "description_tooltip": null,
            "layout": "IPY_MODEL_719f6978a5bc4bb794da7b80843ee6a6",
            "placeholder": "​",
            "style": "IPY_MODEL_68ae6fed69be44f09ebb10cafc0b2d5a",
            "value": "tokenizer_config.json: 100%"
          }
        },
        "3788d0b86f004610893714737545d3e0": {
          "model_module": "@jupyter-widgets/controls",
          "model_name": "FloatProgressModel",
          "model_module_version": "1.5.0",
          "state": {
            "_dom_classes": [],
            "_model_module": "@jupyter-widgets/controls",
            "_model_module_version": "1.5.0",
            "_model_name": "FloatProgressModel",
            "_view_count": null,
            "_view_module": "@jupyter-widgets/controls",
            "_view_module_version": "1.5.0",
            "_view_name": "ProgressView",
            "bar_style": "success",
            "description": "",
            "description_tooltip": null,
            "layout": "IPY_MODEL_f390e5cfe9274966a977971b2801fa80",
            "max": 48,
            "min": 0,
            "orientation": "horizontal",
            "style": "IPY_MODEL_30058d73fafe441f923a63372b5cf291",
            "value": 48
          }
        },
        "72cc5a342ea14ee2a7e082a6ab80aeb9": {
          "model_module": "@jupyter-widgets/controls",
          "model_name": "HTMLModel",
          "model_module_version": "1.5.0",
          "state": {
            "_dom_classes": [],
            "_model_module": "@jupyter-widgets/controls",
            "_model_module_version": "1.5.0",
            "_model_name": "HTMLModel",
            "_view_count": null,
            "_view_module": "@jupyter-widgets/controls",
            "_view_module_version": "1.5.0",
            "_view_name": "HTMLView",
            "description": "",
            "description_tooltip": null,
            "layout": "IPY_MODEL_c9e944bf67f14a508f1fbd7c462182b4",
            "placeholder": "​",
            "style": "IPY_MODEL_a5415314d56d49598aa0ed46aa7a0858",
            "value": " 48.0/48.0 [00:00&lt;00:00, 1.80kB/s]"
          }
        },
        "ac2169208d6449ceb4b642e258e1c0be": {
          "model_module": "@jupyter-widgets/base",
          "model_name": "LayoutModel",
          "model_module_version": "1.2.0",
          "state": {
            "_model_module": "@jupyter-widgets/base",
            "_model_module_version": "1.2.0",
            "_model_name": "LayoutModel",
            "_view_count": null,
            "_view_module": "@jupyter-widgets/base",
            "_view_module_version": "1.2.0",
            "_view_name": "LayoutView",
            "align_content": null,
            "align_items": null,
            "align_self": null,
            "border": null,
            "bottom": null,
            "display": null,
            "flex": null,
            "flex_flow": null,
            "grid_area": null,
            "grid_auto_columns": null,
            "grid_auto_flow": null,
            "grid_auto_rows": null,
            "grid_column": null,
            "grid_gap": null,
            "grid_row": null,
            "grid_template_areas": null,
            "grid_template_columns": null,
            "grid_template_rows": null,
            "height": null,
            "justify_content": null,
            "justify_items": null,
            "left": null,
            "margin": null,
            "max_height": null,
            "max_width": null,
            "min_height": null,
            "min_width": null,
            "object_fit": null,
            "object_position": null,
            "order": null,
            "overflow": null,
            "overflow_x": null,
            "overflow_y": null,
            "padding": null,
            "right": null,
            "top": null,
            "visibility": null,
            "width": null
          }
        },
        "719f6978a5bc4bb794da7b80843ee6a6": {
          "model_module": "@jupyter-widgets/base",
          "model_name": "LayoutModel",
          "model_module_version": "1.2.0",
          "state": {
            "_model_module": "@jupyter-widgets/base",
            "_model_module_version": "1.2.0",
            "_model_name": "LayoutModel",
            "_view_count": null,
            "_view_module": "@jupyter-widgets/base",
            "_view_module_version": "1.2.0",
            "_view_name": "LayoutView",
            "align_content": null,
            "align_items": null,
            "align_self": null,
            "border": null,
            "bottom": null,
            "display": null,
            "flex": null,
            "flex_flow": null,
            "grid_area": null,
            "grid_auto_columns": null,
            "grid_auto_flow": null,
            "grid_auto_rows": null,
            "grid_column": null,
            "grid_gap": null,
            "grid_row": null,
            "grid_template_areas": null,
            "grid_template_columns": null,
            "grid_template_rows": null,
            "height": null,
            "justify_content": null,
            "justify_items": null,
            "left": null,
            "margin": null,
            "max_height": null,
            "max_width": null,
            "min_height": null,
            "min_width": null,
            "object_fit": null,
            "object_position": null,
            "order": null,
            "overflow": null,
            "overflow_x": null,
            "overflow_y": null,
            "padding": null,
            "right": null,
            "top": null,
            "visibility": null,
            "width": null
          }
        },
        "68ae6fed69be44f09ebb10cafc0b2d5a": {
          "model_module": "@jupyter-widgets/controls",
          "model_name": "DescriptionStyleModel",
          "model_module_version": "1.5.0",
          "state": {
            "_model_module": "@jupyter-widgets/controls",
            "_model_module_version": "1.5.0",
            "_model_name": "DescriptionStyleModel",
            "_view_count": null,
            "_view_module": "@jupyter-widgets/base",
            "_view_module_version": "1.2.0",
            "_view_name": "StyleView",
            "description_width": ""
          }
        },
        "f390e5cfe9274966a977971b2801fa80": {
          "model_module": "@jupyter-widgets/base",
          "model_name": "LayoutModel",
          "model_module_version": "1.2.0",
          "state": {
            "_model_module": "@jupyter-widgets/base",
            "_model_module_version": "1.2.0",
            "_model_name": "LayoutModel",
            "_view_count": null,
            "_view_module": "@jupyter-widgets/base",
            "_view_module_version": "1.2.0",
            "_view_name": "LayoutView",
            "align_content": null,
            "align_items": null,
            "align_self": null,
            "border": null,
            "bottom": null,
            "display": null,
            "flex": null,
            "flex_flow": null,
            "grid_area": null,
            "grid_auto_columns": null,
            "grid_auto_flow": null,
            "grid_auto_rows": null,
            "grid_column": null,
            "grid_gap": null,
            "grid_row": null,
            "grid_template_areas": null,
            "grid_template_columns": null,
            "grid_template_rows": null,
            "height": null,
            "justify_content": null,
            "justify_items": null,
            "left": null,
            "margin": null,
            "max_height": null,
            "max_width": null,
            "min_height": null,
            "min_width": null,
            "object_fit": null,
            "object_position": null,
            "order": null,
            "overflow": null,
            "overflow_x": null,
            "overflow_y": null,
            "padding": null,
            "right": null,
            "top": null,
            "visibility": null,
            "width": null
          }
        },
        "30058d73fafe441f923a63372b5cf291": {
          "model_module": "@jupyter-widgets/controls",
          "model_name": "ProgressStyleModel",
          "model_module_version": "1.5.0",
          "state": {
            "_model_module": "@jupyter-widgets/controls",
            "_model_module_version": "1.5.0",
            "_model_name": "ProgressStyleModel",
            "_view_count": null,
            "_view_module": "@jupyter-widgets/base",
            "_view_module_version": "1.2.0",
            "_view_name": "StyleView",
            "bar_color": null,
            "description_width": ""
          }
        },
        "c9e944bf67f14a508f1fbd7c462182b4": {
          "model_module": "@jupyter-widgets/base",
          "model_name": "LayoutModel",
          "model_module_version": "1.2.0",
          "state": {
            "_model_module": "@jupyter-widgets/base",
            "_model_module_version": "1.2.0",
            "_model_name": "LayoutModel",
            "_view_count": null,
            "_view_module": "@jupyter-widgets/base",
            "_view_module_version": "1.2.0",
            "_view_name": "LayoutView",
            "align_content": null,
            "align_items": null,
            "align_self": null,
            "border": null,
            "bottom": null,
            "display": null,
            "flex": null,
            "flex_flow": null,
            "grid_area": null,
            "grid_auto_columns": null,
            "grid_auto_flow": null,
            "grid_auto_rows": null,
            "grid_column": null,
            "grid_gap": null,
            "grid_row": null,
            "grid_template_areas": null,
            "grid_template_columns": null,
            "grid_template_rows": null,
            "height": null,
            "justify_content": null,
            "justify_items": null,
            "left": null,
            "margin": null,
            "max_height": null,
            "max_width": null,
            "min_height": null,
            "min_width": null,
            "object_fit": null,
            "object_position": null,
            "order": null,
            "overflow": null,
            "overflow_x": null,
            "overflow_y": null,
            "padding": null,
            "right": null,
            "top": null,
            "visibility": null,
            "width": null
          }
        },
        "a5415314d56d49598aa0ed46aa7a0858": {
          "model_module": "@jupyter-widgets/controls",
          "model_name": "DescriptionStyleModel",
          "model_module_version": "1.5.0",
          "state": {
            "_model_module": "@jupyter-widgets/controls",
            "_model_module_version": "1.5.0",
            "_model_name": "DescriptionStyleModel",
            "_view_count": null,
            "_view_module": "@jupyter-widgets/base",
            "_view_module_version": "1.2.0",
            "_view_name": "StyleView",
            "description_width": ""
          }
        },
        "061d7482e995447782beede797d836e1": {
          "model_module": "@jupyter-widgets/controls",
          "model_name": "HBoxModel",
          "model_module_version": "1.5.0",
          "state": {
            "_dom_classes": [],
            "_model_module": "@jupyter-widgets/controls",
            "_model_module_version": "1.5.0",
            "_model_name": "HBoxModel",
            "_view_count": null,
            "_view_module": "@jupyter-widgets/controls",
            "_view_module_version": "1.5.0",
            "_view_name": "HBoxView",
            "box_style": "",
            "children": [
              "IPY_MODEL_647cc95132ce4250b5d5d961719c4538",
              "IPY_MODEL_a26ffe87e71e4f1f91280dc5ecbe9b4a",
              "IPY_MODEL_ce9b0161107c49eba95b0cd76f4b59c7"
            ],
            "layout": "IPY_MODEL_b90eeb7ac25948b08d79b47ffafcd98b"
          }
        },
        "647cc95132ce4250b5d5d961719c4538": {
          "model_module": "@jupyter-widgets/controls",
          "model_name": "HTMLModel",
          "model_module_version": "1.5.0",
          "state": {
            "_dom_classes": [],
            "_model_module": "@jupyter-widgets/controls",
            "_model_module_version": "1.5.0",
            "_model_name": "HTMLModel",
            "_view_count": null,
            "_view_module": "@jupyter-widgets/controls",
            "_view_module_version": "1.5.0",
            "_view_name": "HTMLView",
            "description": "",
            "description_tooltip": null,
            "layout": "IPY_MODEL_3b691026154e4e5fb46afd1b5e68a566",
            "placeholder": "​",
            "style": "IPY_MODEL_589e2a2a0fdb4d21b16fef29e08791a1",
            "value": "vocab.txt: 100%"
          }
        },
        "a26ffe87e71e4f1f91280dc5ecbe9b4a": {
          "model_module": "@jupyter-widgets/controls",
          "model_name": "FloatProgressModel",
          "model_module_version": "1.5.0",
          "state": {
            "_dom_classes": [],
            "_model_module": "@jupyter-widgets/controls",
            "_model_module_version": "1.5.0",
            "_model_name": "FloatProgressModel",
            "_view_count": null,
            "_view_module": "@jupyter-widgets/controls",
            "_view_module_version": "1.5.0",
            "_view_name": "ProgressView",
            "bar_style": "success",
            "description": "",
            "description_tooltip": null,
            "layout": "IPY_MODEL_6cbc731a91c047ec9a0a802e4426690c",
            "max": 231508,
            "min": 0,
            "orientation": "horizontal",
            "style": "IPY_MODEL_eb4696b46d664cfca21432f014d736cc",
            "value": 231508
          }
        },
        "ce9b0161107c49eba95b0cd76f4b59c7": {
          "model_module": "@jupyter-widgets/controls",
          "model_name": "HTMLModel",
          "model_module_version": "1.5.0",
          "state": {
            "_dom_classes": [],
            "_model_module": "@jupyter-widgets/controls",
            "_model_module_version": "1.5.0",
            "_model_name": "HTMLModel",
            "_view_count": null,
            "_view_module": "@jupyter-widgets/controls",
            "_view_module_version": "1.5.0",
            "_view_name": "HTMLView",
            "description": "",
            "description_tooltip": null,
            "layout": "IPY_MODEL_a2dfa55c0b35430a9e53694ca30f093e",
            "placeholder": "​",
            "style": "IPY_MODEL_90325a54ae4a42118b3509266a0c5081",
            "value": " 232k/232k [00:00&lt;00:00, 3.75MB/s]"
          }
        },
        "b90eeb7ac25948b08d79b47ffafcd98b": {
          "model_module": "@jupyter-widgets/base",
          "model_name": "LayoutModel",
          "model_module_version": "1.2.0",
          "state": {
            "_model_module": "@jupyter-widgets/base",
            "_model_module_version": "1.2.0",
            "_model_name": "LayoutModel",
            "_view_count": null,
            "_view_module": "@jupyter-widgets/base",
            "_view_module_version": "1.2.0",
            "_view_name": "LayoutView",
            "align_content": null,
            "align_items": null,
            "align_self": null,
            "border": null,
            "bottom": null,
            "display": null,
            "flex": null,
            "flex_flow": null,
            "grid_area": null,
            "grid_auto_columns": null,
            "grid_auto_flow": null,
            "grid_auto_rows": null,
            "grid_column": null,
            "grid_gap": null,
            "grid_row": null,
            "grid_template_areas": null,
            "grid_template_columns": null,
            "grid_template_rows": null,
            "height": null,
            "justify_content": null,
            "justify_items": null,
            "left": null,
            "margin": null,
            "max_height": null,
            "max_width": null,
            "min_height": null,
            "min_width": null,
            "object_fit": null,
            "object_position": null,
            "order": null,
            "overflow": null,
            "overflow_x": null,
            "overflow_y": null,
            "padding": null,
            "right": null,
            "top": null,
            "visibility": null,
            "width": null
          }
        },
        "3b691026154e4e5fb46afd1b5e68a566": {
          "model_module": "@jupyter-widgets/base",
          "model_name": "LayoutModel",
          "model_module_version": "1.2.0",
          "state": {
            "_model_module": "@jupyter-widgets/base",
            "_model_module_version": "1.2.0",
            "_model_name": "LayoutModel",
            "_view_count": null,
            "_view_module": "@jupyter-widgets/base",
            "_view_module_version": "1.2.0",
            "_view_name": "LayoutView",
            "align_content": null,
            "align_items": null,
            "align_self": null,
            "border": null,
            "bottom": null,
            "display": null,
            "flex": null,
            "flex_flow": null,
            "grid_area": null,
            "grid_auto_columns": null,
            "grid_auto_flow": null,
            "grid_auto_rows": null,
            "grid_column": null,
            "grid_gap": null,
            "grid_row": null,
            "grid_template_areas": null,
            "grid_template_columns": null,
            "grid_template_rows": null,
            "height": null,
            "justify_content": null,
            "justify_items": null,
            "left": null,
            "margin": null,
            "max_height": null,
            "max_width": null,
            "min_height": null,
            "min_width": null,
            "object_fit": null,
            "object_position": null,
            "order": null,
            "overflow": null,
            "overflow_x": null,
            "overflow_y": null,
            "padding": null,
            "right": null,
            "top": null,
            "visibility": null,
            "width": null
          }
        },
        "589e2a2a0fdb4d21b16fef29e08791a1": {
          "model_module": "@jupyter-widgets/controls",
          "model_name": "DescriptionStyleModel",
          "model_module_version": "1.5.0",
          "state": {
            "_model_module": "@jupyter-widgets/controls",
            "_model_module_version": "1.5.0",
            "_model_name": "DescriptionStyleModel",
            "_view_count": null,
            "_view_module": "@jupyter-widgets/base",
            "_view_module_version": "1.2.0",
            "_view_name": "StyleView",
            "description_width": ""
          }
        },
        "6cbc731a91c047ec9a0a802e4426690c": {
          "model_module": "@jupyter-widgets/base",
          "model_name": "LayoutModel",
          "model_module_version": "1.2.0",
          "state": {
            "_model_module": "@jupyter-widgets/base",
            "_model_module_version": "1.2.0",
            "_model_name": "LayoutModel",
            "_view_count": null,
            "_view_module": "@jupyter-widgets/base",
            "_view_module_version": "1.2.0",
            "_view_name": "LayoutView",
            "align_content": null,
            "align_items": null,
            "align_self": null,
            "border": null,
            "bottom": null,
            "display": null,
            "flex": null,
            "flex_flow": null,
            "grid_area": null,
            "grid_auto_columns": null,
            "grid_auto_flow": null,
            "grid_auto_rows": null,
            "grid_column": null,
            "grid_gap": null,
            "grid_row": null,
            "grid_template_areas": null,
            "grid_template_columns": null,
            "grid_template_rows": null,
            "height": null,
            "justify_content": null,
            "justify_items": null,
            "left": null,
            "margin": null,
            "max_height": null,
            "max_width": null,
            "min_height": null,
            "min_width": null,
            "object_fit": null,
            "object_position": null,
            "order": null,
            "overflow": null,
            "overflow_x": null,
            "overflow_y": null,
            "padding": null,
            "right": null,
            "top": null,
            "visibility": null,
            "width": null
          }
        },
        "eb4696b46d664cfca21432f014d736cc": {
          "model_module": "@jupyter-widgets/controls",
          "model_name": "ProgressStyleModel",
          "model_module_version": "1.5.0",
          "state": {
            "_model_module": "@jupyter-widgets/controls",
            "_model_module_version": "1.5.0",
            "_model_name": "ProgressStyleModel",
            "_view_count": null,
            "_view_module": "@jupyter-widgets/base",
            "_view_module_version": "1.2.0",
            "_view_name": "StyleView",
            "bar_color": null,
            "description_width": ""
          }
        },
        "a2dfa55c0b35430a9e53694ca30f093e": {
          "model_module": "@jupyter-widgets/base",
          "model_name": "LayoutModel",
          "model_module_version": "1.2.0",
          "state": {
            "_model_module": "@jupyter-widgets/base",
            "_model_module_version": "1.2.0",
            "_model_name": "LayoutModel",
            "_view_count": null,
            "_view_module": "@jupyter-widgets/base",
            "_view_module_version": "1.2.0",
            "_view_name": "LayoutView",
            "align_content": null,
            "align_items": null,
            "align_self": null,
            "border": null,
            "bottom": null,
            "display": null,
            "flex": null,
            "flex_flow": null,
            "grid_area": null,
            "grid_auto_columns": null,
            "grid_auto_flow": null,
            "grid_auto_rows": null,
            "grid_column": null,
            "grid_gap": null,
            "grid_row": null,
            "grid_template_areas": null,
            "grid_template_columns": null,
            "grid_template_rows": null,
            "height": null,
            "justify_content": null,
            "justify_items": null,
            "left": null,
            "margin": null,
            "max_height": null,
            "max_width": null,
            "min_height": null,
            "min_width": null,
            "object_fit": null,
            "object_position": null,
            "order": null,
            "overflow": null,
            "overflow_x": null,
            "overflow_y": null,
            "padding": null,
            "right": null,
            "top": null,
            "visibility": null,
            "width": null
          }
        },
        "90325a54ae4a42118b3509266a0c5081": {
          "model_module": "@jupyter-widgets/controls",
          "model_name": "DescriptionStyleModel",
          "model_module_version": "1.5.0",
          "state": {
            "_model_module": "@jupyter-widgets/controls",
            "_model_module_version": "1.5.0",
            "_model_name": "DescriptionStyleModel",
            "_view_count": null,
            "_view_module": "@jupyter-widgets/base",
            "_view_module_version": "1.2.0",
            "_view_name": "StyleView",
            "description_width": ""
          }
        }
      }
    }
  },
  "nbformat": 4,
  "nbformat_minor": 0
}